{
 "cells": [
  {
   "cell_type": "code",
   "execution_count": null,
   "id": "f0032577-a77c-4399-95be-f14c00309cb3",
   "metadata": {},
   "outputs": [],
   "source": [
    "import pandas as pd\n",
    "\n",
    "articles = pd.read_csv('Data/scored_articles.csv')"
   ]
  },
  {
   "cell_type": "code",
   "execution_count": null,
   "id": "78bdbe73-9508-4625-af6b-9b50e8583ae3",
   "metadata": {},
   "outputs": [],
   "source": [
    "articles[\"date\"] = pd.to_datetime(dict(\n",
    "    year=articles[\"annee\"],\n",
    "    month=articles[\"mois\"],\n",
    "    day=articles[\"jour\"]\n",
    "))\n",
    "\n",
    "articles[\"post_metoo\"] = articles[\"date\"] >= \"2017-10-01\""
   ]
  },
  {
   "cell_type": "code",
   "execution_count": null,
   "id": "f584f101-3916-4285-8596-86cbb2dacf57",
   "metadata": {},
   "outputs": [],
   "source": [
    "import pandas as pd\n",
    "import numpy as np\n",
    "from scipy.stats import ttest_ind\n",
    "\n",
    "label_cols = [ \"score\",\n",
    "    \"voc_violence\", \"hierar\", \"portrait_victime\",\n",
    "    \"portrait_auteur\", \"relation\", \"meanisme_violence\", \"stat\"\n",
    "]\n",
    "\n",
    "pre = articles[articles[\"post_metoo\"] == False]\n",
    "post = articles[articles[\"post_metoo\"] == True]\n",
    "\n",
    "\n",
    "vars_to_compare = [col + \"_final\" for col in label_cols]\n",
    "\n",
    "results = []\n",
    "\n",
    "for var in vars_to_compare:\n",
    "    pre_vals = pre[var].dropna()\n",
    "    post_vals = post[var].dropna()\n",
    "    \n",
    "    mean_pre = pre_vals.mean()\n",
    "    mean_post = post_vals.mean()\n",
    "    diff = mean_post - mean_pre\n",
    "    \n",
    "    tstat, pval = ttest_ind(post_vals, pre_vals, equal_var=False)\n",
    "    \n",
    "    results.append({\n",
    "        \"variable\": var,\n",
    "        \"mean_pre\": round(mean_pre, 3),\n",
    "        \"mean_post\": round(mean_post, 3),\n",
    "        \"diff\": round(diff, 3),\n",
    "        \"p_value\": round(pval, 4)\n",
    "    })\n",
    "\n",
    "mean_year_results = pd.DataFrame(results)\n"
   ]
  },
  {
   "cell_type": "code",
   "execution_count": null,
   "id": "08932c81-555b-4c35-8b23-5c10dafd36ba",
   "metadata": {},
   "outputs": [],
   "source": [
    "mean_year_results"
   ]
  },
  {
   "cell_type": "code",
   "execution_count": null,
   "id": "5536463d-ec26-41d7-a915-d502e732418f",
   "metadata": {},
   "outputs": [],
   "source": [
    "mean_year = articles.drop(columns  = ['Unnamed: 0.1',\t'Unnamed: 0',\t'identifiant',\t'journal_clean', 'titre', 'texte',\t'keywords', 'theme_final', 'theme',\n",
    "       'score', 'voc_violence', 'hierar', 'portrait_victime',\n",
    "       'portrait_auteur', 'relation', 'meanisme_violence', 'stat',\n",
    "       'texte_total', 'index', 'voc_violence_pred', 'hierar_pred',\n",
    "       'portrait_victime_pred', 'portrait_auteur_pred', 'relation_pred',\n",
    "       'meanisme_violence_pred', 'stat_pred', 'score_pred','post_metoo'])"
   ]
  },
  {
   "cell_type": "code",
   "execution_count": null,
   "id": "c63b02c9-0af8-40fe-86da-28f98e082aa0",
   "metadata": {},
   "outputs": [],
   "source": [
    "mean_year"
   ]
  },
  {
   "cell_type": "code",
   "execution_count": null,
   "id": "b684cd65-6db8-4630-b6ef-50d45a5c2e92",
   "metadata": {},
   "outputs": [],
   "source": [
    "articles['annee'] = articles['annee'].astype(int)"
   ]
  },
  {
   "cell_type": "code",
   "execution_count": null,
   "id": "6fd3e65f-3a5e-4eb2-8eb5-c7430a23267e",
   "metadata": {},
   "outputs": [],
   "source": [
    "import matplotlib.pyplot as plt\n",
    "import pandas as pd\n",
    "\n",
    "articles_bis = articles.drop(columns  = ['Unnamed: 0.1',\t'Unnamed: 0',\t'identifiant',\t'journal_clean', 'titre', 'texte',\t'keywords', 'theme_final', 'theme',\n",
    "       'score', 'voc_violence', 'hierar', 'portrait_victime',\n",
    "       'portrait_auteur', 'relation', 'meanisme_violence', 'stat',\n",
    "       'texte_total', 'index', 'voc_violence_pred', 'hierar_pred',\n",
    "       'portrait_victime_pred', 'portrait_auteur_pred', 'relation_pred',\n",
    "       'meanisme_violence_pred', 'stat_pred', 'score_pred','post_metoo'])\n",
    "mean_year = articles_bis.groupby('annee').mean(numeric_only=True).reset_index()\n",
    "\n",
    "colors = {\n",
    "    'score_final': '#1b1b1b',                \n",
    "    'portrait_victime_final': '#005f73',      \n",
    "    'relation_final': '#0a9396',             \n",
    "    'meanisme_violence_final': '#ae2012',     \n",
    "    'stat_final': '#6a4c93',                  \n",
    "    'portrait_auteur_final': '#ca6702',       \n",
    "    'hierar_final': '#94a1b2'                 \n",
    "}\n",
    "plt.figure(figsize=(14, 6))\n",
    "plt.plot(mean_year['annee'], mean_year['score_final'], label='Score final', color=colors['score_final'], linewidth=3)\n",
    "plt.plot(mean_year['annee'], mean_year['portrait_victime_final'], label='Portrait victime', color=colors['portrait_victime_final'])\n",
    "plt.plot(mean_year['annee'], mean_year['relation_final'], label='Relation de pouvoir', color=colors['relation_final'])\n",
    "plt.plot(mean_year['annee'], mean_year['meanisme_violence_final'], label='Mécanisme de violence', color=colors['meanisme_violence_final'])\n",
    "plt.plot(mean_year['annee'], mean_year['stat_final'], label='Statistiques', color=colors['stat_final'])\n",
    "plt.plot(mean_year['annee'], mean_year['portrait_auteur_final'], label='Portrait auteur', color=colors['portrait_auteur_final'])\n",
    "plt.plot(mean_year['annee'], mean_year['hierar_final'], label=\"Hiérarchie de l'information\", color=colors['hierar_final'])\n",
    "plt.axvline(x=2017, color='red', linestyle='--', label='Début MeToo (2017)')\n",
    "plt.title(\"Évolution annuelle des dimensions du traitement médiatique des VSS\")\n",
    "plt.xlabel(\"Année\")\n",
    "plt.ylabel(\"Score moyen (-1 à 1)\")\n",
    "plt.grid(True)\n",
    "plt.legend(loc='center left', bbox_to_anchor=(1, 0.5))\n",
    "plt.tight_layout()\n",
    "plt.savefig('plot.png')\n",
    "plt.show()\n"
   ]
  },
  {
   "cell_type": "code",
   "execution_count": null,
   "id": "01a2903b-2218-4b37-a1d9-328eb6285ef9",
   "metadata": {},
   "outputs": [],
   "source": [
    "import statsmodels.formula.api as smf\n",
    "\n",
    "model = smf.ols(\"score_final ~ C(annee, Treatment(reference=2017))\", \n",
    "                data=articles).fit(cov_type='cluster', cov_kwds={'groups': articles['journal_clean']})\n",
    "\n",
    "print(model.summary())"
   ]
  },
  {
   "cell_type": "code",
   "execution_count": null,
   "id": "5a1a4c8b-9edc-4cd0-a511-ac0a8bdbe823",
   "metadata": {},
   "outputs": [],
   "source": []
  },
  {
   "cell_type": "code",
   "execution_count": null,
   "id": "124c0b71-9907-4dec-95e9-3068e728e10b",
   "metadata": {},
   "outputs": [],
   "source": []
  },
  {
   "cell_type": "code",
   "execution_count": null,
   "id": "e613f598-667e-4ccc-80a9-8d05433ca2e2",
   "metadata": {},
   "outputs": [],
   "source": []
  }
 ],
 "metadata": {
  "kernelspec": {
   "display_name": "Python 3 (ipykernel)",
   "language": "python",
   "name": "python3"
  },
  "language_info": {
   "codemirror_mode": {
    "name": "ipython",
    "version": 3
   },
   "file_extension": ".py",
   "mimetype": "text/x-python",
   "name": "python",
   "nbconvert_exporter": "python",
   "pygments_lexer": "ipython3",
   "version": "3.12.9"
  }
 },
 "nbformat": 4,
 "nbformat_minor": 5
}
