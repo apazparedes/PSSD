{
 "cells": [
  {
   "cell_type": "code",
   "execution_count": 2,
   "id": "7fd8b6de-2fbe-4b5e-b4d2-0930a68d6260",
   "metadata": {},
   "outputs": [
    {
     "name": "stdout",
     "output_type": "stream",
     "text": [
      "Requirement already satisfied: pandas in /opt/conda/lib/python3.12/site-packages (2.2.3)\n",
      "Requirement already satisfied: transformers in /opt/conda/lib/python3.12/site-packages (4.51.1)\n",
      "Requirement already satisfied: accelerate in /opt/conda/lib/python3.12/site-packages (1.6.0)\n",
      "Requirement already satisfied: torch in /opt/conda/lib/python3.12/site-packages (2.6.0)\n",
      "Requirement already satisfied: numpy>=1.26.0 in /opt/conda/lib/python3.12/site-packages (from pandas) (2.2.4)\n",
      "Requirement already satisfied: python-dateutil>=2.8.2 in /opt/conda/lib/python3.12/site-packages (from pandas) (2.9.0.post0)\n",
      "Requirement already satisfied: pytz>=2020.1 in /opt/conda/lib/python3.12/site-packages (from pandas) (2025.2)\n",
      "Requirement already satisfied: tzdata>=2022.7 in /opt/conda/lib/python3.12/site-packages (from pandas) (2025.2)\n",
      "Requirement already satisfied: filelock in /opt/conda/lib/python3.12/site-packages (from transformers) (3.18.0)\n",
      "Requirement already satisfied: huggingface-hub<1.0,>=0.30.0 in /opt/conda/lib/python3.12/site-packages (from transformers) (0.30.2)\n",
      "Requirement already satisfied: packaging>=20.0 in /opt/conda/lib/python3.12/site-packages (from transformers) (24.2)\n",
      "Requirement already satisfied: pyyaml>=5.1 in /opt/conda/lib/python3.12/site-packages (from transformers) (6.0.2)\n",
      "Requirement already satisfied: regex!=2019.12.17 in /opt/conda/lib/python3.12/site-packages (from transformers) (2024.11.6)\n",
      "Requirement already satisfied: requests in /opt/conda/lib/python3.12/site-packages (from transformers) (2.32.3)\n",
      "Requirement already satisfied: tokenizers<0.22,>=0.21 in /opt/conda/lib/python3.12/site-packages (from transformers) (0.21.1)\n",
      "Requirement already satisfied: safetensors>=0.4.3 in /opt/conda/lib/python3.12/site-packages (from transformers) (0.5.3)\n",
      "Requirement already satisfied: tqdm>=4.27 in /opt/conda/lib/python3.12/site-packages (from transformers) (4.67.1)\n",
      "Requirement already satisfied: psutil in /opt/conda/lib/python3.12/site-packages (from accelerate) (7.0.0)\n",
      "Requirement already satisfied: typing-extensions>=4.10.0 in /opt/conda/lib/python3.12/site-packages (from torch) (4.13.1)\n",
      "Requirement already satisfied: networkx in /opt/conda/lib/python3.12/site-packages (from torch) (3.4.2)\n",
      "Requirement already satisfied: jinja2 in /opt/conda/lib/python3.12/site-packages (from torch) (3.1.6)\n",
      "Requirement already satisfied: fsspec in /opt/conda/lib/python3.12/site-packages (from torch) (2025.3.2)\n",
      "Requirement already satisfied: nvidia-cuda-nvrtc-cu12==12.4.127 in /opt/conda/lib/python3.12/site-packages (from torch) (12.4.127)\n",
      "Requirement already satisfied: nvidia-cuda-runtime-cu12==12.4.127 in /opt/conda/lib/python3.12/site-packages (from torch) (12.4.127)\n",
      "Requirement already satisfied: nvidia-cuda-cupti-cu12==12.4.127 in /opt/conda/lib/python3.12/site-packages (from torch) (12.4.127)\n",
      "Requirement already satisfied: nvidia-cudnn-cu12==9.1.0.70 in /opt/conda/lib/python3.12/site-packages (from torch) (9.1.0.70)\n",
      "Requirement already satisfied: nvidia-cublas-cu12==12.4.5.8 in /opt/conda/lib/python3.12/site-packages (from torch) (12.4.5.8)\n",
      "Requirement already satisfied: nvidia-cufft-cu12==11.2.1.3 in /opt/conda/lib/python3.12/site-packages (from torch) (11.2.1.3)\n",
      "Requirement already satisfied: nvidia-curand-cu12==10.3.5.147 in /opt/conda/lib/python3.12/site-packages (from torch) (10.3.5.147)\n",
      "Requirement already satisfied: nvidia-cusolver-cu12==11.6.1.9 in /opt/conda/lib/python3.12/site-packages (from torch) (11.6.1.9)\n",
      "Requirement already satisfied: nvidia-cusparse-cu12==12.3.1.170 in /opt/conda/lib/python3.12/site-packages (from torch) (12.3.1.170)\n",
      "Requirement already satisfied: nvidia-cusparselt-cu12==0.6.2 in /opt/conda/lib/python3.12/site-packages (from torch) (0.6.2)\n",
      "Requirement already satisfied: nvidia-nccl-cu12==2.21.5 in /opt/conda/lib/python3.12/site-packages (from torch) (2.21.5)\n",
      "Requirement already satisfied: nvidia-nvtx-cu12==12.4.127 in /opt/conda/lib/python3.12/site-packages (from torch) (12.4.127)\n",
      "Requirement already satisfied: nvidia-nvjitlink-cu12==12.4.127 in /opt/conda/lib/python3.12/site-packages (from torch) (12.4.127)\n",
      "Requirement already satisfied: triton==3.2.0 in /opt/conda/lib/python3.12/site-packages (from torch) (3.2.0)\n",
      "Requirement already satisfied: setuptools in /opt/conda/lib/python3.12/site-packages (from torch) (75.8.2)\n",
      "Requirement already satisfied: sympy==1.13.1 in /opt/conda/lib/python3.12/site-packages (from torch) (1.13.1)\n",
      "Requirement already satisfied: mpmath<1.4,>=1.1.0 in /opt/conda/lib/python3.12/site-packages (from sympy==1.13.1->torch) (1.3.0)\n",
      "Requirement already satisfied: six>=1.5 in /opt/conda/lib/python3.12/site-packages (from python-dateutil>=2.8.2->pandas) (1.17.0)\n",
      "Requirement already satisfied: MarkupSafe>=2.0 in /opt/conda/lib/python3.12/site-packages (from jinja2->torch) (3.0.2)\n",
      "Requirement already satisfied: charset_normalizer<4,>=2 in /opt/conda/lib/python3.12/site-packages (from requests->transformers) (3.4.1)\n",
      "Requirement already satisfied: idna<4,>=2.5 in /opt/conda/lib/python3.12/site-packages (from requests->transformers) (3.10)\n",
      "Requirement already satisfied: urllib3<3,>=1.21.1 in /opt/conda/lib/python3.12/site-packages (from requests->transformers) (2.3.0)\n",
      "Requirement already satisfied: certifi>=2017.4.17 in /opt/conda/lib/python3.12/site-packages (from requests->transformers) (2025.1.31)\n"
     ]
    }
   ],
   "source": [
    "!pip install pandas transformers accelerate torch"
   ]
  },
  {
   "cell_type": "code",
   "execution_count": 3,
   "id": "a007a431-1fc7-49f8-8c2e-cdfec2a7fe91",
   "metadata": {},
   "outputs": [
    {
     "name": "stdout",
     "output_type": "stream",
     "text": [
      "Requirement already satisfied: spacy in /opt/conda/lib/python3.12/site-packages (3.8.5)\n",
      "Requirement already satisfied: spacy-legacy<3.1.0,>=3.0.11 in /opt/conda/lib/python3.12/site-packages (from spacy) (3.0.12)\n",
      "Requirement already satisfied: spacy-loggers<2.0.0,>=1.0.0 in /opt/conda/lib/python3.12/site-packages (from spacy) (1.0.5)\n",
      "Requirement already satisfied: murmurhash<1.1.0,>=0.28.0 in /opt/conda/lib/python3.12/site-packages (from spacy) (1.0.12)\n",
      "Requirement already satisfied: cymem<2.1.0,>=2.0.2 in /opt/conda/lib/python3.12/site-packages (from spacy) (2.0.11)\n",
      "Requirement already satisfied: preshed<3.1.0,>=3.0.2 in /opt/conda/lib/python3.12/site-packages (from spacy) (3.0.9)\n",
      "Requirement already satisfied: thinc<8.4.0,>=8.3.4 in /opt/conda/lib/python3.12/site-packages (from spacy) (8.3.6)\n",
      "Requirement already satisfied: wasabi<1.2.0,>=0.9.1 in /opt/conda/lib/python3.12/site-packages (from spacy) (1.1.3)\n",
      "Requirement already satisfied: srsly<3.0.0,>=2.4.3 in /opt/conda/lib/python3.12/site-packages (from spacy) (2.5.1)\n",
      "Requirement already satisfied: catalogue<2.1.0,>=2.0.6 in /opt/conda/lib/python3.12/site-packages (from spacy) (2.0.10)\n",
      "Requirement already satisfied: weasel<0.5.0,>=0.1.0 in /opt/conda/lib/python3.12/site-packages (from spacy) (0.4.1)\n",
      "Requirement already satisfied: typer<1.0.0,>=0.3.0 in /opt/conda/lib/python3.12/site-packages (from spacy) (0.15.2)\n",
      "Requirement already satisfied: tqdm<5.0.0,>=4.38.0 in /opt/conda/lib/python3.12/site-packages (from spacy) (4.67.1)\n",
      "Requirement already satisfied: numpy>=1.19.0 in /opt/conda/lib/python3.12/site-packages (from spacy) (2.2.4)\n",
      "Requirement already satisfied: requests<3.0.0,>=2.13.0 in /opt/conda/lib/python3.12/site-packages (from spacy) (2.32.3)\n",
      "Requirement already satisfied: pydantic!=1.8,!=1.8.1,<3.0.0,>=1.7.4 in /opt/conda/lib/python3.12/site-packages (from spacy) (2.11.3)\n",
      "Requirement already satisfied: jinja2 in /opt/conda/lib/python3.12/site-packages (from spacy) (3.1.6)\n",
      "Requirement already satisfied: setuptools in /opt/conda/lib/python3.12/site-packages (from spacy) (75.8.2)\n",
      "Requirement already satisfied: packaging>=20.0 in /opt/conda/lib/python3.12/site-packages (from spacy) (24.2)\n",
      "Requirement already satisfied: langcodes<4.0.0,>=3.2.0 in /opt/conda/lib/python3.12/site-packages (from spacy) (3.5.0)\n",
      "Requirement already satisfied: language-data>=1.2 in /opt/conda/lib/python3.12/site-packages (from langcodes<4.0.0,>=3.2.0->spacy) (1.3.0)\n",
      "Requirement already satisfied: annotated-types>=0.6.0 in /opt/conda/lib/python3.12/site-packages (from pydantic!=1.8,!=1.8.1,<3.0.0,>=1.7.4->spacy) (0.7.0)\n",
      "Requirement already satisfied: pydantic-core==2.33.1 in /opt/conda/lib/python3.12/site-packages (from pydantic!=1.8,!=1.8.1,<3.0.0,>=1.7.4->spacy) (2.33.1)\n",
      "Requirement already satisfied: typing-extensions>=4.12.2 in /opt/conda/lib/python3.12/site-packages (from pydantic!=1.8,!=1.8.1,<3.0.0,>=1.7.4->spacy) (4.13.1)\n",
      "Requirement already satisfied: typing-inspection>=0.4.0 in /opt/conda/lib/python3.12/site-packages (from pydantic!=1.8,!=1.8.1,<3.0.0,>=1.7.4->spacy) (0.4.0)\n",
      "Requirement already satisfied: charset_normalizer<4,>=2 in /opt/conda/lib/python3.12/site-packages (from requests<3.0.0,>=2.13.0->spacy) (3.4.1)\n",
      "Requirement already satisfied: idna<4,>=2.5 in /opt/conda/lib/python3.12/site-packages (from requests<3.0.0,>=2.13.0->spacy) (3.10)\n",
      "Requirement already satisfied: urllib3<3,>=1.21.1 in /opt/conda/lib/python3.12/site-packages (from requests<3.0.0,>=2.13.0->spacy) (2.3.0)\n",
      "Requirement already satisfied: certifi>=2017.4.17 in /opt/conda/lib/python3.12/site-packages (from requests<3.0.0,>=2.13.0->spacy) (2025.1.31)\n",
      "Requirement already satisfied: blis<1.4.0,>=1.3.0 in /opt/conda/lib/python3.12/site-packages (from thinc<8.4.0,>=8.3.4->spacy) (1.3.0)\n",
      "Requirement already satisfied: confection<1.0.0,>=0.0.1 in /opt/conda/lib/python3.12/site-packages (from thinc<8.4.0,>=8.3.4->spacy) (0.1.5)\n",
      "Requirement already satisfied: click>=8.0.0 in /opt/conda/lib/python3.12/site-packages (from typer<1.0.0,>=0.3.0->spacy) (8.1.8)\n",
      "Requirement already satisfied: shellingham>=1.3.0 in /opt/conda/lib/python3.12/site-packages (from typer<1.0.0,>=0.3.0->spacy) (1.5.4)\n",
      "Requirement already satisfied: rich>=10.11.0 in /opt/conda/lib/python3.12/site-packages (from typer<1.0.0,>=0.3.0->spacy) (14.0.0)\n",
      "Requirement already satisfied: cloudpathlib<1.0.0,>=0.7.0 in /opt/conda/lib/python3.12/site-packages (from weasel<0.5.0,>=0.1.0->spacy) (0.21.0)\n",
      "Requirement already satisfied: smart-open<8.0.0,>=5.2.1 in /opt/conda/lib/python3.12/site-packages (from weasel<0.5.0,>=0.1.0->spacy) (7.1.0)\n",
      "Requirement already satisfied: MarkupSafe>=2.0 in /opt/conda/lib/python3.12/site-packages (from jinja2->spacy) (3.0.2)\n",
      "Requirement already satisfied: marisa-trie>=1.1.0 in /opt/conda/lib/python3.12/site-packages (from language-data>=1.2->langcodes<4.0.0,>=3.2.0->spacy) (1.2.1)\n",
      "Requirement already satisfied: markdown-it-py>=2.2.0 in /opt/conda/lib/python3.12/site-packages (from rich>=10.11.0->typer<1.0.0,>=0.3.0->spacy) (3.0.0)\n",
      "Requirement already satisfied: pygments<3.0.0,>=2.13.0 in /opt/conda/lib/python3.12/site-packages (from rich>=10.11.0->typer<1.0.0,>=0.3.0->spacy) (2.19.1)\n",
      "Requirement already satisfied: wrapt in /opt/conda/lib/python3.12/site-packages (from smart-open<8.0.0,>=5.2.1->weasel<0.5.0,>=0.1.0->spacy) (1.17.2)\n",
      "Requirement already satisfied: mdurl~=0.1 in /opt/conda/lib/python3.12/site-packages (from markdown-it-py>=2.2.0->rich>=10.11.0->typer<1.0.0,>=0.3.0->spacy) (0.1.2)\n",
      "Requirement already satisfied: cupy-cuda12x in /opt/conda/lib/python3.12/site-packages (13.4.1)\n",
      "Requirement already satisfied: numpy<2.3,>=1.22 in /opt/conda/lib/python3.12/site-packages (from cupy-cuda12x) (2.2.4)\n",
      "Requirement already satisfied: fastrlock>=0.5 in /opt/conda/lib/python3.12/site-packages (from cupy-cuda12x) (0.8.3)\n"
     ]
    }
   ],
   "source": [
    "!pip install spacy\n",
    "!pip install cupy-cuda12x"
   ]
  },
  {
   "cell_type": "code",
   "execution_count": 4,
   "id": "f8f8fd17-cb93-401c-8c1f-57b0ad9986a7",
   "metadata": {},
   "outputs": [
    {
     "name": "stdout",
     "output_type": "stream",
     "text": [
      "Collecting fr-dep-news-trf==3.8.0\n",
      "  Downloading https://github.com/explosion/spacy-models/releases/download/fr_dep_news_trf-3.8.0/fr_dep_news_trf-3.8.0-py3-none-any.whl (397.7 MB)\n",
      "\u001b[2K     \u001b[90m━━━━━━━━━━━━━━━━━━━━━━━━━━━━━━━━━━━━━━\u001b[0m \u001b[32m397.7/397.7 MB\u001b[0m \u001b[31m59.0 MB/s\u001b[0m eta \u001b[36m0:00:00\u001b[0m00:01\u001b[0m00:01\u001b[0m\n",
      "\u001b[?25hRequirement already satisfied: spacy-curated-transformers<1.0.0,>=0.2.2 in /opt/conda/lib/python3.12/site-packages (from fr-dep-news-trf==3.8.0) (0.3.0)\n",
      "Requirement already satisfied: sentencepiece!=0.1.92,>=0.1.91 in /opt/conda/lib/python3.12/site-packages (from fr-dep-news-trf==3.8.0) (0.2.0)\n",
      "Requirement already satisfied: protobuf<3.21.0 in /opt/conda/lib/python3.12/site-packages (from fr-dep-news-trf==3.8.0) (3.20.3)\n",
      "Requirement already satisfied: curated-transformers<0.2.0,>=0.1.0 in /opt/conda/lib/python3.12/site-packages (from spacy-curated-transformers<1.0.0,>=0.2.2->fr-dep-news-trf==3.8.0) (0.1.1)\n",
      "Requirement already satisfied: curated-tokenizers<0.1.0,>=0.0.9 in /opt/conda/lib/python3.12/site-packages (from spacy-curated-transformers<1.0.0,>=0.2.2->fr-dep-news-trf==3.8.0) (0.0.9)\n",
      "Requirement already satisfied: torch>=1.12.0 in /opt/conda/lib/python3.12/site-packages (from spacy-curated-transformers<1.0.0,>=0.2.2->fr-dep-news-trf==3.8.0) (2.6.0)\n",
      "Requirement already satisfied: regex>=2022 in /opt/conda/lib/python3.12/site-packages (from curated-tokenizers<0.1.0,>=0.0.9->spacy-curated-transformers<1.0.0,>=0.2.2->fr-dep-news-trf==3.8.0) (2024.11.6)\n",
      "Requirement already satisfied: filelock in /opt/conda/lib/python3.12/site-packages (from torch>=1.12.0->spacy-curated-transformers<1.0.0,>=0.2.2->fr-dep-news-trf==3.8.0) (3.18.0)\n",
      "Requirement already satisfied: typing-extensions>=4.10.0 in /opt/conda/lib/python3.12/site-packages (from torch>=1.12.0->spacy-curated-transformers<1.0.0,>=0.2.2->fr-dep-news-trf==3.8.0) (4.13.1)\n",
      "Requirement already satisfied: networkx in /opt/conda/lib/python3.12/site-packages (from torch>=1.12.0->spacy-curated-transformers<1.0.0,>=0.2.2->fr-dep-news-trf==3.8.0) (3.4.2)\n",
      "Requirement already satisfied: jinja2 in /opt/conda/lib/python3.12/site-packages (from torch>=1.12.0->spacy-curated-transformers<1.0.0,>=0.2.2->fr-dep-news-trf==3.8.0) (3.1.6)\n",
      "Requirement already satisfied: fsspec in /opt/conda/lib/python3.12/site-packages (from torch>=1.12.0->spacy-curated-transformers<1.0.0,>=0.2.2->fr-dep-news-trf==3.8.0) (2025.3.2)\n",
      "Requirement already satisfied: nvidia-cuda-nvrtc-cu12==12.4.127 in /opt/conda/lib/python3.12/site-packages (from torch>=1.12.0->spacy-curated-transformers<1.0.0,>=0.2.2->fr-dep-news-trf==3.8.0) (12.4.127)\n",
      "Requirement already satisfied: nvidia-cuda-runtime-cu12==12.4.127 in /opt/conda/lib/python3.12/site-packages (from torch>=1.12.0->spacy-curated-transformers<1.0.0,>=0.2.2->fr-dep-news-trf==3.8.0) (12.4.127)\n",
      "Requirement already satisfied: nvidia-cuda-cupti-cu12==12.4.127 in /opt/conda/lib/python3.12/site-packages (from torch>=1.12.0->spacy-curated-transformers<1.0.0,>=0.2.2->fr-dep-news-trf==3.8.0) (12.4.127)\n",
      "Requirement already satisfied: nvidia-cudnn-cu12==9.1.0.70 in /opt/conda/lib/python3.12/site-packages (from torch>=1.12.0->spacy-curated-transformers<1.0.0,>=0.2.2->fr-dep-news-trf==3.8.0) (9.1.0.70)\n",
      "Requirement already satisfied: nvidia-cublas-cu12==12.4.5.8 in /opt/conda/lib/python3.12/site-packages (from torch>=1.12.0->spacy-curated-transformers<1.0.0,>=0.2.2->fr-dep-news-trf==3.8.0) (12.4.5.8)\n",
      "Requirement already satisfied: nvidia-cufft-cu12==11.2.1.3 in /opt/conda/lib/python3.12/site-packages (from torch>=1.12.0->spacy-curated-transformers<1.0.0,>=0.2.2->fr-dep-news-trf==3.8.0) (11.2.1.3)\n",
      "Requirement already satisfied: nvidia-curand-cu12==10.3.5.147 in /opt/conda/lib/python3.12/site-packages (from torch>=1.12.0->spacy-curated-transformers<1.0.0,>=0.2.2->fr-dep-news-trf==3.8.0) (10.3.5.147)\n",
      "Requirement already satisfied: nvidia-cusolver-cu12==11.6.1.9 in /opt/conda/lib/python3.12/site-packages (from torch>=1.12.0->spacy-curated-transformers<1.0.0,>=0.2.2->fr-dep-news-trf==3.8.0) (11.6.1.9)\n",
      "Requirement already satisfied: nvidia-cusparse-cu12==12.3.1.170 in /opt/conda/lib/python3.12/site-packages (from torch>=1.12.0->spacy-curated-transformers<1.0.0,>=0.2.2->fr-dep-news-trf==3.8.0) (12.3.1.170)\n",
      "Requirement already satisfied: nvidia-cusparselt-cu12==0.6.2 in /opt/conda/lib/python3.12/site-packages (from torch>=1.12.0->spacy-curated-transformers<1.0.0,>=0.2.2->fr-dep-news-trf==3.8.0) (0.6.2)\n",
      "Requirement already satisfied: nvidia-nccl-cu12==2.21.5 in /opt/conda/lib/python3.12/site-packages (from torch>=1.12.0->spacy-curated-transformers<1.0.0,>=0.2.2->fr-dep-news-trf==3.8.0) (2.21.5)\n",
      "Requirement already satisfied: nvidia-nvtx-cu12==12.4.127 in /opt/conda/lib/python3.12/site-packages (from torch>=1.12.0->spacy-curated-transformers<1.0.0,>=0.2.2->fr-dep-news-trf==3.8.0) (12.4.127)\n",
      "Requirement already satisfied: nvidia-nvjitlink-cu12==12.4.127 in /opt/conda/lib/python3.12/site-packages (from torch>=1.12.0->spacy-curated-transformers<1.0.0,>=0.2.2->fr-dep-news-trf==3.8.0) (12.4.127)\n",
      "Requirement already satisfied: triton==3.2.0 in /opt/conda/lib/python3.12/site-packages (from torch>=1.12.0->spacy-curated-transformers<1.0.0,>=0.2.2->fr-dep-news-trf==3.8.0) (3.2.0)\n",
      "Requirement already satisfied: setuptools in /opt/conda/lib/python3.12/site-packages (from torch>=1.12.0->spacy-curated-transformers<1.0.0,>=0.2.2->fr-dep-news-trf==3.8.0) (75.8.2)\n",
      "Requirement already satisfied: sympy==1.13.1 in /opt/conda/lib/python3.12/site-packages (from torch>=1.12.0->spacy-curated-transformers<1.0.0,>=0.2.2->fr-dep-news-trf==3.8.0) (1.13.1)\n",
      "Requirement already satisfied: mpmath<1.4,>=1.1.0 in /opt/conda/lib/python3.12/site-packages (from sympy==1.13.1->torch>=1.12.0->spacy-curated-transformers<1.0.0,>=0.2.2->fr-dep-news-trf==3.8.0) (1.3.0)\n",
      "Requirement already satisfied: MarkupSafe>=2.0 in /opt/conda/lib/python3.12/site-packages (from jinja2->torch>=1.12.0->spacy-curated-transformers<1.0.0,>=0.2.2->fr-dep-news-trf==3.8.0) (3.0.2)\n",
      "\u001b[38;5;2m✔ Download and installation successful\u001b[0m\n",
      "You can now load the package via spacy.load('fr_dep_news_trf')\n"
     ]
    }
   ],
   "source": [
    "!python -m spacy download fr_dep_news_trf"
   ]
  },
  {
   "cell_type": "code",
   "execution_count": 7,
   "id": "aea7abc4-9a51-45c8-92d0-2aab0c30910f",
   "metadata": {},
   "outputs": [
    {
     "name": "stderr",
     "output_type": "stream",
     "text": [
      "/opt/conda/lib/python3.12/site-packages/tqdm/auto.py:21: TqdmWarning: IProgress not found. Please update jupyter and ipywidgets. See https://ipywidgets.readthedocs.io/en/stable/user_install.html\n",
      "  from .autonotebook import tqdm as notebook_tqdm\n"
     ]
    }
   ],
   "source": [
    "import spacy\n",
    "import torch\n",
    "from tqdm import tqdm\n",
    "\n",
    "#spacy.prefer_gpu()\n",
    "device = torch.device(\"cpu\")\n",
    "nlp = spacy.load(\"fr_dep_news_trf\")"
   ]
  },
  {
   "cell_type": "code",
   "execution_count": null,
   "id": "9901a019-66c4-4afe-9500-58c39db0ffd0",
   "metadata": {},
   "outputs": [],
   "source": [
    "doc = nlp(\"This is a sentence.\")"
   ]
  },
  {
   "cell_type": "code",
   "execution_count": null,
   "id": "34e6e190-a273-4a4f-b674-4f1241a6b1ae",
   "metadata": {},
   "outputs": [],
   "source": [
    "for token in doc:\n",
    "    print(token.text, token.pos_, token.dep_, token.head.text)"
   ]
  },
  {
   "cell_type": "code",
   "execution_count": null,
   "id": "82c5ca09-3e64-4450-8088-a791dc500beb",
   "metadata": {},
   "outputs": [],
   "source": [
    "text = \"La victime a été agressée par son compagnon.\"\n",
    "doc = nlp(text)\n",
    "\n",
    "for token in doc:\n",
    "    print(f\"{token.text:12} | {token.dep_:10} | {token.head.text:12} | {token.pos_:6}\")"
   ]
  },
  {
   "cell_type": "code",
   "execution_count": 8,
   "id": "3a5d23c7-98f4-4f43-8012-b26d5268e240",
   "metadata": {},
   "outputs": [],
   "source": [
    "def analyser_phrase(text, contexte=None):\n",
    "    doc = nlp(text)\n",
    "\n",
    "    verbes_vss = {\n",
    "        \"agresser\", \"violer\", \"harceler\", \"frapper\", \"tuer\", \"insulter\",\n",
    "        \"abuser\", \"menacer\", \"étrangler\", \"gifler\", \"molester\", \"violenter\"\n",
    "    }\n",
    "\n",
    "    pronoms = {\"il\", \"elle\", \"lui\", \"leur\", \"ce\", \"cela\", \"ça\", \"qui\", \"on\", \"l’\", \"la\", \"le\", \"me\", \"m’\", \"l'\", \"y\"}\n",
    "\n",
    "    victime = None\n",
    "    agresseur = None\n",
    "    verbe_cible = None\n",
    "    voix = \"autre\"\n",
    "    negation = False\n",
    "    victime_pronom = False\n",
    "\n",
    "    noun_chunks_map = {chunk.root: chunk.text for chunk in doc.noun_chunks}\n",
    "    ent_map = {ent.start: ent.text for ent in doc.ents if ent.label_ == \"PER\"}\n",
    "\n",
    "    # --- Identifications classiques ---\n",
    "    for token in doc:\n",
    "        if token.pos_ == \"VERB\" and token.lemma_ in verbes_vss:\n",
    "            verbe_cible = token\n",
    "\n",
    "            if any(child.dep_ == \"advmod\" and child.lemma_ == \"pas\" for child in token.children):\n",
    "                negation = True\n",
    "\n",
    "            for child in token.children:\n",
    "                if child.dep_ == \"nsubj:pass\":\n",
    "                    victime = noun_chunks_map.get(child, child.text)\n",
    "                    voix = \"passive\"\n",
    "                elif child.dep_ == \"obj\":\n",
    "                    victime = noun_chunks_map.get(child, child.text)\n",
    "                    voix = \"active\"\n",
    "                elif child.dep_ == \"obl:agent\":\n",
    "                    agresseur = noun_chunks_map.get(child, child.text)\n",
    "                elif child.dep_ == \"nsubj\":\n",
    "                    agresseur = noun_chunks_map.get(child, ent_map.get(child.i, child.text))\n",
    "                    voix = \"active\"\n",
    "\n",
    "            if not agresseur:\n",
    "                ancestor = token\n",
    "                while ancestor.head != ancestor:\n",
    "                    ancestor = ancestor.head\n",
    "                    for child in ancestor.children:\n",
    "                        if child.dep_ == \"nsubj\":\n",
    "                            agresseur = noun_chunks_map.get(child, ent_map.get(child.i, child.text))\n",
    "                            break\n",
    "                    if agresseur:\n",
    "                        break\n",
    "\n",
    "    # --- Co-référence simple ---\n",
    "    if victime and victime.lower() in pronoms and contexte:\n",
    "        victime_coref = contexte.get(\"last_female\") or contexte.get(\"last_person\")\n",
    "        if victime_coref:\n",
    "            victime = victime_coref\n",
    "    if agresseur and agresseur.lower() in pronoms and contexte:\n",
    "        agresseur_coref = contexte.get(\"last_male\") or contexte.get(\"last_person\")\n",
    "        if agresseur_coref:\n",
    "            agresseur = agresseur_coref\n",
    "\n",
    "    # --- Mettre à jour le contexte ---\n",
    "    if contexte is not None:\n",
    "        for ent in doc.ents:\n",
    "            if ent.label_ == \"PER\":\n",
    "                contexte[\"last_person\"] = ent.text\n",
    "                # tentative naïve de genre\n",
    "                if ent.text.lower().endswith((\"e\", \"a\", \"ine\", \"ette\")):\n",
    "                    contexte[\"last_female\"] = ent.text\n",
    "                else:\n",
    "                    contexte[\"last_male\"] = ent.text\n",
    "\n",
    "    if verbe_cible and victime:\n",
    "        return {\n",
    "            \"phrase\": text,\n",
    "            \"victime\": victime,\n",
    "            \"agresseur\": agresseur,\n",
    "            \"verbe\": verbe_cible.text,\n",
    "            \"voix\": voix,\n",
    "            \"negation\": negation\n",
    "        }\n",
    "\n",
    "    return None\n"
   ]
  },
  {
   "cell_type": "code",
   "execution_count": 9,
   "id": "64c6df6e-aa56-4224-8072-8c0acbd571db",
   "metadata": {},
   "outputs": [],
   "source": [
    "import pandas as pd\n",
    "\n",
    "articles = pd.read_csv('Data/data_faits_divers.csv')\n",
    "#articles = articles.sample(10)"
   ]
  },
  {
   "cell_type": "code",
   "execution_count": null,
   "id": "cd11654b-5668-4af7-9d7e-76e5e7849e85",
   "metadata": {},
   "outputs": [
    {
     "name": "stderr",
     "output_type": "stream",
     "text": [
      "  0%|          | 0/39263 [00:00<?, ?it/s]"
     ]
    }
   ],
   "source": [
    "from tqdm import tqdm\n",
    "import torch\n",
    "\n",
    "articles[\"victime\"] = \"\"\n",
    "articles[\"agresseur\"] = \"\"\n",
    "articles[\"verbe\"] = \"\"\n",
    "articles[\"voix\"] = \"\"\n",
    "articles[\"negation\"] = \"\"\n",
    "articles[\"phrase_extraite\"] = \"\"\n",
    "\n",
    "with torch.no_grad():\n",
    "    contexte_par_article = [{} for _ in range(len(articles))]\n",
    "\n",
    "\n",
    "    docs = list(tqdm(nlp.pipe(articles[\"texte\"], batch_size=32), total=len(articles)))\n"
   ]
  },
  {
   "cell_type": "code",
   "execution_count": null,
   "id": "4e647b45-9368-4021-8241-df4ff3699100",
   "metadata": {},
   "outputs": [],
   "source": [
    "for i in tqdm(range(len(articles)), leave=True, ncols=100):\n",
    "    doc = docs[i]\n",
    "    contexte = contexte_par_article[i]\n",
    "\n",
    "    for sent in doc.sents:\n",
    "        res = analyser_phrase(sent.text, contexte)\n",
    "        if res:\n",
    "            articles.at[i, \"victime\"] = res[\"victime\"]\n",
    "            articles.at[i, \"agresseur\"] = res[\"agresseur\"]\n",
    "            articles.at[i, \"verbe\"] = res[\"verbe\"]\n",
    "            articles.at[i, \"voix\"] = res[\"voix\"]\n",
    "            articles.at[i, \"negation\"] = res[\"negation\"]\n",
    "            articles.at[i, \"phrase_extraite\"] = res[\"phrase\"]\n",
    "            break\n"
   ]
  }
 ],
 "metadata": {
  "kernelspec": {
   "display_name": "Python 3 (ipykernel)",
   "language": "python",
   "name": "python3"
  },
  "language_info": {
   "codemirror_mode": {
    "name": "ipython",
    "version": 3
   },
   "file_extension": ".py",
   "mimetype": "text/x-python",
   "name": "python",
   "nbconvert_exporter": "python",
   "pygments_lexer": "ipython3",
   "version": "3.12.9"
  }
 },
 "nbformat": 4,
 "nbformat_minor": 5
}
