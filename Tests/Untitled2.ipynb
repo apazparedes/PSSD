{
 "cells": [
  {
   "cell_type": "code",
   "execution_count": null,
   "id": "c67a4105-fad1-4c5e-af1c-dc257b2d82dd",
   "metadata": {},
   "outputs": [],
   "source": [
    "import os\n",
    "os.getcwd()"
   ]
  },
  {
   "cell_type": "code",
   "execution_count": null,
   "id": "7b557808-609b-43d9-b045-158d50d7e125",
   "metadata": {},
   "outputs": [],
   "source": [
    "!pip install pandas transformers tiktoken SentencePiece"
   ]
  },
  {
   "cell_type": "code",
   "execution_count": null,
   "id": "b99e12c2-9b40-4afe-a641-b5047a022149",
   "metadata": {},
   "outputs": [],
   "source": [
    "import pandas as pd\n",
    "faits_divers = pd.read_csv('Data/data_faits_divers.csv')\n",
    "#os.chdir(\"..\")"
   ]
  },
  {
   "cell_type": "code",
   "execution_count": null,
   "id": "4f17d0d2-17f5-472c-afb1-a8b94eb39ee4",
   "metadata": {},
   "outputs": [],
   "source": [
    "articles = faits_divers.sample(30)"
   ]
  },
  {
   "cell_type": "code",
   "execution_count": null,
   "id": "f9c54459-f45f-4f00-b6b8-3c8b72a05ffe",
   "metadata": {},
   "outputs": [],
   "source": [
    "!pip install accelerate"
   ]
  },
  {
   "cell_type": "code",
   "execution_count": null,
   "id": "d1a15746-82fa-4e61-b1fd-fbaf852c8204",
   "metadata": {},
   "outputs": [],
   "source": [
    "from transformers import AutoTokenizer, AutoModelForTokenClassification, pipeline\n",
    "from tqdm import tqdm \n",
    "\n",
    "tokenizer = AutoTokenizer.from_pretrained(\"Jean-Baptiste/camembert-ner-with-dates\", use_fast=False)\n",
    "model = AutoModelForTokenClassification.from_pretrained(\"Jean-Baptiste/camembert-ner-with-dates\")\n",
    "\n",
    "nlp = pipeline(\"ner\", model=model, tokenizer=tokenizer, aggregation_strategy=\"simple\",device=0)"
   ]
  },
  {
   "cell_type": "code",
   "execution_count": null,
   "id": "cb496be2-17f9-433b-8ebe-2327a55dbb89",
   "metadata": {},
   "outputs": [],
   "source": [
    "from tqdm import tqdm\n",
    "tqdm.pandas()\n",
    "def safe_ner(text):\n",
    "    try:\n",
    "        return nlp(text)\n",
    "    except Exception as e:\n",
    "        return []\n",
    "\n",
    "articles['NER'] = articles['texte'].progress_apply(safe_ner)"
   ]
  },
  {
   "cell_type": "code",
   "execution_count": null,
   "id": "27f88d7a-b927-4544-8422-24c3d918e09b",
   "metadata": {},
   "outputs": [],
   "source": [
    "def extract_persons(ner_output):\n",
    "    return list(set(\n",
    "        ent['word'].lower().strip() \n",
    "        for ent in ner_output \n",
    "        if ent['entity_group'] == 'PER'\n",
    "    ))\n",
    "articles['personnes'] = articles['NER'].apply(extract_persons)"
   ]
  },
  {
   "cell_type": "code",
   "execution_count": null,
   "id": "7751c301-fb92-4bf1-9cc9-9c86c2ec2ca6",
   "metadata": {},
   "outputs": [],
   "source": [
    "nul = articles[articles['personnes'].apply(len) == 0]"
   ]
  },
  {
   "cell_type": "code",
   "execution_count": null,
   "id": "baff3b27-d5eb-4c6d-87c6-344746ce5374",
   "metadata": {},
   "outputs": [],
   "source": [
    "exp = [\n",
    "    \"concubin\", \"concubine\",\n",
    "    \"victime\", \"suspect\", \"agresseur\",\n",
    "    \"policier\", \"homme\", \"femme\", 'épouse', \"copain\", \"copine\", \"petite amie\",\n",
    "    \"adolescent\", \"fillette\", \"témoin\", \"procureur\",\n",
    "    \"le prévenu\", \"auteur des faits\", \"les forces de l'ordre\", \"mari\", \"compagnon\", \"père\", \"amant\", \"copain\"\n",
    "]\n",
    "\n",
    "def detect_generic_mentions(text, expressions=exp):\n",
    "    found = []\n",
    "    lower_text = text.lower()\n",
    "    for expr in expressions:\n",
    "        if expr in lower_text:\n",
    "            found.append(expr)\n",
    "    return list(set(found))\n",
    "\n",
    "articles['mentions_generiques'] = articles['texte_clean'].apply(detect_generic_mentions)"
   ]
  },
  {
   "cell_type": "code",
   "execution_count": null,
   "id": "e3c3482b-c3a0-4455-9fa2-3186aaf73798",
   "metadata": {},
   "outputs": [],
   "source": [
    "def combine_mentions(row):\n",
    "    return row['personnes'] + row['mentions_generiques']\n",
    "\n",
    "articles['sujets'] = articles.apply(combine_mentions, axis=1)"
   ]
  },
  {
   "cell_type": "code",
   "execution_count": null,
   "id": "7d50ffba-1b39-43c4-a526-916694ea5ea5",
   "metadata": {},
   "outputs": [],
   "source": [
    "from random import randint\n",
    "i=randint(0,29)\n",
    "print(articles.iloc[i]['sujets'])\n",
    "print(articles.iloc[i]['texte'])"
   ]
  },
  {
   "cell_type": "code",
   "execution_count": null,
   "id": "f49cae4c-9ffe-44ae-9487-93c5f5e4fdd3",
   "metadata": {},
   "outputs": [],
   "source": [
    "!pip install spacy"
   ]
  },
  {
   "cell_type": "code",
   "execution_count": null,
   "id": "e7404f88-a539-4ce5-a95e-2e8ac7274fa3",
   "metadata": {},
   "outputs": [],
   "source": [
    "!python -m spacy download fr_core_news_md"
   ]
  },
  {
   "cell_type": "code",
   "execution_count": null,
   "id": "6e0a2706-c98f-493e-b66c-5662eeaf19a0",
   "metadata": {},
   "outputs": [],
   "source": [
    "victime_indicateurs = [\n",
    "    \"victime\", \"été agressée\", \"été violée\", \"subi\", \"a dénoncé\", \"harcelée\", \"plaintes\", \"été tuée\", \"battue\", \"frappée\", \"violée\", \"tuée\", \"assassinée\", \"agressée\"\n",
    "]\n",
    "\n",
    "agresseur_indicateurs = [\n",
    "    \"coupable\",\"suspect\",\"suspecté\",\n",
    "    \"violent\",\"a agressé\", \"a violé\", \"harceleur\", \"accusé\", \"mis en examen\", \"a frappé\", \"condamné\", \"a avoué avoir tué\", \"a avoué avoir frappé\", \"a avoué\", \"a tué\",\n",
    "    \"accusé de\", \"accusé d'avoir\", \"suspecté de\", \"suspecté d'avoir\"\n",
    "    ]\n",
    "\n",
    "import re\n",
    "import spacy\n",
    "nlp_fr = spacy.load(\"fr_core_news_md\")\n",
    "\n",
    "def detect_roles(text, sujets):\n",
    "    if not isinstance(text, str):\n",
    "        return {}\n",
    "\n",
    "    doc = nlp_fr(text)\n",
    "    text_lower = text.lower()\n",
    "    tokens = text_lower.split()\n",
    "\n",
    "    victime_indicateurs = [\n",
    "    \"victime\", \"été agressée\", \"été violée\", \"subi\", \"a dénoncé\", \"harcelée\", \n",
    "    \"plaintes\", \"été tuée\", \"battue\", \"frappée\", \"violée\", \"tuée\", \"assassinée\", \"agressée\"\n",
    "    ]\n",
    "\n",
    "    agresseur_indicateurs = [\n",
    "    \"coupable\",\"suspect\",\"suspecté\",\n",
    "    \"violent\",\"a agressé\", \"a violé\", \"harceleur\", \"accusé\", \"mis en examen\", \"a frappé\",\n",
    "    \"condamné\", \"a avoué avoir tué\", \"a avoué avoir frappé\", \"a avoué\", \"a tué\",\n",
    "    \"accusé de\", \"accusé d'avoir\", \"suspecté de\", \"suspecté d'avoir\", \"a avoué\", \"placé en garde à vue\", \n",
    "    \"mis en garde à vue\", \"incriminé\", \"a affirmé être l'auteur\"\n",
    "    ]\n",
    "    verbes = [\"tuer\", \"violer\", \"agresser\", \"harceler\", \"frapper\"]\n",
    "\n",
    "    roles = {}\n",
    "\n",
    "    for sujet in sujets:\n",
    "        sujet_lower = sujet.lower()\n",
    "        roles[sujet] = 'inconnu'\n",
    "        match_found = False\n",
    "\n",
    "        for ent in doc.ents:\n",
    "            if ent.text.lower() == sujet_lower:\n",
    "                token = ent.root\n",
    "                head = token.head\n",
    "\n",
    "                # 1. Sujet passif → victime\n",
    "                if token.dep_ == \"nsubj:pass\" and head.lemma_ in AGRESSEUR_VERBS:\n",
    "                    roles[sujet] = \"victime\"\n",
    "                    match_found = True\n",
    "                    break\n",
    "\n",
    "                # 2. Sujet actif → agresseur\n",
    "                elif token.dep_ == \"nsubj\" and head.lemma_ in AGRESSEUR_VERBS:\n",
    "                    roles[sujet] = \"agresseur\"\n",
    "                    match_found = True\n",
    "                    break\n",
    "\n",
    "                # 3. Objet direct → victime\n",
    "                elif token.dep_ == \"obj\" and head.lemma_ in AGRESSEUR_VERBS:\n",
    "                    roles[sujet] = \"victime\"\n",
    "                    match_found = True\n",
    "                    break\n",
    "\n",
    "                # 4. Agent passif introduit par \"par\"\n",
    "                for child in head.children:\n",
    "                    if child.dep_ == \"obl:agent\" and sujet_lower in child.text.lower():\n",
    "                        roles[sujet] = \"agresseur\"\n",
    "                        match_found = True\n",
    "                        break\n",
    "\n",
    "        if not match_found:\n",
    "            for i in range(len(tokens)):\n",
    "                sujet_tokens = sujet_lower.split()\n",
    "                if tokens[i:i+len(sujet_tokens)] == sujet_tokens:\n",
    "                    start = max(0, i - 10)\n",
    "                    end = min(len(tokens), i + len(sujet_tokens) + 10)\n",
    "                    context = ' '.join(tokens[start:end])\n",
    "\n",
    "                    if any(ind in context for ind in victime_indicateurs):\n",
    "                        roles[sujet] = 'victime'\n",
    "                        break\n",
    "                    elif any(ind in context for ind in agresseur_indicateurs):\n",
    "                        roles[sujet] = 'agresseur'\n",
    "                        break\n",
    "\n",
    "    return roles\n"
   ]
  },
  {
   "cell_type": "code",
   "execution_count": null,
   "id": "1de8f1a3-cf5a-4ec3-9104-0651bb9aea5a",
   "metadata": {},
   "outputs": [],
   "source": [
    "articles['roles_detectes'] = articles.progress_apply(\n",
    "    lambda row: detect_roles(row['texte_clean'], row['sujets']),\n",
    "    axis=1\n",
    ")"
   ]
  },
  {
   "cell_type": "code",
   "execution_count": null,
   "id": "01fb79cb-cb55-4530-a1b4-a59ae024a54e",
   "metadata": {},
   "outputs": [],
   "source": [
    "from random import randint\n",
    "i=randint(0,29)\n",
    "print(articles.iloc[i]['sujets'])\n",
    "print(articles.iloc[i]['roles_detectes'])\n",
    "print(articles.iloc[i]['texte'])\n"
   ]
  },
  {
   "cell_type": "code",
   "execution_count": null,
   "id": "e1d0caa0-bd78-436e-82c7-aa8989e79c79",
   "metadata": {},
   "outputs": [],
   "source": []
  },
  {
   "cell_type": "code",
   "execution_count": null,
   "id": "24d368e1-5e5d-4753-9a1c-5648679c1416",
   "metadata": {},
   "outputs": [],
   "source": []
  }
 ],
 "metadata": {
  "kernelspec": {
   "display_name": "Python 3 (ipykernel)",
   "language": "python",
   "name": "python3"
  },
  "language_info": {
   "codemirror_mode": {
    "name": "ipython",
    "version": 3
   },
   "file_extension": ".py",
   "mimetype": "text/x-python",
   "name": "python",
   "nbconvert_exporter": "python",
   "pygments_lexer": "ipython3",
   "version": "3.12.9"
  }
 },
 "nbformat": 4,
 "nbformat_minor": 5
}
