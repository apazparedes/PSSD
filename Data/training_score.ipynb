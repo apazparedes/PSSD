{
 "cells": [
  {
   "cell_type": "code",
   "execution_count": null,
   "id": "320cb460-b467-47d1-b9a9-e35c9fc377b1",
   "metadata": {},
   "outputs": [],
   "source": [
    "%run training_theme_classification"
   ]
  },
  {
   "cell_type": "code",
   "execution_count": 46,
   "id": "c8cf210e-094c-49a5-8713-3e7d75968e49",
   "metadata": {},
   "outputs": [
    {
     "name": "stdout",
     "output_type": "stream",
     "text": [
      "Using device: cuda\n"
     ]
    }
   ],
   "source": [
    "import torch \n",
    "device = torch.device(\"cuda\" if torch.cuda.is_available() else \"cpu\")\n",
    "print(f\"Using device: {device}\")"
   ]
  },
  {
   "cell_type": "code",
   "execution_count": 47,
   "id": "4aa28df4-58a5-48d4-a2e6-6d3890fe3869",
   "metadata": {},
   "outputs": [],
   "source": [
    "import pandas as pd\n",
    "df = pd.read_csv('Data/actualite.csv')"
   ]
  },
  {
   "cell_type": "code",
   "execution_count": 48,
   "id": "0d07f93b-9e22-4a9b-92a7-0606dc5add78",
   "metadata": {},
   "outputs": [],
   "source": [
    "score = pd.read_csv('Annotations/scores.csv')"
   ]
  },
  {
   "cell_type": "code",
   "execution_count": 49,
   "id": "0eac821f-5221-43e5-b0f3-9b4090534400",
   "metadata": {},
   "outputs": [
    {
     "data": {
      "text/plain": [
       "(87, 2)"
      ]
     },
     "execution_count": 49,
     "metadata": {},
     "output_type": "execute_result"
    }
   ],
   "source": [
    "score.shape"
   ]
  },
  {
   "cell_type": "code",
   "execution_count": 50,
   "id": "504e431b-267a-4024-9d95-ecc57d8f002f",
   "metadata": {},
   "outputs": [],
   "source": [
    "df_merged = df.merge(score, on=\"identifiant\", how=\"left\")"
   ]
  },
  {
   "cell_type": "code",
   "execution_count": 51,
   "id": "a5eb7aef-09de-404d-94bd-ea62e0740b3e",
   "metadata": {},
   "outputs": [],
   "source": [
    "df_merged = df_merged[~df_merged[\"score\"].isna()]"
   ]
  },
  {
   "cell_type": "code",
   "execution_count": 52,
   "id": "3f0142e5-5bcc-41dc-8b9c-1285233f0eee",
   "metadata": {},
   "outputs": [
    {
     "data": {
      "text/html": [
       "<div>\n",
       "<style scoped>\n",
       "    .dataframe tbody tr th:only-of-type {\n",
       "        vertical-align: middle;\n",
       "    }\n",
       "\n",
       "    .dataframe tbody tr th {\n",
       "        vertical-align: top;\n",
       "    }\n",
       "\n",
       "    .dataframe thead th {\n",
       "        text-align: right;\n",
       "    }\n",
       "</style>\n",
       "<table border=\"1\" class=\"dataframe\">\n",
       "  <thead>\n",
       "    <tr style=\"text-align: right;\">\n",
       "      <th></th>\n",
       "      <th>Unnamed: 0</th>\n",
       "      <th>Unnamed: 0_x</th>\n",
       "      <th>identifiant</th>\n",
       "      <th>journal_clean</th>\n",
       "      <th>titre</th>\n",
       "      <th>annee</th>\n",
       "      <th>mois</th>\n",
       "      <th>jour</th>\n",
       "      <th>texte</th>\n",
       "      <th>keywords</th>\n",
       "      <th>Unnamed: 0_y</th>\n",
       "      <th>theme</th>\n",
       "      <th>texte_total</th>\n",
       "      <th>theme_pred_encoded</th>\n",
       "      <th>theme_pred</th>\n",
       "      <th>confidence</th>\n",
       "      <th>true_pred</th>\n",
       "      <th>theme_final</th>\n",
       "      <th>score</th>\n",
       "    </tr>\n",
       "  </thead>\n",
       "  <tbody>\n",
       "    <tr>\n",
       "      <th>79</th>\n",
       "      <td>79</td>\n",
       "      <td>391</td>\n",
       "      <td>beb54101bece711668d64dfe5176bc2f38444b30eb9c31...</td>\n",
       "      <td>Le Figaro</td>\n",
       "      <td>Suspect en garde à vue</td>\n",
       "      <td>1997</td>\n",
       "      <td>8</td>\n",
       "      <td>25</td>\n",
       "      <td>l'époux d'une femme tuée de 18 coups de coutea...</td>\n",
       "      <td>NaN</td>\n",
       "      <td>209.0</td>\n",
       "      <td>actualité</td>\n",
       "      <td>Suspect en garde à vue l'époux d'une femme tué...</td>\n",
       "      <td>0.0</td>\n",
       "      <td>actualité</td>\n",
       "      <td>0.868749</td>\n",
       "      <td>True</td>\n",
       "      <td>actualité</td>\n",
       "      <td>0.250000</td>\n",
       "    </tr>\n",
       "    <tr>\n",
       "      <th>94</th>\n",
       "      <td>94</td>\n",
       "      <td>432</td>\n",
       "      <td>efee09cde26fba5704002a3180ab0bf7f2f711dbff957d...</td>\n",
       "      <td>Le Figaro</td>\n",
       "      <td>Rennes : nouveau meurtre</td>\n",
       "      <td>1998</td>\n",
       "      <td>1</td>\n",
       "      <td>19</td>\n",
       "      <td>« ici, samedi 6 heures, une femme de 38 ans as...</td>\n",
       "      <td>violence, meurtre, rennes, femme, samedi</td>\n",
       "      <td>0.0</td>\n",
       "      <td>actualité</td>\n",
       "      <td>Rennes : nouveau meurtre « ici, samedi 6 heure...</td>\n",
       "      <td>0.0</td>\n",
       "      <td>actualité</td>\n",
       "      <td>0.798279</td>\n",
       "      <td>True</td>\n",
       "      <td>actualité</td>\n",
       "      <td>0.000000</td>\n",
       "    </tr>\n",
       "    <tr>\n",
       "      <th>95</th>\n",
       "      <td>95</td>\n",
       "      <td>433</td>\n",
       "      <td>d183794139b099c8c366eb2482b740f413f22d62bb7d6d...</td>\n",
       "      <td>Le Figaro</td>\n",
       "      <td>Une femme médecin assassinée</td>\n",
       "      <td>1998</td>\n",
       "      <td>1</td>\n",
       "      <td>21</td>\n",
       "      <td>- une femme de 60 ans, médecin allergologue, a...</td>\n",
       "      <td>NaN</td>\n",
       "      <td>1.0</td>\n",
       "      <td>actualité</td>\n",
       "      <td>Une femme médecin assassinée - une femme de 60...</td>\n",
       "      <td>0.0</td>\n",
       "      <td>actualité</td>\n",
       "      <td>0.857006</td>\n",
       "      <td>True</td>\n",
       "      <td>actualité</td>\n",
       "      <td>-0.250000</td>\n",
       "    </tr>\n",
       "    <tr>\n",
       "      <th>96</th>\n",
       "      <td>96</td>\n",
       "      <td>434</td>\n",
       "      <td>00627f5991ec8312f034b90a05650e755e28a6a8109170...</td>\n",
       "      <td>Le Figaro</td>\n",
       "      <td>Le fils du médecin interpellé</td>\n",
       "      <td>1998</td>\n",
       "      <td>1</td>\n",
       "      <td>22</td>\n",
       "      <td>- le fils d'une femme médecin, assassinée chez...</td>\n",
       "      <td>fils</td>\n",
       "      <td>2.0</td>\n",
       "      <td>actualité</td>\n",
       "      <td>Le fils du médecin interpellé - le fils d'une ...</td>\n",
       "      <td>0.0</td>\n",
       "      <td>actualité</td>\n",
       "      <td>0.852238</td>\n",
       "      <td>True</td>\n",
       "      <td>actualité</td>\n",
       "      <td>-0.375000</td>\n",
       "    </tr>\n",
       "    <tr>\n",
       "      <th>103</th>\n",
       "      <td>103</td>\n",
       "      <td>456</td>\n",
       "      <td>76c61c4ffa49ea649bac5d7833787d404c3708d9773c54...</td>\n",
       "      <td>Le Figaro</td>\n",
       "      <td>Le tragique enlèvement de Caroline</td>\n",
       "      <td>1998</td>\n",
       "      <td>3</td>\n",
       "      <td>18</td>\n",
       "      <td>« une affaire sordide » : c'est le seul commen...</td>\n",
       "      <td>bois, soir, poursuivent, investigations, inspe...</td>\n",
       "      <td>9.0</td>\n",
       "      <td>actualité</td>\n",
       "      <td>Le tragique enlèvement de Caroline « une affai...</td>\n",
       "      <td>3.0</td>\n",
       "      <td>politique</td>\n",
       "      <td>0.573615</td>\n",
       "      <td>True</td>\n",
       "      <td>actualité</td>\n",
       "      <td>-0.500000</td>\n",
       "    </tr>\n",
       "    <tr>\n",
       "      <th>...</th>\n",
       "      <td>...</td>\n",
       "      <td>...</td>\n",
       "      <td>...</td>\n",
       "      <td>...</td>\n",
       "      <td>...</td>\n",
       "      <td>...</td>\n",
       "      <td>...</td>\n",
       "      <td>...</td>\n",
       "      <td>...</td>\n",
       "      <td>...</td>\n",
       "      <td>...</td>\n",
       "      <td>...</td>\n",
       "      <td>...</td>\n",
       "      <td>...</td>\n",
       "      <td>...</td>\n",
       "      <td>...</td>\n",
       "      <td>...</td>\n",
       "      <td>...</td>\n",
       "      <td>...</td>\n",
       "    </tr>\n",
       "    <tr>\n",
       "      <th>10490</th>\n",
       "      <td>10488</td>\n",
       "      <td>69726</td>\n",
       "      <td>bdf25683403919f60ef342ee26077f54820a3e712cd475...</td>\n",
       "      <td>Le Point</td>\n",
       "      <td>Vénissieux : un homme se filme en train de tue...</td>\n",
       "      <td>2024</td>\n",
       "      <td>2</td>\n",
       "      <td>17</td>\n",
       "      <td>le corps d'une jeune femme a été retrouvé dans...</td>\n",
       "      <td>jeune, tuer, corps, retrouvé, filme, suicider,...</td>\n",
       "      <td>251.0</td>\n",
       "      <td>actualité</td>\n",
       "      <td>Vénissieux : un homme se filme en train de tue...</td>\n",
       "      <td>0.0</td>\n",
       "      <td>actualité</td>\n",
       "      <td>0.864363</td>\n",
       "      <td>True</td>\n",
       "      <td>actualité</td>\n",
       "      <td>-0.125000</td>\n",
       "    </tr>\n",
       "    <tr>\n",
       "      <th>10569</th>\n",
       "      <td>10567</td>\n",
       "      <td>70473</td>\n",
       "      <td>5dee4cabc6efe7a314ca832711d82445672d002596934d...</td>\n",
       "      <td>Le Figaro</td>\n",
       "      <td>Meurtre conjugal près de Nice : le suspect mis...</td>\n",
       "      <td>2024</td>\n",
       "      <td>2</td>\n",
       "      <td>29</td>\n",
       "      <td>le figaro niceaprès 48 heures de garde à vue, ...</td>\n",
       "      <td>mis, suspect, examen</td>\n",
       "      <td>352.0</td>\n",
       "      <td>actualité</td>\n",
       "      <td>Meurtre conjugal près de Nice : le suspect mis...</td>\n",
       "      <td>0.0</td>\n",
       "      <td>actualité</td>\n",
       "      <td>0.832457</td>\n",
       "      <td>True</td>\n",
       "      <td>actualité</td>\n",
       "      <td>0.750000</td>\n",
       "    </tr>\n",
       "    <tr>\n",
       "      <th>10775</th>\n",
       "      <td>10773</td>\n",
       "      <td>72137</td>\n",
       "      <td>e47da7a5c284da5d8114c1014ee551115b22c5446a8e6c...</td>\n",
       "      <td>Libération</td>\n",
       "      <td>Le réalisateur Nils Tavernier visé par deux pl...</td>\n",
       "      <td>2024</td>\n",
       "      <td>4</td>\n",
       "      <td>5</td>\n",
       "      <td>jennifer covillault miramont et laura lardeux ...</td>\n",
       "      <td>obs, réalisateur, nils, jennifer, miramont, fa...</td>\n",
       "      <td>387.0</td>\n",
       "      <td>actualité</td>\n",
       "      <td>Le réalisateur Nils Tavernier visé par deux pl...</td>\n",
       "      <td>0.0</td>\n",
       "      <td>actualité</td>\n",
       "      <td>0.593339</td>\n",
       "      <td>True</td>\n",
       "      <td>actualité</td>\n",
       "      <td>0.500000</td>\n",
       "    </tr>\n",
       "    <tr>\n",
       "      <th>10797</th>\n",
       "      <td>10795</td>\n",
       "      <td>72299</td>\n",
       "      <td>997400ff56c84208c33e328a30abf85f74b90b963b3b33...</td>\n",
       "      <td>Le Figaro</td>\n",
       "      <td>Football: Florencia Guiñazu tuée par son ex-co...</td>\n",
       "      <td>2024</td>\n",
       "      <td>4</td>\n",
       "      <td>9</td>\n",
       "      <td>un féminicide a touché ce samedi le monde du f...</td>\n",
       "      <td>domicile, football:, joueuse, guiñazu, florencia</td>\n",
       "      <td>384.0</td>\n",
       "      <td>actualité</td>\n",
       "      <td>Football: Florencia Guiñazu tuée par son ex-co...</td>\n",
       "      <td>0.0</td>\n",
       "      <td>actualité</td>\n",
       "      <td>0.790045</td>\n",
       "      <td>True</td>\n",
       "      <td>actualité</td>\n",
       "      <td>0.428571</td>\n",
       "    </tr>\n",
       "    <tr>\n",
       "      <th>11280</th>\n",
       "      <td>11278</td>\n",
       "      <td>76728</td>\n",
       "      <td>4a4d5168a3225621b2bf2bc12677e687b1a56265ac7a4d...</td>\n",
       "      <td>L'Humanité</td>\n",
       "      <td>Deux joueurs du XV de France arrêtés</td>\n",
       "      <td>2024</td>\n",
       "      <td>7</td>\n",
       "      <td>10</td>\n",
       "      <td>au lendemain de la suspension d'un joueur du x...</td>\n",
       "      <td>ligne, melvyn, arrêtés, jaminet, joueurs</td>\n",
       "      <td>247.0</td>\n",
       "      <td>actualité</td>\n",
       "      <td>Deux joueurs du XV de France arrêtés au lendem...</td>\n",
       "      <td>0.0</td>\n",
       "      <td>actualité</td>\n",
       "      <td>0.799633</td>\n",
       "      <td>True</td>\n",
       "      <td>actualité</td>\n",
       "      <td>0.125000</td>\n",
       "    </tr>\n",
       "  </tbody>\n",
       "</table>\n",
       "<p>89 rows × 19 columns</p>\n",
       "</div>"
      ],
      "text/plain": [
       "       Unnamed: 0  Unnamed: 0_x  \\\n",
       "79             79           391   \n",
       "94             94           432   \n",
       "95             95           433   \n",
       "96             96           434   \n",
       "103           103           456   \n",
       "...           ...           ...   \n",
       "10490       10488         69726   \n",
       "10569       10567         70473   \n",
       "10775       10773         72137   \n",
       "10797       10795         72299   \n",
       "11280       11278         76728   \n",
       "\n",
       "                                             identifiant journal_clean  \\\n",
       "79     beb54101bece711668d64dfe5176bc2f38444b30eb9c31...     Le Figaro   \n",
       "94     efee09cde26fba5704002a3180ab0bf7f2f711dbff957d...     Le Figaro   \n",
       "95     d183794139b099c8c366eb2482b740f413f22d62bb7d6d...     Le Figaro   \n",
       "96     00627f5991ec8312f034b90a05650e755e28a6a8109170...     Le Figaro   \n",
       "103    76c61c4ffa49ea649bac5d7833787d404c3708d9773c54...     Le Figaro   \n",
       "...                                                  ...           ...   \n",
       "10490  bdf25683403919f60ef342ee26077f54820a3e712cd475...      Le Point   \n",
       "10569  5dee4cabc6efe7a314ca832711d82445672d002596934d...     Le Figaro   \n",
       "10775  e47da7a5c284da5d8114c1014ee551115b22c5446a8e6c...    Libération   \n",
       "10797  997400ff56c84208c33e328a30abf85f74b90b963b3b33...     Le Figaro   \n",
       "11280  4a4d5168a3225621b2bf2bc12677e687b1a56265ac7a4d...    L'Humanité   \n",
       "\n",
       "                                                   titre  annee  mois  jour  \\\n",
       "79                                Suspect en garde à vue   1997     8    25   \n",
       "94                              Rennes : nouveau meurtre   1998     1    19   \n",
       "95                          Une femme médecin assassinée   1998     1    21   \n",
       "96                         Le fils du médecin interpellé   1998     1    22   \n",
       "103                   Le tragique enlèvement de Caroline   1998     3    18   \n",
       "...                                                  ...    ...   ...   ...   \n",
       "10490  Vénissieux : un homme se filme en train de tue...   2024     2    17   \n",
       "10569  Meurtre conjugal près de Nice : le suspect mis...   2024     2    29   \n",
       "10775  Le réalisateur Nils Tavernier visé par deux pl...   2024     4     5   \n",
       "10797  Football: Florencia Guiñazu tuée par son ex-co...   2024     4     9   \n",
       "11280               Deux joueurs du XV de France arrêtés   2024     7    10   \n",
       "\n",
       "                                                   texte  \\\n",
       "79     l'époux d'une femme tuée de 18 coups de coutea...   \n",
       "94     « ici, samedi 6 heures, une femme de 38 ans as...   \n",
       "95     - une femme de 60 ans, médecin allergologue, a...   \n",
       "96     - le fils d'une femme médecin, assassinée chez...   \n",
       "103    « une affaire sordide » : c'est le seul commen...   \n",
       "...                                                  ...   \n",
       "10490  le corps d'une jeune femme a été retrouvé dans...   \n",
       "10569  le figaro niceaprès 48 heures de garde à vue, ...   \n",
       "10775  jennifer covillault miramont et laura lardeux ...   \n",
       "10797  un féminicide a touché ce samedi le monde du f...   \n",
       "11280  au lendemain de la suspension d'un joueur du x...   \n",
       "\n",
       "                                                keywords  Unnamed: 0_y  \\\n",
       "79                                                   NaN         209.0   \n",
       "94              violence, meurtre, rennes, femme, samedi           0.0   \n",
       "95                                                   NaN           1.0   \n",
       "96                                                  fils           2.0   \n",
       "103    bois, soir, poursuivent, investigations, inspe...           9.0   \n",
       "...                                                  ...           ...   \n",
       "10490  jeune, tuer, corps, retrouvé, filme, suicider,...         251.0   \n",
       "10569                               mis, suspect, examen         352.0   \n",
       "10775  obs, réalisateur, nils, jennifer, miramont, fa...         387.0   \n",
       "10797   domicile, football:, joueuse, guiñazu, florencia         384.0   \n",
       "11280           ligne, melvyn, arrêtés, jaminet, joueurs         247.0   \n",
       "\n",
       "           theme                                        texte_total  \\\n",
       "79     actualité  Suspect en garde à vue l'époux d'une femme tué...   \n",
       "94     actualité  Rennes : nouveau meurtre « ici, samedi 6 heure...   \n",
       "95     actualité  Une femme médecin assassinée - une femme de 60...   \n",
       "96     actualité  Le fils du médecin interpellé - le fils d'une ...   \n",
       "103    actualité  Le tragique enlèvement de Caroline « une affai...   \n",
       "...          ...                                                ...   \n",
       "10490  actualité  Vénissieux : un homme se filme en train de tue...   \n",
       "10569  actualité  Meurtre conjugal près de Nice : le suspect mis...   \n",
       "10775  actualité  Le réalisateur Nils Tavernier visé par deux pl...   \n",
       "10797  actualité  Football: Florencia Guiñazu tuée par son ex-co...   \n",
       "11280  actualité  Deux joueurs du XV de France arrêtés au lendem...   \n",
       "\n",
       "       theme_pred_encoded theme_pred  confidence  true_pred theme_final  \\\n",
       "79                    0.0  actualité    0.868749       True   actualité   \n",
       "94                    0.0  actualité    0.798279       True   actualité   \n",
       "95                    0.0  actualité    0.857006       True   actualité   \n",
       "96                    0.0  actualité    0.852238       True   actualité   \n",
       "103                   3.0  politique    0.573615       True   actualité   \n",
       "...                   ...        ...         ...        ...         ...   \n",
       "10490                 0.0  actualité    0.864363       True   actualité   \n",
       "10569                 0.0  actualité    0.832457       True   actualité   \n",
       "10775                 0.0  actualité    0.593339       True   actualité   \n",
       "10797                 0.0  actualité    0.790045       True   actualité   \n",
       "11280                 0.0  actualité    0.799633       True   actualité   \n",
       "\n",
       "          score  \n",
       "79     0.250000  \n",
       "94     0.000000  \n",
       "95    -0.250000  \n",
       "96    -0.375000  \n",
       "103   -0.500000  \n",
       "...         ...  \n",
       "10490 -0.125000  \n",
       "10569  0.750000  \n",
       "10775  0.500000  \n",
       "10797  0.428571  \n",
       "11280  0.125000  \n",
       "\n",
       "[89 rows x 19 columns]"
      ]
     },
     "execution_count": 52,
     "metadata": {},
     "output_type": "execute_result"
    }
   ],
   "source": [
    "df_merged"
   ]
  },
  {
   "cell_type": "code",
   "execution_count": 53,
   "id": "0c6d8ecd-6689-4730-8eef-b186e2b8e0b3",
   "metadata": {},
   "outputs": [],
   "source": [
    "from sklearn.model_selection import train_test_split\n",
    "\n",
    "train_df, test_df = train_test_split(\n",
    "    df_merged[[\"texte_total\", \"score\"]].dropna(),\n",
    "    test_size=0.2,\n",
    "    random_state=42\n",
    ")\n",
    "\n",
    "\n",
    "train_df = train_df.reset_index(drop=True)\n",
    "test_df = test_df.reset_index(drop=True)\n"
   ]
  },
  {
   "cell_type": "code",
   "execution_count": 66,
   "id": "b0cb6707-5e6e-4074-b671-3a54ce511499",
   "metadata": {},
   "outputs": [],
   "source": [
    "from transformers import CamembertTokenizer\n",
    "\n",
    "tokenizer = CamembertTokenizer.from_pretrained(\"camembert-base\")\n",
    "train_dataset = RegressionDataset(train_df, tokenizer)\n",
    "train_dataset = RegressionDataset(train_df, tokenizer, inference=False)\n",
    "full_df = df_merged[[\"texte_total\"]].dropna().reset_index(drop=True)\n",
    "full_dataset = RegressionDataset(full_df, tokenizer, inference=True)\n",
    "full_loader = DataLoader(full_dataset, batch_size=16)"
   ]
  },
  {
   "cell_type": "code",
   "execution_count": 55,
   "id": "024f343e-e78c-42b4-bca2-91f2cac06f8d",
   "metadata": {},
   "outputs": [],
   "source": [
    "import torch.nn as nn\n",
    "from transformers import CamembertModel\n",
    "\n",
    "class CamembertRegressor(nn.Module):\n",
    "    def __init__(self):\n",
    "        super().__init__()\n",
    "        self.backbone = CamembertModel.from_pretrained(\"camembert-base\")\n",
    "\n",
    "        # Freeze all CamemBERT layers\n",
    "        for param in self.backbone.parameters():\n",
    "            param.requires_grad = False\n",
    "\n",
    "        # Use [CLS] token (token 0) → Linear → scalar output\n",
    "        self.regressor = nn.Linear(768, 1)\n",
    "\n",
    "    def forward(self, input_ids, attention_mask):\n",
    "        with torch.no_grad():\n",
    "            outputs = self.backbone(input_ids=input_ids, attention_mask=attention_mask)\n",
    "        cls_embedding = outputs.last_hidden_state[:, 0, :]  # [batch, 768]\n",
    "        score = self.regressor(cls_embedding).squeeze(1)    # [batch]\n",
    "        return score\n"
   ]
  },
  {
   "cell_type": "code",
   "execution_count": 63,
   "id": "d53fcd61-281e-4dd3-a5b6-56d6c699483d",
   "metadata": {},
   "outputs": [],
   "source": [
    "from torch.utils.data import Dataset\n",
    "\n",
    "class RegressionDataset(Dataset):\n",
    "    def __init__(self, df, tokenizer, max_length=256, inference=False):\n",
    "        self.df = df.reset_index(drop=True)\n",
    "        self.tokenizer = tokenizer\n",
    "        self.max_length = max_length\n",
    "        self.inference = inference\n",
    "\n",
    "    def __len__(self):\n",
    "        return len(self.df)\n",
    "\n",
    "    def __getitem__(self, idx):\n",
    "        text = str(self.df.iloc[idx][\"texte_total\"])\n",
    "        inputs = self.tokenizer(\n",
    "            text,\n",
    "            padding=\"max_length\",\n",
    "            truncation=True,\n",
    "            max_length=self.max_length,\n",
    "            return_tensors=\"pt\"\n",
    "        )\n",
    "        item = {\n",
    "            \"input_ids\": inputs[\"input_ids\"].squeeze(0),\n",
    "            \"attention_mask\": inputs[\"attention_mask\"].squeeze(0),\n",
    "        }\n",
    "\n",
    "        if not self.inference:\n",
    "            score = self.df.iloc[idx][\"score\"]\n",
    "            item[\"score\"] = torch.tensor(score, dtype=torch.float)\n",
    "\n",
    "        return item\n"
   ]
  },
  {
   "cell_type": "code",
   "execution_count": 57,
   "id": "29b230ee-ad14-4a20-975b-f95dcc46f457",
   "metadata": {},
   "outputs": [],
   "source": [
    "model = CamembertRegressor().to(device)\n",
    "criterion = nn.MSELoss()\n",
    "optimizer = torch.optim.Adam(model.regressor.parameters(), lr=1e-4)\n"
   ]
  },
  {
   "cell_type": "code",
   "execution_count": 58,
   "id": "d7ff9c28-a637-487e-94f7-69bedd65f986",
   "metadata": {},
   "outputs": [],
   "source": [
    "from torch.utils.data import DataLoader\n",
    "\n",
    "train_loader = DataLoader(train_dataset, batch_size=16, shuffle=True)\n",
    "test_loader = DataLoader(test_dataset, batch_size=16)"
   ]
  },
  {
   "cell_type": "code",
   "execution_count": 59,
   "id": "688300c0-7156-4215-aeea-879e253ecadd",
   "metadata": {},
   "outputs": [
    {
     "name": "stderr",
     "output_type": "stream",
     "text": [
      "  3%|▎         | 1/30 [00:01<00:44,  1.53s/it]"
     ]
    },
    {
     "name": "stdout",
     "output_type": "stream",
     "text": [
      "Epoch 1/30 — Loss: 0.2193 | MSE: 0.1678 | R²: -0.0709\n"
     ]
    },
    {
     "name": "stderr",
     "output_type": "stream",
     "text": [
      "  7%|▋         | 2/30 [00:03<00:42,  1.53s/it]"
     ]
    },
    {
     "name": "stdout",
     "output_type": "stream",
     "text": [
      "Epoch 2/30 — Loss: 0.2065 | MSE: 0.1638 | R²: -0.0456\n"
     ]
    },
    {
     "name": "stderr",
     "output_type": "stream",
     "text": [
      " 10%|█         | 3/30 [00:04<00:40,  1.50s/it]"
     ]
    },
    {
     "name": "stdout",
     "output_type": "stream",
     "text": [
      "Epoch 3/30 — Loss: 0.1980 | MSE: 0.1608 | R²: -0.0263\n"
     ]
    },
    {
     "name": "stderr",
     "output_type": "stream",
     "text": [
      " 13%|█▎        | 4/30 [00:06<00:38,  1.49s/it]"
     ]
    },
    {
     "name": "stdout",
     "output_type": "stream",
     "text": [
      "Epoch 4/30 — Loss: 0.2027 | MSE: 0.1591 | R²: -0.0152\n"
     ]
    },
    {
     "name": "stderr",
     "output_type": "stream",
     "text": [
      " 17%|█▋        | 5/30 [00:07<00:37,  1.51s/it]"
     ]
    },
    {
     "name": "stdout",
     "output_type": "stream",
     "text": [
      "Epoch 5/30 — Loss: 0.2060 | MSE: 0.1579 | R²: -0.0080\n"
     ]
    },
    {
     "name": "stderr",
     "output_type": "stream",
     "text": [
      " 20%|██        | 6/30 [00:09<00:35,  1.49s/it]"
     ]
    },
    {
     "name": "stdout",
     "output_type": "stream",
     "text": [
      "Epoch 6/30 — Loss: 0.1905 | MSE: 0.1571 | R²: -0.0028\n"
     ]
    },
    {
     "name": "stderr",
     "output_type": "stream",
     "text": [
      " 23%|██▎       | 7/30 [00:10<00:33,  1.47s/it]"
     ]
    },
    {
     "name": "stdout",
     "output_type": "stream",
     "text": [
      "Epoch 7/30 — Loss: 0.2045 | MSE: 0.1565 | R²: 0.0010\n"
     ]
    },
    {
     "name": "stderr",
     "output_type": "stream",
     "text": [
      " 27%|██▋       | 8/30 [00:11<00:32,  1.47s/it]"
     ]
    },
    {
     "name": "stdout",
     "output_type": "stream",
     "text": [
      "Epoch 8/30 — Loss: 0.2211 | MSE: 0.1562 | R²: 0.0033\n"
     ]
    },
    {
     "name": "stderr",
     "output_type": "stream",
     "text": [
      " 30%|███       | 9/30 [00:13<00:30,  1.47s/it]"
     ]
    },
    {
     "name": "stdout",
     "output_type": "stream",
     "text": [
      "Epoch 9/30 — Loss: 0.2191 | MSE: 0.1560 | R²: 0.0043\n"
     ]
    },
    {
     "name": "stderr",
     "output_type": "stream",
     "text": [
      " 33%|███▎      | 10/30 [00:14<00:29,  1.46s/it]"
     ]
    },
    {
     "name": "stdout",
     "output_type": "stream",
     "text": [
      "Epoch 10/30 — Loss: 0.2137 | MSE: 0.1559 | R²: 0.0053\n"
     ]
    },
    {
     "name": "stderr",
     "output_type": "stream",
     "text": [
      " 37%|███▋      | 11/30 [00:16<00:28,  1.47s/it]"
     ]
    },
    {
     "name": "stdout",
     "output_type": "stream",
     "text": [
      "Epoch 11/30 — Loss: 0.2142 | MSE: 0.1557 | R²: 0.0065\n"
     ]
    },
    {
     "name": "stderr",
     "output_type": "stream",
     "text": [
      " 40%|████      | 12/30 [00:17<00:26,  1.47s/it]"
     ]
    },
    {
     "name": "stdout",
     "output_type": "stream",
     "text": [
      "Epoch 12/30 — Loss: 0.1829 | MSE: 0.1556 | R²: 0.0068\n"
     ]
    },
    {
     "name": "stderr",
     "output_type": "stream",
     "text": [
      " 43%|████▎     | 13/30 [00:19<00:24,  1.46s/it]"
     ]
    },
    {
     "name": "stdout",
     "output_type": "stream",
     "text": [
      "Epoch 13/30 — Loss: 0.2147 | MSE: 0.1556 | R²: 0.0069\n"
     ]
    },
    {
     "name": "stderr",
     "output_type": "stream",
     "text": [
      " 47%|████▋     | 14/30 [00:20<00:23,  1.45s/it]"
     ]
    },
    {
     "name": "stdout",
     "output_type": "stream",
     "text": [
      "Epoch 14/30 — Loss: 0.2095 | MSE: 0.1555 | R²: 0.0077\n"
     ]
    },
    {
     "name": "stderr",
     "output_type": "stream",
     "text": [
      " 50%|█████     | 15/30 [00:22<00:22,  1.47s/it]"
     ]
    },
    {
     "name": "stdout",
     "output_type": "stream",
     "text": [
      "Epoch 15/30 — Loss: 0.2186 | MSE: 0.1554 | R²: 0.0083\n"
     ]
    },
    {
     "name": "stderr",
     "output_type": "stream",
     "text": [
      " 53%|█████▎    | 16/30 [00:23<00:20,  1.46s/it]"
     ]
    },
    {
     "name": "stdout",
     "output_type": "stream",
     "text": [
      "Epoch 16/30 — Loss: 0.1932 | MSE: 0.1553 | R²: 0.0088\n"
     ]
    },
    {
     "name": "stderr",
     "output_type": "stream",
     "text": [
      " 57%|█████▋    | 17/30 [00:25<00:18,  1.46s/it]"
     ]
    },
    {
     "name": "stdout",
     "output_type": "stream",
     "text": [
      "Epoch 17/30 — Loss: 0.1957 | MSE: 0.1553 | R²: 0.0089\n"
     ]
    },
    {
     "name": "stderr",
     "output_type": "stream",
     "text": [
      " 60%|██████    | 18/30 [00:26<00:17,  1.47s/it]"
     ]
    },
    {
     "name": "stdout",
     "output_type": "stream",
     "text": [
      "Epoch 18/30 — Loss: 0.2180 | MSE: 0.1552 | R²: 0.0092\n"
     ]
    },
    {
     "name": "stderr",
     "output_type": "stream",
     "text": [
      " 63%|██████▎   | 19/30 [00:28<00:16,  1.46s/it]"
     ]
    },
    {
     "name": "stdout",
     "output_type": "stream",
     "text": [
      "Epoch 19/30 — Loss: 0.2198 | MSE: 0.1552 | R²: 0.0097\n"
     ]
    },
    {
     "name": "stderr",
     "output_type": "stream",
     "text": [
      " 67%|██████▋   | 20/30 [00:29<00:14,  1.46s/it]"
     ]
    },
    {
     "name": "stdout",
     "output_type": "stream",
     "text": [
      "Epoch 20/30 — Loss: 0.2217 | MSE: 0.1551 | R²: 0.0100\n"
     ]
    },
    {
     "name": "stderr",
     "output_type": "stream",
     "text": [
      " 70%|███████   | 21/30 [00:30<00:13,  1.45s/it]"
     ]
    },
    {
     "name": "stdout",
     "output_type": "stream",
     "text": [
      "Epoch 21/30 — Loss: 0.1886 | MSE: 0.1551 | R²: 0.0102\n"
     ]
    },
    {
     "name": "stderr",
     "output_type": "stream",
     "text": [
      " 73%|███████▎  | 22/30 [00:32<00:11,  1.45s/it]"
     ]
    },
    {
     "name": "stdout",
     "output_type": "stream",
     "text": [
      "Epoch 22/30 — Loss: 0.2017 | MSE: 0.1551 | R²: 0.0102\n"
     ]
    },
    {
     "name": "stderr",
     "output_type": "stream",
     "text": [
      " 77%|███████▋  | 23/30 [00:33<00:10,  1.45s/it]"
     ]
    },
    {
     "name": "stdout",
     "output_type": "stream",
     "text": [
      "Epoch 23/30 — Loss: 0.1951 | MSE: 0.1552 | R²: 0.0092\n"
     ]
    },
    {
     "name": "stderr",
     "output_type": "stream",
     "text": [
      " 80%|████████  | 24/30 [00:35<00:08,  1.45s/it]"
     ]
    },
    {
     "name": "stdout",
     "output_type": "stream",
     "text": [
      "Epoch 24/30 — Loss: 0.2003 | MSE: 0.1554 | R²: 0.0083\n"
     ]
    },
    {
     "name": "stderr",
     "output_type": "stream",
     "text": [
      " 83%|████████▎ | 25/30 [00:36<00:07,  1.45s/it]"
     ]
    },
    {
     "name": "stdout",
     "output_type": "stream",
     "text": [
      "Epoch 25/30 — Loss: 0.1834 | MSE: 0.1554 | R²: 0.0084\n"
     ]
    },
    {
     "name": "stderr",
     "output_type": "stream",
     "text": [
      " 87%|████████▋ | 26/30 [00:38<00:05,  1.47s/it]"
     ]
    },
    {
     "name": "stdout",
     "output_type": "stream",
     "text": [
      "Epoch 26/30 — Loss: 0.2174 | MSE: 0.1553 | R²: 0.0090\n"
     ]
    },
    {
     "name": "stderr",
     "output_type": "stream",
     "text": [
      " 90%|█████████ | 27/30 [00:39<00:04,  1.46s/it]"
     ]
    },
    {
     "name": "stdout",
     "output_type": "stream",
     "text": [
      "Epoch 27/30 — Loss: 0.1888 | MSE: 0.1554 | R²: 0.0082\n"
     ]
    },
    {
     "name": "stderr",
     "output_type": "stream",
     "text": [
      " 93%|█████████▎| 28/30 [00:41<00:02,  1.47s/it]"
     ]
    },
    {
     "name": "stdout",
     "output_type": "stream",
     "text": [
      "Epoch 28/30 — Loss: 0.1883 | MSE: 0.1555 | R²: 0.0076\n"
     ]
    },
    {
     "name": "stderr",
     "output_type": "stream",
     "text": [
      " 97%|█████████▋| 29/30 [00:42<00:01,  1.47s/it]"
     ]
    },
    {
     "name": "stdout",
     "output_type": "stream",
     "text": [
      "Epoch 29/30 — Loss: 0.1963 | MSE: 0.1556 | R²: 0.0072\n"
     ]
    },
    {
     "name": "stderr",
     "output_type": "stream",
     "text": [
      "100%|██████████| 30/30 [00:44<00:00,  1.47s/it]"
     ]
    },
    {
     "name": "stdout",
     "output_type": "stream",
     "text": [
      "Epoch 30/30 — Loss: 0.2064 | MSE: 0.1556 | R²: 0.0068\n"
     ]
    },
    {
     "name": "stderr",
     "output_type": "stream",
     "text": [
      "\n"
     ]
    }
   ],
   "source": [
    "from sklearn.metrics import mean_squared_error, r2_score\n",
    "from tqdm import tqdm\n",
    "\n",
    "num_epochs = 30\n",
    "\n",
    "for epoch in tqdm(range(num_epochs)):\n",
    "    model.train()\n",
    "    total_loss = 0\n",
    "\n",
    "    for batch in train_loader:\n",
    "        input_ids = batch['input_ids'].to(device)\n",
    "        attention_mask = batch['attention_mask'].to(device)\n",
    "        labels = batch['score'].to(device)  \n",
    "        outputs = model(input_ids, attention_mask) \n",
    "        loss = criterion(outputs, labels)\n",
    "\n",
    "        optimizer.zero_grad()\n",
    "        loss.backward()\n",
    "        optimizer.step()\n",
    "\n",
    "        total_loss += loss.item()\n",
    "\n",
    "    # Évaluation\n",
    "    model.eval()\n",
    "    all_preds = []\n",
    "    all_labels = []\n",
    "\n",
    "    with torch.no_grad():\n",
    "        for batch in test_loader:\n",
    "            input_ids = batch['input_ids'].to(device)\n",
    "            attention_mask = batch['attention_mask'].to(device)\n",
    "            labels = batch['score'].to(device)\n",
    "\n",
    "            outputs = model(input_ids, attention_mask)\n",
    "\n",
    "            all_preds.extend(outputs.cpu().numpy())\n",
    "            all_labels.extend(labels.cpu().numpy())\n",
    "\n",
    "    mse = mean_squared_error(all_labels, all_preds)\n",
    "    r2 = r2_score(all_labels, all_preds)\n",
    "\n",
    "    print(f\"Epoch {epoch+1}/{num_epochs} — Loss: {total_loss/len(train_loader):.4f} | \"\n",
    "          f\"MSE: {mse:.4f} | R²: {r2:.4f}\")\n",
    "\n"
   ]
  },
  {
   "cell_type": "code",
   "execution_count": 60,
   "id": "6bccdea8-2d1e-4b25-a89e-4ef5e6e543eb",
   "metadata": {},
   "outputs": [],
   "source": [
    "full_df = df_merged[[\"texte_total\"]].dropna().reset_index(drop=True)\n",
    "full_dataset = RegressionDataset(full_df, tokenizer)"
   ]
  },
  {
   "cell_type": "code",
   "execution_count": 61,
   "id": "50a52b4b-fd6e-4a26-b0b5-71de9c1d4546",
   "metadata": {},
   "outputs": [],
   "source": [
    "full_loader = DataLoader(full_dataset, batch_size=16)"
   ]
  },
  {
   "cell_type": "code",
   "execution_count": 67,
   "id": "34b78913-49e7-4add-81d4-fbf8b7bf748c",
   "metadata": {},
   "outputs": [],
   "source": [
    "model.eval()\n",
    "all_preds = []\n",
    "\n",
    "with torch.no_grad():\n",
    "    for batch in full_loader:\n",
    "        input_ids = batch[\"input_ids\"].to(device)\n",
    "        attention_mask = batch[\"attention_mask\"].to(device)\n",
    "        outputs = model(input_ids, attention_mask)\n",
    "        all_preds.extend(outputs.cpu().numpy())\n",
    "\n",
    "df_merged = df_merged.dropna(subset=[\"texte_total\"]).reset_index(drop=True)\n",
    "df_merged[\"score_pred\"] = all_preds\n"
   ]
  },
  {
   "cell_type": "code",
   "execution_count": 68,
   "id": "37be9433-6f59-4f27-87e8-be9a7dfa56ae",
   "metadata": {},
   "outputs": [],
   "source": [
    "df_merged = df_merged.dropna(subset=[\"texte_total\"]).reset_index(drop=True)\n",
    "df_merged[\"score_pred\"] = all_preds"
   ]
  },
  {
   "cell_type": "code",
   "execution_count": 69,
   "id": "88d96c6f-5780-4969-8c5a-da2e8e985cc5",
   "metadata": {},
   "outputs": [
    {
     "data": {
      "text/html": [
       "<div>\n",
       "<style scoped>\n",
       "    .dataframe tbody tr th:only-of-type {\n",
       "        vertical-align: middle;\n",
       "    }\n",
       "\n",
       "    .dataframe tbody tr th {\n",
       "        vertical-align: top;\n",
       "    }\n",
       "\n",
       "    .dataframe thead th {\n",
       "        text-align: right;\n",
       "    }\n",
       "</style>\n",
       "<table border=\"1\" class=\"dataframe\">\n",
       "  <thead>\n",
       "    <tr style=\"text-align: right;\">\n",
       "      <th></th>\n",
       "      <th>Unnamed: 0</th>\n",
       "      <th>Unnamed: 0_x</th>\n",
       "      <th>identifiant</th>\n",
       "      <th>journal_clean</th>\n",
       "      <th>titre</th>\n",
       "      <th>annee</th>\n",
       "      <th>mois</th>\n",
       "      <th>jour</th>\n",
       "      <th>texte</th>\n",
       "      <th>keywords</th>\n",
       "      <th>Unnamed: 0_y</th>\n",
       "      <th>theme</th>\n",
       "      <th>texte_total</th>\n",
       "      <th>theme_pred_encoded</th>\n",
       "      <th>theme_pred</th>\n",
       "      <th>confidence</th>\n",
       "      <th>true_pred</th>\n",
       "      <th>theme_final</th>\n",
       "      <th>score</th>\n",
       "      <th>score_pred</th>\n",
       "    </tr>\n",
       "  </thead>\n",
       "  <tbody>\n",
       "    <tr>\n",
       "      <th>0</th>\n",
       "      <td>79</td>\n",
       "      <td>391</td>\n",
       "      <td>beb54101bece711668d64dfe5176bc2f38444b30eb9c31...</td>\n",
       "      <td>Le Figaro</td>\n",
       "      <td>Suspect en garde à vue</td>\n",
       "      <td>1997</td>\n",
       "      <td>8</td>\n",
       "      <td>25</td>\n",
       "      <td>l'époux d'une femme tuée de 18 coups de coutea...</td>\n",
       "      <td>NaN</td>\n",
       "      <td>209.0</td>\n",
       "      <td>actualité</td>\n",
       "      <td>Suspect en garde à vue l'époux d'une femme tué...</td>\n",
       "      <td>0.0</td>\n",
       "      <td>actualité</td>\n",
       "      <td>0.868749</td>\n",
       "      <td>True</td>\n",
       "      <td>actualité</td>\n",
       "      <td>0.250000</td>\n",
       "      <td>0.025689</td>\n",
       "    </tr>\n",
       "    <tr>\n",
       "      <th>1</th>\n",
       "      <td>94</td>\n",
       "      <td>432</td>\n",
       "      <td>efee09cde26fba5704002a3180ab0bf7f2f711dbff957d...</td>\n",
       "      <td>Le Figaro</td>\n",
       "      <td>Rennes : nouveau meurtre</td>\n",
       "      <td>1998</td>\n",
       "      <td>1</td>\n",
       "      <td>19</td>\n",
       "      <td>« ici, samedi 6 heures, une femme de 38 ans as...</td>\n",
       "      <td>violence, meurtre, rennes, femme, samedi</td>\n",
       "      <td>0.0</td>\n",
       "      <td>actualité</td>\n",
       "      <td>Rennes : nouveau meurtre « ici, samedi 6 heure...</td>\n",
       "      <td>0.0</td>\n",
       "      <td>actualité</td>\n",
       "      <td>0.798279</td>\n",
       "      <td>True</td>\n",
       "      <td>actualité</td>\n",
       "      <td>0.000000</td>\n",
       "      <td>0.037271</td>\n",
       "    </tr>\n",
       "    <tr>\n",
       "      <th>2</th>\n",
       "      <td>95</td>\n",
       "      <td>433</td>\n",
       "      <td>d183794139b099c8c366eb2482b740f413f22d62bb7d6d...</td>\n",
       "      <td>Le Figaro</td>\n",
       "      <td>Une femme médecin assassinée</td>\n",
       "      <td>1998</td>\n",
       "      <td>1</td>\n",
       "      <td>21</td>\n",
       "      <td>- une femme de 60 ans, médecin allergologue, a...</td>\n",
       "      <td>NaN</td>\n",
       "      <td>1.0</td>\n",
       "      <td>actualité</td>\n",
       "      <td>Une femme médecin assassinée - une femme de 60...</td>\n",
       "      <td>0.0</td>\n",
       "      <td>actualité</td>\n",
       "      <td>0.857006</td>\n",
       "      <td>True</td>\n",
       "      <td>actualité</td>\n",
       "      <td>-0.250000</td>\n",
       "      <td>0.034296</td>\n",
       "    </tr>\n",
       "    <tr>\n",
       "      <th>3</th>\n",
       "      <td>96</td>\n",
       "      <td>434</td>\n",
       "      <td>00627f5991ec8312f034b90a05650e755e28a6a8109170...</td>\n",
       "      <td>Le Figaro</td>\n",
       "      <td>Le fils du médecin interpellé</td>\n",
       "      <td>1998</td>\n",
       "      <td>1</td>\n",
       "      <td>22</td>\n",
       "      <td>- le fils d'une femme médecin, assassinée chez...</td>\n",
       "      <td>fils</td>\n",
       "      <td>2.0</td>\n",
       "      <td>actualité</td>\n",
       "      <td>Le fils du médecin interpellé - le fils d'une ...</td>\n",
       "      <td>0.0</td>\n",
       "      <td>actualité</td>\n",
       "      <td>0.852238</td>\n",
       "      <td>True</td>\n",
       "      <td>actualité</td>\n",
       "      <td>-0.375000</td>\n",
       "      <td>0.046982</td>\n",
       "    </tr>\n",
       "    <tr>\n",
       "      <th>4</th>\n",
       "      <td>103</td>\n",
       "      <td>456</td>\n",
       "      <td>76c61c4ffa49ea649bac5d7833787d404c3708d9773c54...</td>\n",
       "      <td>Le Figaro</td>\n",
       "      <td>Le tragique enlèvement de Caroline</td>\n",
       "      <td>1998</td>\n",
       "      <td>3</td>\n",
       "      <td>18</td>\n",
       "      <td>« une affaire sordide » : c'est le seul commen...</td>\n",
       "      <td>bois, soir, poursuivent, investigations, inspe...</td>\n",
       "      <td>9.0</td>\n",
       "      <td>actualité</td>\n",
       "      <td>Le tragique enlèvement de Caroline « une affai...</td>\n",
       "      <td>3.0</td>\n",
       "      <td>politique</td>\n",
       "      <td>0.573615</td>\n",
       "      <td>True</td>\n",
       "      <td>actualité</td>\n",
       "      <td>-0.500000</td>\n",
       "      <td>0.006438</td>\n",
       "    </tr>\n",
       "    <tr>\n",
       "      <th>...</th>\n",
       "      <td>...</td>\n",
       "      <td>...</td>\n",
       "      <td>...</td>\n",
       "      <td>...</td>\n",
       "      <td>...</td>\n",
       "      <td>...</td>\n",
       "      <td>...</td>\n",
       "      <td>...</td>\n",
       "      <td>...</td>\n",
       "      <td>...</td>\n",
       "      <td>...</td>\n",
       "      <td>...</td>\n",
       "      <td>...</td>\n",
       "      <td>...</td>\n",
       "      <td>...</td>\n",
       "      <td>...</td>\n",
       "      <td>...</td>\n",
       "      <td>...</td>\n",
       "      <td>...</td>\n",
       "      <td>...</td>\n",
       "    </tr>\n",
       "    <tr>\n",
       "      <th>84</th>\n",
       "      <td>10488</td>\n",
       "      <td>69726</td>\n",
       "      <td>bdf25683403919f60ef342ee26077f54820a3e712cd475...</td>\n",
       "      <td>Le Point</td>\n",
       "      <td>Vénissieux : un homme se filme en train de tue...</td>\n",
       "      <td>2024</td>\n",
       "      <td>2</td>\n",
       "      <td>17</td>\n",
       "      <td>le corps d'une jeune femme a été retrouvé dans...</td>\n",
       "      <td>jeune, tuer, corps, retrouvé, filme, suicider,...</td>\n",
       "      <td>251.0</td>\n",
       "      <td>actualité</td>\n",
       "      <td>Vénissieux : un homme se filme en train de tue...</td>\n",
       "      <td>0.0</td>\n",
       "      <td>actualité</td>\n",
       "      <td>0.864363</td>\n",
       "      <td>True</td>\n",
       "      <td>actualité</td>\n",
       "      <td>-0.125000</td>\n",
       "      <td>0.044556</td>\n",
       "    </tr>\n",
       "    <tr>\n",
       "      <th>85</th>\n",
       "      <td>10567</td>\n",
       "      <td>70473</td>\n",
       "      <td>5dee4cabc6efe7a314ca832711d82445672d002596934d...</td>\n",
       "      <td>Le Figaro</td>\n",
       "      <td>Meurtre conjugal près de Nice : le suspect mis...</td>\n",
       "      <td>2024</td>\n",
       "      <td>2</td>\n",
       "      <td>29</td>\n",
       "      <td>le figaro niceaprès 48 heures de garde à vue, ...</td>\n",
       "      <td>mis, suspect, examen</td>\n",
       "      <td>352.0</td>\n",
       "      <td>actualité</td>\n",
       "      <td>Meurtre conjugal près de Nice : le suspect mis...</td>\n",
       "      <td>0.0</td>\n",
       "      <td>actualité</td>\n",
       "      <td>0.832457</td>\n",
       "      <td>True</td>\n",
       "      <td>actualité</td>\n",
       "      <td>0.750000</td>\n",
       "      <td>0.024208</td>\n",
       "    </tr>\n",
       "    <tr>\n",
       "      <th>86</th>\n",
       "      <td>10773</td>\n",
       "      <td>72137</td>\n",
       "      <td>e47da7a5c284da5d8114c1014ee551115b22c5446a8e6c...</td>\n",
       "      <td>Libération</td>\n",
       "      <td>Le réalisateur Nils Tavernier visé par deux pl...</td>\n",
       "      <td>2024</td>\n",
       "      <td>4</td>\n",
       "      <td>5</td>\n",
       "      <td>jennifer covillault miramont et laura lardeux ...</td>\n",
       "      <td>obs, réalisateur, nils, jennifer, miramont, fa...</td>\n",
       "      <td>387.0</td>\n",
       "      <td>actualité</td>\n",
       "      <td>Le réalisateur Nils Tavernier visé par deux pl...</td>\n",
       "      <td>0.0</td>\n",
       "      <td>actualité</td>\n",
       "      <td>0.593339</td>\n",
       "      <td>True</td>\n",
       "      <td>actualité</td>\n",
       "      <td>0.500000</td>\n",
       "      <td>0.045055</td>\n",
       "    </tr>\n",
       "    <tr>\n",
       "      <th>87</th>\n",
       "      <td>10795</td>\n",
       "      <td>72299</td>\n",
       "      <td>997400ff56c84208c33e328a30abf85f74b90b963b3b33...</td>\n",
       "      <td>Le Figaro</td>\n",
       "      <td>Football: Florencia Guiñazu tuée par son ex-co...</td>\n",
       "      <td>2024</td>\n",
       "      <td>4</td>\n",
       "      <td>9</td>\n",
       "      <td>un féminicide a touché ce samedi le monde du f...</td>\n",
       "      <td>domicile, football:, joueuse, guiñazu, florencia</td>\n",
       "      <td>384.0</td>\n",
       "      <td>actualité</td>\n",
       "      <td>Football: Florencia Guiñazu tuée par son ex-co...</td>\n",
       "      <td>0.0</td>\n",
       "      <td>actualité</td>\n",
       "      <td>0.790045</td>\n",
       "      <td>True</td>\n",
       "      <td>actualité</td>\n",
       "      <td>0.428571</td>\n",
       "      <td>0.061558</td>\n",
       "    </tr>\n",
       "    <tr>\n",
       "      <th>88</th>\n",
       "      <td>11278</td>\n",
       "      <td>76728</td>\n",
       "      <td>4a4d5168a3225621b2bf2bc12677e687b1a56265ac7a4d...</td>\n",
       "      <td>L'Humanité</td>\n",
       "      <td>Deux joueurs du XV de France arrêtés</td>\n",
       "      <td>2024</td>\n",
       "      <td>7</td>\n",
       "      <td>10</td>\n",
       "      <td>au lendemain de la suspension d'un joueur du x...</td>\n",
       "      <td>ligne, melvyn, arrêtés, jaminet, joueurs</td>\n",
       "      <td>247.0</td>\n",
       "      <td>actualité</td>\n",
       "      <td>Deux joueurs du XV de France arrêtés au lendem...</td>\n",
       "      <td>0.0</td>\n",
       "      <td>actualité</td>\n",
       "      <td>0.799633</td>\n",
       "      <td>True</td>\n",
       "      <td>actualité</td>\n",
       "      <td>0.125000</td>\n",
       "      <td>0.055514</td>\n",
       "    </tr>\n",
       "  </tbody>\n",
       "</table>\n",
       "<p>89 rows × 20 columns</p>\n",
       "</div>"
      ],
      "text/plain": [
       "    Unnamed: 0  Unnamed: 0_x  \\\n",
       "0           79           391   \n",
       "1           94           432   \n",
       "2           95           433   \n",
       "3           96           434   \n",
       "4          103           456   \n",
       "..         ...           ...   \n",
       "84       10488         69726   \n",
       "85       10567         70473   \n",
       "86       10773         72137   \n",
       "87       10795         72299   \n",
       "88       11278         76728   \n",
       "\n",
       "                                          identifiant journal_clean  \\\n",
       "0   beb54101bece711668d64dfe5176bc2f38444b30eb9c31...     Le Figaro   \n",
       "1   efee09cde26fba5704002a3180ab0bf7f2f711dbff957d...     Le Figaro   \n",
       "2   d183794139b099c8c366eb2482b740f413f22d62bb7d6d...     Le Figaro   \n",
       "3   00627f5991ec8312f034b90a05650e755e28a6a8109170...     Le Figaro   \n",
       "4   76c61c4ffa49ea649bac5d7833787d404c3708d9773c54...     Le Figaro   \n",
       "..                                                ...           ...   \n",
       "84  bdf25683403919f60ef342ee26077f54820a3e712cd475...      Le Point   \n",
       "85  5dee4cabc6efe7a314ca832711d82445672d002596934d...     Le Figaro   \n",
       "86  e47da7a5c284da5d8114c1014ee551115b22c5446a8e6c...    Libération   \n",
       "87  997400ff56c84208c33e328a30abf85f74b90b963b3b33...     Le Figaro   \n",
       "88  4a4d5168a3225621b2bf2bc12677e687b1a56265ac7a4d...    L'Humanité   \n",
       "\n",
       "                                                titre  annee  mois  jour  \\\n",
       "0                              Suspect en garde à vue   1997     8    25   \n",
       "1                            Rennes : nouveau meurtre   1998     1    19   \n",
       "2                        Une femme médecin assassinée   1998     1    21   \n",
       "3                       Le fils du médecin interpellé   1998     1    22   \n",
       "4                  Le tragique enlèvement de Caroline   1998     3    18   \n",
       "..                                                ...    ...   ...   ...   \n",
       "84  Vénissieux : un homme se filme en train de tue...   2024     2    17   \n",
       "85  Meurtre conjugal près de Nice : le suspect mis...   2024     2    29   \n",
       "86  Le réalisateur Nils Tavernier visé par deux pl...   2024     4     5   \n",
       "87  Football: Florencia Guiñazu tuée par son ex-co...   2024     4     9   \n",
       "88               Deux joueurs du XV de France arrêtés   2024     7    10   \n",
       "\n",
       "                                                texte  \\\n",
       "0   l'époux d'une femme tuée de 18 coups de coutea...   \n",
       "1   « ici, samedi 6 heures, une femme de 38 ans as...   \n",
       "2   - une femme de 60 ans, médecin allergologue, a...   \n",
       "3   - le fils d'une femme médecin, assassinée chez...   \n",
       "4   « une affaire sordide » : c'est le seul commen...   \n",
       "..                                                ...   \n",
       "84  le corps d'une jeune femme a été retrouvé dans...   \n",
       "85  le figaro niceaprès 48 heures de garde à vue, ...   \n",
       "86  jennifer covillault miramont et laura lardeux ...   \n",
       "87  un féminicide a touché ce samedi le monde du f...   \n",
       "88  au lendemain de la suspension d'un joueur du x...   \n",
       "\n",
       "                                             keywords  Unnamed: 0_y  \\\n",
       "0                                                 NaN         209.0   \n",
       "1            violence, meurtre, rennes, femme, samedi           0.0   \n",
       "2                                                 NaN           1.0   \n",
       "3                                                fils           2.0   \n",
       "4   bois, soir, poursuivent, investigations, inspe...           9.0   \n",
       "..                                                ...           ...   \n",
       "84  jeune, tuer, corps, retrouvé, filme, suicider,...         251.0   \n",
       "85                               mis, suspect, examen         352.0   \n",
       "86  obs, réalisateur, nils, jennifer, miramont, fa...         387.0   \n",
       "87   domicile, football:, joueuse, guiñazu, florencia         384.0   \n",
       "88           ligne, melvyn, arrêtés, jaminet, joueurs         247.0   \n",
       "\n",
       "        theme                                        texte_total  \\\n",
       "0   actualité  Suspect en garde à vue l'époux d'une femme tué...   \n",
       "1   actualité  Rennes : nouveau meurtre « ici, samedi 6 heure...   \n",
       "2   actualité  Une femme médecin assassinée - une femme de 60...   \n",
       "3   actualité  Le fils du médecin interpellé - le fils d'une ...   \n",
       "4   actualité  Le tragique enlèvement de Caroline « une affai...   \n",
       "..        ...                                                ...   \n",
       "84  actualité  Vénissieux : un homme se filme en train de tue...   \n",
       "85  actualité  Meurtre conjugal près de Nice : le suspect mis...   \n",
       "86  actualité  Le réalisateur Nils Tavernier visé par deux pl...   \n",
       "87  actualité  Football: Florencia Guiñazu tuée par son ex-co...   \n",
       "88  actualité  Deux joueurs du XV de France arrêtés au lendem...   \n",
       "\n",
       "    theme_pred_encoded theme_pred  confidence  true_pred theme_final  \\\n",
       "0                  0.0  actualité    0.868749       True   actualité   \n",
       "1                  0.0  actualité    0.798279       True   actualité   \n",
       "2                  0.0  actualité    0.857006       True   actualité   \n",
       "3                  0.0  actualité    0.852238       True   actualité   \n",
       "4                  3.0  politique    0.573615       True   actualité   \n",
       "..                 ...        ...         ...        ...         ...   \n",
       "84                 0.0  actualité    0.864363       True   actualité   \n",
       "85                 0.0  actualité    0.832457       True   actualité   \n",
       "86                 0.0  actualité    0.593339       True   actualité   \n",
       "87                 0.0  actualité    0.790045       True   actualité   \n",
       "88                 0.0  actualité    0.799633       True   actualité   \n",
       "\n",
       "       score  score_pred  \n",
       "0   0.250000    0.025689  \n",
       "1   0.000000    0.037271  \n",
       "2  -0.250000    0.034296  \n",
       "3  -0.375000    0.046982  \n",
       "4  -0.500000    0.006438  \n",
       "..       ...         ...  \n",
       "84 -0.125000    0.044556  \n",
       "85  0.750000    0.024208  \n",
       "86  0.500000    0.045055  \n",
       "87  0.428571    0.061558  \n",
       "88  0.125000    0.055514  \n",
       "\n",
       "[89 rows x 20 columns]"
      ]
     },
     "execution_count": 69,
     "metadata": {},
     "output_type": "execute_result"
    }
   ],
   "source": [
    "df_merged"
   ]
  }
 ],
 "metadata": {
  "kernelspec": {
   "display_name": "Python 3 (ipykernel)",
   "language": "python",
   "name": "python3"
  },
  "language_info": {
   "codemirror_mode": {
    "name": "ipython",
    "version": 3
   },
   "file_extension": ".py",
   "mimetype": "text/x-python",
   "name": "python",
   "nbconvert_exporter": "python",
   "pygments_lexer": "ipython3",
   "version": "3.12.9"
  }
 },
 "nbformat": 4,
 "nbformat_minor": 5
}
