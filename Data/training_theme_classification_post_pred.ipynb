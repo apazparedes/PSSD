{
 "cells": [
  {
   "cell_type": "code",
   "execution_count": 2,
   "id": "03d6029f-7016-44e8-b210-4c213d42756b",
   "metadata": {},
   "outputs": [
    {
     "name": "stderr",
     "output_type": "stream",
     "text": [
      "/usr/local/lib/python3.12/site-packages/tqdm/auto.py:21: TqdmWarning: IProgress not found. Please update jupyter and ipywidgets. See https://ipywidgets.readthedocs.io/en/stable/user_install.html\n",
      "  from .autonotebook import tqdm as notebook_tqdm\n"
     ]
    }
   ],
   "source": [
    "import torch\n",
    "import tqdm\n",
    "from tqdm import tqdm\n",
    "import pandas as pd\n",
    "import pickle\n",
    "import numpy as np\n",
    "from transformers import CamembertTokenizer, CamembertModel\n",
    "from torch.utils.data import Dataset, DataLoader\n",
    "from sklearn.model_selection import train_test_split\n",
    "import torch.nn as nn\n",
    "from sklearn.metrics import accuracy_score, f1_score, roc_auc_score"
   ]
  },
  {
   "cell_type": "code",
   "execution_count": 3,
   "id": "29983080-84a7-4979-92a4-c207f1f5c448",
   "metadata": {},
   "outputs": [
    {
     "name": "stdout",
     "output_type": "stream",
     "text": [
      "Using device: cuda\n"
     ]
    }
   ],
   "source": [
    "device = torch.device(\"cuda\" if torch.cuda.is_available() else \"cpu\")\n",
    "print(f\"Using device: {device}\")"
   ]
  },
  {
   "cell_type": "code",
   "execution_count": 3,
   "id": "fb154f07-f244-445e-b62a-5daddf8462cf",
   "metadata": {},
   "outputs": [
    {
     "name": "stderr",
     "output_type": "stream",
     "text": [
      "Downloading...\n",
      "From (original): https://drive.google.com/uc?id=1UR_MC8Q5K4JSRnSUX5MQ-sIGPjLLnm9f\n",
      "From (redirected): https://drive.google.com/uc?id=1UR_MC8Q5K4JSRnSUX5MQ-sIGPjLLnm9f&confirm=t&uuid=c7859b70-1121-41a3-a36d-05548203bb16\n",
      "To: /home/onyxia/work/PSSD/Data/data.csv\n",
      "100%|██████████| 363M/363M [00:04<00:00, 87.7MB/s] \n"
     ]
    }
   ],
   "source": [
    "%run downoald_and_cleaning_data.ipynb"
   ]
  },
  {
   "cell_type": "code",
   "execution_count": 5,
   "id": "147b1e51-55cb-4420-a083-5f15ff430594",
   "metadata": {},
   "outputs": [],
   "source": [
    "df = pd.read_csv(\"data_clean.csv\")"
   ]
  },
  {
   "cell_type": "code",
   "execution_count": 6,
   "id": "e52e8ec5-dfbd-433f-ae73-4d3a251e8d87",
   "metadata": {},
   "outputs": [],
   "source": [
    "df.dropna(subset=['texte'], inplace=True)\n",
    "df['texte'] = df['texte'].str.lower()"
   ]
  },
  {
   "cell_type": "code",
   "execution_count": 7,
   "id": "d98cfe78-cd39-451f-9c6a-3e9375930bae",
   "metadata": {},
   "outputs": [],
   "source": [
    "import os\n",
    "os.chdir('..')\n",
    "df_themes = pd.read_csv('Annotations/theme.csv')"
   ]
  },
  {
   "cell_type": "code",
   "execution_count": 8,
   "id": "e38312c0-3411-44f3-81a2-635f725fc360",
   "metadata": {},
   "outputs": [],
   "source": [
    "df_merged = df.merge(df_themes, on=\"identifiant\", how=\"left\", suffixes=(\"\", \"_manual\"))\n",
    "df_merged[\"texte_total\"] = df_merged[\"titre\"].fillna(\"\") + \" \" + df_merged[\"texte\"].fillna(\"\")\n",
    "df_merged = df_merged[~df_merged[\"theme\"].isna()]\n",
    "df_merged[\"theme\"] = df_merged[\"theme\"].replace({\n",
    "    \"tribune\": \"analyse\",\n",
    "    \"société\": \"politique\"\n",
    "})"
   ]
  },
  {
   "cell_type": "code",
   "execution_count": 9,
   "id": "ee53779e-7829-48a5-8126-6816c6e8eeb9",
   "metadata": {},
   "outputs": [
    {
     "data": {
      "text/html": [
       "<div>\n",
       "<style scoped>\n",
       "    .dataframe tbody tr th:only-of-type {\n",
       "        vertical-align: middle;\n",
       "    }\n",
       "\n",
       "    .dataframe tbody tr th {\n",
       "        vertical-align: top;\n",
       "    }\n",
       "\n",
       "    .dataframe thead th {\n",
       "        text-align: right;\n",
       "    }\n",
       "</style>\n",
       "<table border=\"1\" class=\"dataframe\">\n",
       "  <thead>\n",
       "    <tr style=\"text-align: right;\">\n",
       "      <th></th>\n",
       "      <th>Unnamed: 0</th>\n",
       "      <th>identifiant</th>\n",
       "      <th>journal_clean</th>\n",
       "      <th>titre</th>\n",
       "      <th>annee</th>\n",
       "      <th>mois</th>\n",
       "      <th>jour</th>\n",
       "      <th>texte</th>\n",
       "      <th>keywords</th>\n",
       "      <th>theme</th>\n",
       "      <th>texte_total</th>\n",
       "    </tr>\n",
       "  </thead>\n",
       "  <tbody>\n",
       "    <tr>\n",
       "      <th>94</th>\n",
       "      <td>432</td>\n",
       "      <td>efee09cde26fba5704002a3180ab0bf7f2f711dbff957d...</td>\n",
       "      <td>Le Figaro</td>\n",
       "      <td>Rennes : nouveau meurtre</td>\n",
       "      <td>1998</td>\n",
       "      <td>1</td>\n",
       "      <td>19</td>\n",
       "      <td>« ici, samedi 6 heures, une femme de 38 ans as...</td>\n",
       "      <td>violence, meurtre, rennes, femme, samedi</td>\n",
       "      <td>actualité</td>\n",
       "      <td>Rennes : nouveau meurtre « ici, samedi 6 heure...</td>\n",
       "    </tr>\n",
       "    <tr>\n",
       "      <th>96</th>\n",
       "      <td>433</td>\n",
       "      <td>d183794139b099c8c366eb2482b740f413f22d62bb7d6d...</td>\n",
       "      <td>Le Figaro</td>\n",
       "      <td>Une femme médecin assassinée</td>\n",
       "      <td>1998</td>\n",
       "      <td>1</td>\n",
       "      <td>21</td>\n",
       "      <td>- une femme de 60 ans, médecin allergologue, a...</td>\n",
       "      <td>NaN</td>\n",
       "      <td>actualité</td>\n",
       "      <td>Une femme médecin assassinée - une femme de 60...</td>\n",
       "    </tr>\n",
       "    <tr>\n",
       "      <th>98</th>\n",
       "      <td>434</td>\n",
       "      <td>00627f5991ec8312f034b90a05650e755e28a6a8109170...</td>\n",
       "      <td>Le Figaro</td>\n",
       "      <td>Le fils du médecin interpellé</td>\n",
       "      <td>1998</td>\n",
       "      <td>1</td>\n",
       "      <td>22</td>\n",
       "      <td>- le fils d'une femme médecin, assassinée chez...</td>\n",
       "      <td>fils</td>\n",
       "      <td>actualité</td>\n",
       "      <td>Le fils du médecin interpellé - le fils d'une ...</td>\n",
       "    </tr>\n",
       "    <tr>\n",
       "      <th>100</th>\n",
       "      <td>435</td>\n",
       "      <td>965556384a9f3ab74807d96fda6d5802b3f4b9adb93e31...</td>\n",
       "      <td>Libération</td>\n",
       "      <td>Les chantiers de la justice (4): le juge uniqu...</td>\n",
       "      <td>1998</td>\n",
       "      <td>1</td>\n",
       "      <td>23</td>\n",
       "      <td>le 15 janvier, la garde des sceaux présentait ...</td>\n",
       "      <td>réforme, chantiers, guigou, justice, juge, eli...</td>\n",
       "      <td>politique</td>\n",
       "      <td>Les chantiers de la justice (4): le juge uniqu...</td>\n",
       "    </tr>\n",
       "    <tr>\n",
       "      <th>102</th>\n",
       "      <td>441</td>\n",
       "      <td>f958023203a90c46a0d24df94ad3ac3bf4490491e3d612...</td>\n",
       "      <td>Le Figaro</td>\n",
       "      <td>Caucase : l'« industrie » florissante du rapt</td>\n",
       "      <td>1998</td>\n",
       "      <td>1</td>\n",
       "      <td>31</td>\n",
       "      <td>l'enlèvement de vincent cochetel, trente-sept ...</td>\n",
       "      <td>industrie, trente-sept, florissante, caucase, ...</td>\n",
       "      <td>politique</td>\n",
       "      <td>Caucase : l'« industrie » florissante du rapt ...</td>\n",
       "    </tr>\n",
       "    <tr>\n",
       "      <th>...</th>\n",
       "      <td>...</td>\n",
       "      <td>...</td>\n",
       "      <td>...</td>\n",
       "      <td>...</td>\n",
       "      <td>...</td>\n",
       "      <td>...</td>\n",
       "      <td>...</td>\n",
       "      <td>...</td>\n",
       "      <td>...</td>\n",
       "      <td>...</td>\n",
       "      <td>...</td>\n",
       "    </tr>\n",
       "    <tr>\n",
       "      <th>11969</th>\n",
       "      <td>80574</td>\n",
       "      <td>b2a4e0f965f89ec54af1a183a71581de3913f47faf9299...</td>\n",
       "      <td>Le Nouvel Obs</td>\n",
       "      <td>Depardieu accusé d'agressions sexuelles : son ...</td>\n",
       "      <td>2024</td>\n",
       "      <td>10</td>\n",
       "      <td>28</td>\n",
       "      <td>l'acteur gérard depardieu , visé par de nombre...</td>\n",
       "      <td>accusé, agressions, procès, renvoi, acteur, se...</td>\n",
       "      <td>actualité</td>\n",
       "      <td>Depardieu accusé d'agressions sexuelles : son ...</td>\n",
       "    </tr>\n",
       "    <tr>\n",
       "      <th>11981</th>\n",
       "      <td>80659</td>\n",
       "      <td>d3e66a6526618cbf5f22945428a74f0130b19bfde3cf0f...</td>\n",
       "      <td>Libération</td>\n",
       "      <td>Affaire abbé Pierre : «Il est nécessaire que l...</td>\n",
       "      <td>2024</td>\n",
       "      <td>10</td>\n",
       "      <td>31</td>\n",
       "      <td>sociologue à l’ecole des hautes études en scie...</td>\n",
       "      <td>pierre, mouvement, nécessaire, fasse, emmaüs</td>\n",
       "      <td>analyse</td>\n",
       "      <td>Affaire abbé Pierre : «Il est nécessaire que l...</td>\n",
       "    </tr>\n",
       "    <tr>\n",
       "      <th>12027</th>\n",
       "      <td>81039</td>\n",
       "      <td>9a5e3997aa8d05bb922b99a51cba1f3f5316f8b403c118...</td>\n",
       "      <td>Le Point</td>\n",
       "      <td>« Monstres » sur Netflix : va-t-on vers une ov...</td>\n",
       "      <td>2024</td>\n",
       "      <td>11</td>\n",
       "      <td>11</td>\n",
       "      <td>qu'ont en commun une religieuse frustrée, un f...</td>\n",
       "      <td>série, ryan, netflix, figures, monstres, murphy</td>\n",
       "      <td>culture</td>\n",
       "      <td>« Monstres » sur Netflix : va-t-on vers une ov...</td>\n",
       "    </tr>\n",
       "    <tr>\n",
       "      <th>12111</th>\n",
       "      <td>81761</td>\n",
       "      <td>01d9b67bc79701339320e4ea9d7ab8b8242d35cff49138...</td>\n",
       "      <td>Le Figaro</td>\n",
       "      <td>Nantes : frappée par son conjoint devant leur ...</td>\n",
       "      <td>2024</td>\n",
       "      <td>11</td>\n",
       "      <td>25</td>\n",
       "      <td>un homme de 30 ans a été placé en garde à vue ...</td>\n",
       "      <td>percé, tympan, tympan_percé, nantes, femme</td>\n",
       "      <td>actualité</td>\n",
       "      <td>Nantes : frappée par son conjoint devant leur ...</td>\n",
       "    </tr>\n",
       "    <tr>\n",
       "      <th>12139</th>\n",
       "      <td>81968</td>\n",
       "      <td>a588f818181d16971d562b130ea9a8e8e787dfc6967cc6...</td>\n",
       "      <td>Le Nouvel Obs</td>\n",
       "      <td>« Rabia » : Megan Northam lève le voile</td>\n",
       "      <td>2024</td>\n",
       "      <td>11</td>\n",
       "      <td>29</td>\n",
       "      <td>son enthousiasme ravageur rappelle que sa carr...</td>\n",
       "      <td>promo, rabia, megan, northam, compte</td>\n",
       "      <td>culture</td>\n",
       "      <td>« Rabia » : Megan Northam lève le voile son en...</td>\n",
       "    </tr>\n",
       "  </tbody>\n",
       "</table>\n",
       "<p>433 rows × 11 columns</p>\n",
       "</div>"
      ],
      "text/plain": [
       "       Unnamed: 0                                        identifiant  \\\n",
       "94            432  efee09cde26fba5704002a3180ab0bf7f2f711dbff957d...   \n",
       "96            433  d183794139b099c8c366eb2482b740f413f22d62bb7d6d...   \n",
       "98            434  00627f5991ec8312f034b90a05650e755e28a6a8109170...   \n",
       "100           435  965556384a9f3ab74807d96fda6d5802b3f4b9adb93e31...   \n",
       "102           441  f958023203a90c46a0d24df94ad3ac3bf4490491e3d612...   \n",
       "...           ...                                                ...   \n",
       "11969       80574  b2a4e0f965f89ec54af1a183a71581de3913f47faf9299...   \n",
       "11981       80659  d3e66a6526618cbf5f22945428a74f0130b19bfde3cf0f...   \n",
       "12027       81039  9a5e3997aa8d05bb922b99a51cba1f3f5316f8b403c118...   \n",
       "12111       81761  01d9b67bc79701339320e4ea9d7ab8b8242d35cff49138...   \n",
       "12139       81968  a588f818181d16971d562b130ea9a8e8e787dfc6967cc6...   \n",
       "\n",
       "       journal_clean                                              titre  \\\n",
       "94         Le Figaro                           Rennes : nouveau meurtre   \n",
       "96         Le Figaro                       Une femme médecin assassinée   \n",
       "98         Le Figaro                      Le fils du médecin interpellé   \n",
       "100       Libération  Les chantiers de la justice (4): le juge uniqu...   \n",
       "102        Le Figaro      Caucase : l'« industrie » florissante du rapt   \n",
       "...              ...                                                ...   \n",
       "11969  Le Nouvel Obs  Depardieu accusé d'agressions sexuelles : son ...   \n",
       "11981     Libération  Affaire abbé Pierre : «Il est nécessaire que l...   \n",
       "12027       Le Point  « Monstres » sur Netflix : va-t-on vers une ov...   \n",
       "12111      Le Figaro  Nantes : frappée par son conjoint devant leur ...   \n",
       "12139  Le Nouvel Obs            « Rabia » : Megan Northam lève le voile   \n",
       "\n",
       "       annee  mois  jour                                              texte  \\\n",
       "94      1998     1    19  « ici, samedi 6 heures, une femme de 38 ans as...   \n",
       "96      1998     1    21  - une femme de 60 ans, médecin allergologue, a...   \n",
       "98      1998     1    22  - le fils d'une femme médecin, assassinée chez...   \n",
       "100     1998     1    23  le 15 janvier, la garde des sceaux présentait ...   \n",
       "102     1998     1    31  l'enlèvement de vincent cochetel, trente-sept ...   \n",
       "...      ...   ...   ...                                                ...   \n",
       "11969   2024    10    28  l'acteur gérard depardieu , visé par de nombre...   \n",
       "11981   2024    10    31  sociologue à l’ecole des hautes études en scie...   \n",
       "12027   2024    11    11  qu'ont en commun une religieuse frustrée, un f...   \n",
       "12111   2024    11    25  un homme de 30 ans a été placé en garde à vue ...   \n",
       "12139   2024    11    29  son enthousiasme ravageur rappelle que sa carr...   \n",
       "\n",
       "                                                keywords      theme  \\\n",
       "94              violence, meurtre, rennes, femme, samedi  actualité   \n",
       "96                                                   NaN  actualité   \n",
       "98                                                  fils  actualité   \n",
       "100    réforme, chantiers, guigou, justice, juge, eli...  politique   \n",
       "102    industrie, trente-sept, florissante, caucase, ...  politique   \n",
       "...                                                  ...        ...   \n",
       "11969  accusé, agressions, procès, renvoi, acteur, se...  actualité   \n",
       "11981       pierre, mouvement, nécessaire, fasse, emmaüs    analyse   \n",
       "12027    série, ryan, netflix, figures, monstres, murphy    culture   \n",
       "12111         percé, tympan, tympan_percé, nantes, femme  actualité   \n",
       "12139               promo, rabia, megan, northam, compte    culture   \n",
       "\n",
       "                                             texte_total  \n",
       "94     Rennes : nouveau meurtre « ici, samedi 6 heure...  \n",
       "96     Une femme médecin assassinée - une femme de 60...  \n",
       "98     Le fils du médecin interpellé - le fils d'une ...  \n",
       "100    Les chantiers de la justice (4): le juge uniqu...  \n",
       "102    Caucase : l'« industrie » florissante du rapt ...  \n",
       "...                                                  ...  \n",
       "11969  Depardieu accusé d'agressions sexuelles : son ...  \n",
       "11981  Affaire abbé Pierre : «Il est nécessaire que l...  \n",
       "12027  « Monstres » sur Netflix : va-t-on vers une ov...  \n",
       "12111  Nantes : frappée par son conjoint devant leur ...  \n",
       "12139  « Rabia » : Megan Northam lève le voile son en...  \n",
       "\n",
       "[433 rows x 11 columns]"
      ]
     },
     "execution_count": 9,
     "metadata": {},
     "output_type": "execute_result"
    }
   ],
   "source": [
    "df_merged"
   ]
  },
  {
   "cell_type": "code",
   "execution_count": 10,
   "id": "c800e5c3-2c22-46dd-80a5-bcc0a17d0cd1",
   "metadata": {},
   "outputs": [
    {
     "name": "stderr",
     "output_type": "stream",
     "text": [
      "433it [00:13, 31.16it/s]\n"
     ]
    }
   ],
   "source": [
    "tokenizer = CamembertTokenizer.from_pretrained(\"camembert-base\")\n",
    "model = CamembertModel.from_pretrained(\"camembert-base\").to(device)\n",
    "model.eval()  \n",
    "\n",
    "embeddings_dict = {}\n",
    "\n",
    "\n",
    "for _, row in tqdm(df_merged.iterrows()):\n",
    "    sentence = row['texte_total']\n",
    "    theme = row['theme']\n",
    "    \n",
    "\n",
    "    inputs = tokenizer(sentence, return_tensors='pt', truncation=True, padding=False)\n",
    "    inputs = {key: val.to(device) for key, val in inputs.items()}  \n",
    "    \n",
    "    with torch.no_grad():\n",
    "        outputs = model(**inputs)\n",
    "        \n",
    "        token_embeddings = outputs.last_hidden_state.squeeze(0).cpu().numpy()\n",
    "    \n",
    "    embeddings_dict[sentence] = {\n",
    "        \"embeddings\": token_embeddings, \n",
    "        \"theme\": theme\n",
    "    }\n",
    "\n",
    "\n",
    "with open(\"themeed_token_embeddings.pkl\", \"wb\") as f:\n",
    "    pickle.dump(embeddings_dict, f)"
   ]
  },
  {
   "cell_type": "code",
   "execution_count": 11,
   "id": "6549ebc3-c154-405b-ae56-1471d8775309",
   "metadata": {},
   "outputs": [],
   "source": [
    "df_merged.drop('Unnamed: 0', axis=1, inplace=True)"
   ]
  },
  {
   "cell_type": "code",
   "execution_count": 12,
   "id": "911c82d6-c594-42ef-aeab-86344d8c571d",
   "metadata": {},
   "outputs": [],
   "source": [
    "tokenizer = CamembertTokenizer.from_pretrained(\"camembert-base\")\n",
    "model = CamembertModel.from_pretrained(\"camembert-base\").to(device)"
   ]
  },
  {
   "cell_type": "code",
   "execution_count": 13,
   "id": "bfddeae4-7eba-4da6-ba48-156f31fa51b0",
   "metadata": {},
   "outputs": [
    {
     "name": "stdout",
     "output_type": "stream",
     "text": [
      "Classes conservées : ['actualité', 'analyse', 'culture', 'politique']\n"
     ]
    }
   ],
   "source": [
    "# 1. Supprimer les classes rares (moins de 2 exemples)\n",
    "counts = df_merged[\"theme\"].value_counts()\n",
    "valid_themes = counts[counts >= 2].index\n",
    "df_filtered = df_merged[df_merged[\"theme\"].isin(valid_themes)].copy()\n",
    "\n",
    "# 2. Refaire le LabelEncoder\n",
    "from sklearn.preprocessing import LabelEncoder\n",
    "\n",
    "label_encoder = LabelEncoder()\n",
    "df_filtered[\"theme_encoded\"] = label_encoder.fit_transform(df_filtered[\"theme\"])\n",
    "\n",
    "# 3. Vérification\n",
    "print(\"Classes conservées :\", list(label_encoder.classes_))\n",
    "\n",
    "# 4. Train/test split avec stratification\n",
    "from sklearn.model_selection import train_test_split\n",
    "\n",
    "train_df, test_df = train_test_split(\n",
    "    df_filtered[[\"texte_total\", \"theme_encoded\"]],\n",
    "    test_size=0.2,\n",
    "    stratify=df_filtered[\"theme_encoded\"],\n",
    "    random_state=42\n",
    ")\n",
    "\n",
    "# 5. Redéfinir le nombre de classes pour le modèle\n",
    "n_classes = len(label_encoder.classes_)\n"
   ]
  },
  {
   "cell_type": "code",
   "execution_count": 14,
   "id": "3e5ce387-0697-4a85-bcd2-aa1fabb12714",
   "metadata": {},
   "outputs": [],
   "source": [
    "from torch.utils.data import Dataset\n",
    "\n",
    "class TextDataset(Dataset):\n",
    "    def __init__(self, df, tokenizer, max_length=256):\n",
    "        self.df = df.reset_index(drop=True)\n",
    "        self.tokenizer = tokenizer\n",
    "        self.max_length = max_length\n",
    "\n",
    "    def __len__(self):\n",
    "        return len(self.df)\n",
    "\n",
    "    def __getitem__(self, idx):\n",
    "        text = self.df.loc[idx, \"texte_total\"]\n",
    "        label = self.df.loc[idx, \"theme_encoded\"]\n",
    "\n",
    "        inputs = self.tokenizer(\n",
    "            text,\n",
    "            padding='max_length',\n",
    "            truncation=True,\n",
    "            max_length=self.max_length,\n",
    "            return_tensors=\"pt\"\n",
    "        )\n",
    "\n",
    "        return {\n",
    "            \"input_ids\": inputs[\"input_ids\"].squeeze(0),\n",
    "            \"attention_mask\": inputs[\"attention_mask\"].squeeze(0),\n",
    "            \"label\": torch.tensor(label, dtype=torch.long)  # correction ici\n",
    "        }"
   ]
  },
  {
   "cell_type": "code",
   "execution_count": 15,
   "id": "bea516ff-7d0e-4e3c-bdc8-04e3cc2f0ef8",
   "metadata": {},
   "outputs": [],
   "source": [
    "from torch.utils.data import DataLoader\n",
    "\n",
    "batch_size = 64\n",
    "\n",
    "train_dataset = TextDataset(train_df, tokenizer)\n",
    "test_dataset = TextDataset(test_df, tokenizer)\n",
    "\n",
    "train_loader = DataLoader(\n",
    "    train_dataset,\n",
    "    batch_size=batch_size,\n",
    "    shuffle=True,\n",
    "    num_workers=2,       \n",
    "    pin_memory=True      \n",
    ")\n",
    "\n",
    "test_loader = DataLoader(\n",
    "    test_dataset,\n",
    "    batch_size=batch_size,\n",
    "    shuffle=False,\n",
    "    num_workers=2,\n",
    "    pin_memory=True\n",
    ")\n"
   ]
  },
  {
   "cell_type": "code",
   "execution_count": 16,
   "id": "6bb69427-d705-4b39-aea8-8bcb1d1852de",
   "metadata": {},
   "outputs": [],
   "source": [
    "import torch.nn as nn\n",
    "from transformers import CamembertModel\n",
    "\n",
    "class CamembertCNNLSTMClassifier(nn.Module):\n",
    "    def __init__(self, conv_out_dim=256, hidden_dim=128, num_classes=4):\n",
    "        super().__init__()\n",
    "        self.backbone = CamembertModel.from_pretrained(\"camembert-base\")\n",
    "        \n",
    "        # On freeze CamemBERT\n",
    "        for param in self.backbone.parameters():\n",
    "            param.requires_grad = False\n",
    "\n",
    "        self.conv1d = nn.Conv1d(in_channels=768, out_channels=conv_out_dim, kernel_size=3, padding=1)\n",
    "        self.relu_conv = nn.ReLU()\n",
    "\n",
    "        self.lstm1 = nn.LSTM(input_size=conv_out_dim, hidden_size=hidden_dim,\n",
    "                             batch_first=True, bidirectional=True)\n",
    "        self.relu = nn.ReLU()\n",
    "        self.lstm2 = nn.LSTM(input_size=hidden_dim * 2, hidden_size=hidden_dim,\n",
    "                             batch_first=True, bidirectional=True)\n",
    "\n",
    "        # Classification multi-classe (logits de taille [batch, num_classes])\n",
    "        self.classifier = nn.Linear(hidden_dim * 2, num_classes)\n",
    "\n",
    "    def forward(self, input_ids, attention_mask):\n",
    "        with torch.no_grad():\n",
    "            outputs = self.backbone(input_ids=input_ids, attention_mask=attention_mask)\n",
    "        \n",
    "        sequence_output = outputs.last_hidden_state              # [batch, seq_len, 768]\n",
    "        x = sequence_output.permute(0, 2, 1)                     # [batch, 768, seq_len]\n",
    "        x = self.conv1d(x)                                       # [batch, conv_out_dim, seq_len]\n",
    "        x = self.relu_conv(x)\n",
    "        x = x.permute(0, 2, 1)                                   # [batch, seq_len, conv_out_dim]\n",
    "        \n",
    "        lstm_out1, _ = self.lstm1(x)\n",
    "        relu_out = self.relu(lstm_out1)\n",
    "        lstm_out2, _ = self.lstm2(relu_out)\n",
    "\n",
    "        cls_token_out = lstm_out2[:, 0, :]                       # On prend le 1er token\n",
    "        logits = self.classifier(cls_token_out)                 # [batch, num_classes]\n",
    "        \n",
    "        return logits\n"
   ]
  },
  {
   "cell_type": "code",
   "execution_count": 17,
   "id": "5b725098-1412-402e-b797-810517ecb132",
   "metadata": {},
   "outputs": [],
   "source": [
    "\n",
    "# On compte le nombre d'occurrences de chaque classe\n",
    "class_counts = train_df['theme_encoded'].value_counts().sort_index().values\n",
    "class_weights = 1.0 / torch.tensor(class_counts, dtype=torch.float)\n",
    "class_weights = class_weights / class_weights.sum() * len(class_counts)  # normalisation\n",
    "\n",
    "class_weights = class_weights.to(device)\n",
    "\n",
    "# Fonction de perte avec pondération par classe\n",
    "criterion = nn.CrossEntropyLoss(weight=class_weights)\n"
   ]
  },
  {
   "cell_type": "code",
   "execution_count": 18,
   "id": "e353420e-8bbf-48d4-82b4-68be923735d5",
   "metadata": {},
   "outputs": [
    {
     "name": "stdout",
     "output_type": "stream",
     "text": [
      "Nombre de classes : 4\n",
      "Valeurs des labels dans le jeu de test : {0, 1, 2, 3}\n"
     ]
    }
   ],
   "source": [
    "n_classes = len(label_encoder.classes_)\n",
    "print(f\"Nombre de classes : {n_classes}\")\n",
    "print(\"Valeurs des labels dans le jeu de test :\", set(test_df[\"theme_encoded\"]))\n"
   ]
  },
  {
   "cell_type": "code",
   "execution_count": 19,
   "id": "3813dd5e-84a0-4f33-b4fc-402e0a403688",
   "metadata": {},
   "outputs": [],
   "source": [
    "model = CamembertCNNLSTMClassifier().to(device)\n",
    "for param in model.backbone.parameters():\n",
    "    param.requires_grad = False\n",
    "\n",
    "# we only unfreeze the last layer of camembert\n",
    "for param in model.backbone.encoder.layer[-1].parameters():\n",
    "    param.requires_grad = True\n",
    "optimizer = torch.optim.Adam(\n",
    "    filter(lambda p: p.requires_grad, model.parameters()),\n",
    "    lr=1e-4\n",
    ")"
   ]
  },
  {
   "cell_type": "code",
   "execution_count": 20,
   "id": "58ff7211-2843-4cc5-936b-8d7b51d8a94a",
   "metadata": {},
   "outputs": [
    {
     "name": "stderr",
     "output_type": "stream",
     "text": [
      "  4%|▍         | 1/25 [00:07<02:54,  7.27s/it]"
     ]
    },
    {
     "name": "stdout",
     "output_type": "stream",
     "text": [
      "Epoch 1/25 — Loss: 1.3868 | Accuracy: 0.1264 | F1-macro: 0.0561\n"
     ]
    },
    {
     "name": "stderr",
     "output_type": "stream",
     "text": [
      "  8%|▊         | 2/25 [00:14<02:44,  7.17s/it]"
     ]
    },
    {
     "name": "stdout",
     "output_type": "stream",
     "text": [
      "Epoch 2/25 — Loss: 1.3853 | Accuracy: 0.1264 | F1-macro: 0.0561\n"
     ]
    },
    {
     "name": "stderr",
     "output_type": "stream",
     "text": [
      " 12%|█▏        | 3/25 [00:21<02:37,  7.16s/it]"
     ]
    },
    {
     "name": "stdout",
     "output_type": "stream",
     "text": [
      "Epoch 3/25 — Loss: 1.3825 | Accuracy: 0.1264 | F1-macro: 0.0561\n"
     ]
    },
    {
     "name": "stderr",
     "output_type": "stream",
     "text": [
      " 16%|█▌        | 4/25 [00:28<02:31,  7.23s/it]"
     ]
    },
    {
     "name": "stdout",
     "output_type": "stream",
     "text": [
      "Epoch 4/25 — Loss: 1.3790 | Accuracy: 0.3908 | F1-macro: 0.3103\n"
     ]
    },
    {
     "name": "stderr",
     "output_type": "stream",
     "text": [
      " 20%|██        | 5/25 [00:35<02:23,  7.19s/it]"
     ]
    },
    {
     "name": "stdout",
     "output_type": "stream",
     "text": [
      "Epoch 5/25 — Loss: 1.3743 | Accuracy: 0.5747 | F1-macro: 0.5216\n"
     ]
    },
    {
     "name": "stderr",
     "output_type": "stream",
     "text": [
      " 24%|██▍       | 6/25 [00:43<02:17,  7.26s/it]"
     ]
    },
    {
     "name": "stdout",
     "output_type": "stream",
     "text": [
      "Epoch 6/25 — Loss: 1.3660 | Accuracy: 0.5862 | F1-macro: 0.5221\n"
     ]
    },
    {
     "name": "stderr",
     "output_type": "stream",
     "text": [
      " 28%|██▊       | 7/25 [00:50<02:09,  7.21s/it]"
     ]
    },
    {
     "name": "stdout",
     "output_type": "stream",
     "text": [
      "Epoch 7/25 — Loss: 1.3537 | Accuracy: 0.5977 | F1-macro: 0.5128\n"
     ]
    },
    {
     "name": "stderr",
     "output_type": "stream",
     "text": [
      " 32%|███▏      | 8/25 [00:57<02:02,  7.21s/it]"
     ]
    },
    {
     "name": "stdout",
     "output_type": "stream",
     "text": [
      "Epoch 8/25 — Loss: 1.3338 | Accuracy: 0.5747 | F1-macro: 0.4898\n"
     ]
    },
    {
     "name": "stderr",
     "output_type": "stream",
     "text": [
      " 36%|███▌      | 9/25 [01:04<01:54,  7.15s/it]"
     ]
    },
    {
     "name": "stdout",
     "output_type": "stream",
     "text": [
      "Epoch 9/25 — Loss: 1.2913 | Accuracy: 0.4713 | F1-macro: 0.3024\n"
     ]
    },
    {
     "name": "stderr",
     "output_type": "stream",
     "text": [
      " 40%|████      | 10/25 [01:11<01:47,  7.17s/it]"
     ]
    },
    {
     "name": "stdout",
     "output_type": "stream",
     "text": [
      "Epoch 10/25 — Loss: 1.2336 | Accuracy: 0.4828 | F1-macro: 0.3264\n"
     ]
    },
    {
     "name": "stderr",
     "output_type": "stream",
     "text": [
      " 44%|████▍     | 11/25 [01:19<01:40,  7.16s/it]"
     ]
    },
    {
     "name": "stdout",
     "output_type": "stream",
     "text": [
      "Epoch 11/25 — Loss: 1.1525 | Accuracy: 0.5172 | F1-macro: 0.3719\n"
     ]
    },
    {
     "name": "stderr",
     "output_type": "stream",
     "text": [
      " 48%|████▊     | 12/25 [01:26<01:33,  7.16s/it]"
     ]
    },
    {
     "name": "stdout",
     "output_type": "stream",
     "text": [
      "Epoch 12/25 — Loss: 1.0662 | Accuracy: 0.5977 | F1-macro: 0.5386\n"
     ]
    },
    {
     "name": "stderr",
     "output_type": "stream",
     "text": [
      " 52%|█████▏    | 13/25 [01:33<01:26,  7.20s/it]"
     ]
    },
    {
     "name": "stdout",
     "output_type": "stream",
     "text": [
      "Epoch 13/25 — Loss: 1.0061 | Accuracy: 0.5977 | F1-macro: 0.5422\n"
     ]
    },
    {
     "name": "stderr",
     "output_type": "stream",
     "text": [
      " 56%|█████▌    | 14/25 [01:40<01:19,  7.23s/it]"
     ]
    },
    {
     "name": "stdout",
     "output_type": "stream",
     "text": [
      "Epoch 14/25 — Loss: 0.8852 | Accuracy: 0.6092 | F1-macro: 0.5735\n"
     ]
    },
    {
     "name": "stderr",
     "output_type": "stream",
     "text": [
      " 60%|██████    | 15/25 [01:48<01:12,  7.24s/it]"
     ]
    },
    {
     "name": "stdout",
     "output_type": "stream",
     "text": [
      "Epoch 15/25 — Loss: 0.8447 | Accuracy: 0.6552 | F1-macro: 0.6231\n"
     ]
    },
    {
     "name": "stderr",
     "output_type": "stream",
     "text": [
      " 64%|██████▍   | 16/25 [01:55<01:05,  7.24s/it]"
     ]
    },
    {
     "name": "stdout",
     "output_type": "stream",
     "text": [
      "Epoch 16/25 — Loss: 0.7813 | Accuracy: 0.6437 | F1-macro: 0.6193\n"
     ]
    },
    {
     "name": "stderr",
     "output_type": "stream",
     "text": [
      " 68%|██████▊   | 17/25 [02:02<00:57,  7.22s/it]"
     ]
    },
    {
     "name": "stdout",
     "output_type": "stream",
     "text": [
      "Epoch 17/25 — Loss: 0.7528 | Accuracy: 0.6322 | F1-macro: 0.5821\n"
     ]
    },
    {
     "name": "stderr",
     "output_type": "stream",
     "text": [
      " 72%|███████▏  | 18/25 [02:09<00:50,  7.24s/it]"
     ]
    },
    {
     "name": "stdout",
     "output_type": "stream",
     "text": [
      "Epoch 18/25 — Loss: 0.7389 | Accuracy: 0.6782 | F1-macro: 0.6694\n"
     ]
    },
    {
     "name": "stderr",
     "output_type": "stream",
     "text": [
      " 76%|███████▌  | 19/25 [02:16<00:43,  7.24s/it]"
     ]
    },
    {
     "name": "stdout",
     "output_type": "stream",
     "text": [
      "Epoch 19/25 — Loss: 0.6976 | Accuracy: 0.5977 | F1-macro: 0.5587\n"
     ]
    },
    {
     "name": "stderr",
     "output_type": "stream",
     "text": [
      " 80%|████████  | 20/25 [02:24<00:36,  7.25s/it]"
     ]
    },
    {
     "name": "stdout",
     "output_type": "stream",
     "text": [
      "Epoch 20/25 — Loss: 0.6045 | Accuracy: 0.7011 | F1-macro: 0.6932\n"
     ]
    },
    {
     "name": "stderr",
     "output_type": "stream",
     "text": [
      " 84%|████████▍ | 21/25 [02:31<00:28,  7.24s/it]"
     ]
    },
    {
     "name": "stdout",
     "output_type": "stream",
     "text": [
      "Epoch 21/25 — Loss: 0.5773 | Accuracy: 0.6552 | F1-macro: 0.6054\n"
     ]
    },
    {
     "name": "stderr",
     "output_type": "stream",
     "text": [
      " 88%|████████▊ | 22/25 [02:38<00:21,  7.29s/it]"
     ]
    },
    {
     "name": "stdout",
     "output_type": "stream",
     "text": [
      "Epoch 22/25 — Loss: 0.5869 | Accuracy: 0.6782 | F1-macro: 0.6597\n"
     ]
    },
    {
     "name": "stderr",
     "output_type": "stream",
     "text": [
      " 92%|█████████▏| 23/25 [02:46<00:14,  7.36s/it]"
     ]
    },
    {
     "name": "stdout",
     "output_type": "stream",
     "text": [
      "Epoch 23/25 — Loss: 0.5306 | Accuracy: 0.6897 | F1-macro: 0.6389\n"
     ]
    },
    {
     "name": "stderr",
     "output_type": "stream",
     "text": [
      " 96%|█████████▌| 24/25 [02:53<00:07,  7.43s/it]"
     ]
    },
    {
     "name": "stdout",
     "output_type": "stream",
     "text": [
      "Epoch 24/25 — Loss: 0.4961 | Accuracy: 0.7126 | F1-macro: 0.6936\n"
     ]
    },
    {
     "name": "stderr",
     "output_type": "stream",
     "text": [
      "100%|██████████| 25/25 [03:01<00:00,  7.26s/it]"
     ]
    },
    {
     "name": "stdout",
     "output_type": "stream",
     "text": [
      "Epoch 25/25 — Loss: 0.5448 | Accuracy: 0.7241 | F1-macro: 0.6657\n"
     ]
    },
    {
     "name": "stderr",
     "output_type": "stream",
     "text": [
      "\n"
     ]
    }
   ],
   "source": [
    "from sklearn.metrics import accuracy_score, f1_score\n",
    "import torch.nn.functional as F\n",
    "\n",
    "num_epochs = 25\n",
    "\n",
    "for epoch in tqdm(range(num_epochs)):\n",
    "    model.train()\n",
    "    total_loss = 0\n",
    "\n",
    "    for batch in train_loader:\n",
    "        input_ids = batch['input_ids'].to(device)\n",
    "        attention_mask = batch['attention_mask'].to(device)\n",
    "        labels = batch['label'].to(device)  # ← attention, le champ correct ici\n",
    "\n",
    "        logits = model(input_ids, attention_mask)  # [batch, 6]\n",
    "        loss = criterion(logits, labels)           # labels : [batch] (entiers 0–5)\n",
    "\n",
    "        optimizer.zero_grad()\n",
    "        loss.backward()\n",
    "        optimizer.step()\n",
    "\n",
    "        total_loss += loss.item()\n",
    "\n",
    "    # Évaluation\n",
    "    model.eval()\n",
    "    all_preds = []\n",
    "    all_labels = []\n",
    "\n",
    "    with torch.no_grad():\n",
    "        for batch in test_loader:\n",
    "            input_ids = batch['input_ids'].to(device)\n",
    "            attention_mask = batch['attention_mask'].to(device)\n",
    "            labels = batch['label'].to(device)\n",
    "\n",
    "            logits = model(input_ids, attention_mask)\n",
    "            preds = torch.argmax(logits, dim=1)\n",
    "\n",
    "            all_preds.extend(preds.cpu().numpy())\n",
    "            all_labels.extend(labels.cpu().numpy())\n",
    "\n",
    "    accuracy = accuracy_score(all_labels, all_preds)\n",
    "    f1 = f1_score(all_labels, all_preds, average='macro')\n",
    "\n",
    "    print(f\"Epoch {epoch+1}/{num_epochs} — Loss: {total_loss/len(train_loader):.4f} | \"\n",
    "          f\"Accuracy: {accuracy:.4f} | F1-macro: {f1:.4f}\")\n"
   ]
  },
  {
   "cell_type": "code",
   "execution_count": 21,
   "id": "b9d48432-c1f9-47b2-9e3a-3595019cc899",
   "metadata": {},
   "outputs": [],
   "source": [
    "torch.save(model.state_dict(), \"camembert_cnn_lstm_weights.pth\")"
   ]
  },
  {
   "cell_type": "code",
   "execution_count": 22,
   "id": "0ede50c6-b209-4d48-a253-f8a97e5d8be9",
   "metadata": {},
   "outputs": [],
   "source": [
    "def predict_theme(text, model, tokenizer, device, label_encoder=None):\n",
    "    model.eval()\n",
    "    inputs = tokenizer(text, return_tensors='pt', truncation=True, padding='max_length', max_length=256).to(device)\n",
    "\n",
    "    with torch.no_grad():\n",
    "        logits = model(inputs['input_ids'], inputs['attention_mask'])  # shape: [1, 6]\n",
    "\n",
    "    prediction_idx = torch.argmax(logits, dim=1).item()\n",
    "\n",
    "    if label_encoder is not None:\n",
    "        prediction_label = label_encoder.inverse_transform([prediction_idx])[0]\n",
    "        return prediction_label, prediction_idx\n",
    "    else:\n",
    "        return prediction_idx\n"
   ]
  },
  {
   "cell_type": "code",
   "execution_count": 23,
   "id": "80e4abfa-becb-4fdb-95dc-d8488ff33632",
   "metadata": {},
   "outputs": [
    {
     "name": "stdout",
     "output_type": "stream",
     "text": [
      "              precision    recall  f1-score   support\n",
      "\n",
      "   actualité       0.71      0.87      0.78        23\n",
      "     analyse       0.60      0.27      0.38        11\n",
      "     culture       0.86      0.73      0.79        26\n",
      "   politique       0.66      0.78      0.71        27\n",
      "\n",
      "    accuracy                           0.72        87\n",
      "   macro avg       0.71      0.66      0.67        87\n",
      "weighted avg       0.73      0.72      0.71        87\n",
      "\n"
     ]
    }
   ],
   "source": [
    "from sklearn.metrics import classification_report\n",
    "print(classification_report(all_labels, all_preds, target_names=label_encoder.classes_))"
   ]
  },
  {
   "cell_type": "code",
   "execution_count": 24,
   "id": "06245628-ff2a-4d6f-b2ea-707b0c025ecf",
   "metadata": {},
   "outputs": [],
   "source": [
    "class InferenceDataset(Dataset):\n",
    "    def __init__(self, df, tokenizer, max_length=256):\n",
    "        self.df = df.reset_index(drop=True)\n",
    "        self.tokenizer = tokenizer\n",
    "        self.max_length = max_length\n",
    "\n",
    "    def __len__(self):\n",
    "        return len(self.df)\n",
    "\n",
    "    def __getitem__(self, idx):\n",
    "        # Forcer la conversion en string et remplacer les NaN\n",
    "        text = str(self.df.loc[idx, \"texte\"]) if pd.notna(self.df.loc[idx, \"texte\"]) else \"\"\n",
    "        inputs = self.tokenizer(\n",
    "            text,\n",
    "            padding=\"max_length\",\n",
    "            truncation=True,\n",
    "            max_length=self.max_length,\n",
    "            return_tensors=\"pt\"\n",
    "        )\n",
    "        return {\n",
    "            \"input_ids\": inputs[\"input_ids\"].squeeze(0),\n",
    "            \"attention_mask\": inputs[\"attention_mask\"].squeeze(0)\n",
    "        }\n"
   ]
  },
  {
   "cell_type": "code",
   "execution_count": 37,
   "id": "b7120bc0-c3ea-4d00-ba87-3b42958ac8ac",
   "metadata": {},
   "outputs": [],
   "source": [
    "df = pd.read_csv('Data/data_clean.csv')\n",
    "df_all = df.merge(df_themes, on = 'identifiant', how = 'left')\n",
    "df_to_predict = df_all[df_all['theme'].isna() & df_all['texte'].notna()].copy()\n",
    "df_to_predict = df_to_predict.reset_index()  # garde l'index d'origine dans df_to_predict[\"index\"]\n"
   ]
  },
  {
   "cell_type": "code",
   "execution_count": 39,
   "id": "9121d5cf-4ddc-4a7c-aa48-8c1034a514ee",
   "metadata": {},
   "outputs": [],
   "source": [
    "inference_dataset = InferenceDataset(df_to_predict, tokenizer)\n",
    "inference_loader = DataLoader(inference_dataset, batch_size=32, shuffle=False)"
   ]
  },
  {
   "cell_type": "code",
   "execution_count": null,
   "id": "af0c847d-4381-48d9-b2da-865f55797746",
   "metadata": {},
   "outputs": [],
   "source": []
  },
  {
   "cell_type": "code",
   "execution_count": null,
   "id": "19510c56-cb08-46be-ab14-7f87d7aa8265",
   "metadata": {},
   "outputs": [],
   "source": []
  },
  {
   "cell_type": "code",
   "execution_count": 42,
   "id": "f5a0e6fa-84f5-439f-a6c5-af131cb0b149",
   "metadata": {},
   "outputs": [],
   "source": [
    "df_all.loc[df_to_predict[\"index\"], \"theme_pred_encoded\"] = all_preds\n",
    "df_all.loc[df_to_predict[\"index\"], \"theme_pred\"] = label_encoder.inverse_transform(all_preds)\n",
    "df_all.loc[df_to_predict[\"index\"], \"confidence\"] = all_probs\n",
    "\n",
    "df_all[\"theme_final\"] = df_all[\"theme\"].fillna(df_all[\"theme_pred\"])"
   ]
  },
  {
   "cell_type": "code",
   "execution_count": 40,
   "id": "aced732a-c99a-4633-91d1-0bc9f066983a",
   "metadata": {},
   "outputs": [
    {
     "name": "stderr",
     "output_type": "stream",
     "text": [
      "100%|██████████| 367/367 [07:46<00:00,  1.27s/it]\n"
     ]
    }
   ],
   "source": [
    "from torch.nn.functional import softmax\n",
    "\n",
    "model.eval()\n",
    "all_preds = []\n",
    "all_probs = []\n",
    "\n",
    "with torch.no_grad():\n",
    "    for batch in tqdm(inference_loader):\n",
    "        input_ids = batch[\"input_ids\"].to(device)\n",
    "        attention_mask = batch[\"attention_mask\"].to(device)\n",
    "\n",
    "        logits = model(input_ids, attention_mask)            # [batch, num_classes]\n",
    "        probs = softmax(logits, dim=1)                       # [batch, num_classes]\n",
    "\n",
    "        pred_classes = torch.argmax(probs, dim=1)            # [batch]\n",
    "        max_probs = torch.max(probs, dim=1).values           # [batch]\n",
    "\n",
    "        all_preds.extend(pred_classes.cpu().numpy())\n",
    "        all_probs.extend(max_probs.cpu().numpy())\n",
    "\n"
   ]
  },
  {
   "cell_type": "code",
   "execution_count": 47,
   "id": "0c9858d8-a5de-4576-8761-afeb7e34ea2e",
   "metadata": {},
   "outputs": [
    {
     "data": {
      "text/html": [
       "<div>\n",
       "<style scoped>\n",
       "    .dataframe tbody tr th:only-of-type {\n",
       "        vertical-align: middle;\n",
       "    }\n",
       "\n",
       "    .dataframe tbody tr th {\n",
       "        vertical-align: top;\n",
       "    }\n",
       "\n",
       "    .dataframe thead th {\n",
       "        text-align: right;\n",
       "    }\n",
       "</style>\n",
       "<table border=\"1\" class=\"dataframe\">\n",
       "  <thead>\n",
       "    <tr style=\"text-align: right;\">\n",
       "      <th></th>\n",
       "      <th>Unnamed: 0</th>\n",
       "      <th>identifiant</th>\n",
       "      <th>journal_clean</th>\n",
       "      <th>titre</th>\n",
       "      <th>annee</th>\n",
       "      <th>mois</th>\n",
       "      <th>jour</th>\n",
       "      <th>texte</th>\n",
       "      <th>keywords</th>\n",
       "      <th>theme</th>\n",
       "      <th>theme_pred_encoded</th>\n",
       "      <th>theme_pred</th>\n",
       "      <th>confidence</th>\n",
       "      <th>theme_final</th>\n",
       "    </tr>\n",
       "  </thead>\n",
       "  <tbody>\n",
       "    <tr>\n",
       "      <th>0</th>\n",
       "      <td>162</td>\n",
       "      <td>3a4723d9d754ca30c68ba8e420cd6683548f2af7ff7af3...</td>\n",
       "      <td>Libération</td>\n",
       "      <td>Viol collectif dans la nuit de la Saint-Sylves...</td>\n",
       "      <td>1995</td>\n",
       "      <td>1</td>\n",
       "      <td>6</td>\n",
       "      <td>Quatre jeunes de 19 à 23 ans ont été écroués m...</td>\n",
       "      <td>nuit, jeunes, collectif</td>\n",
       "      <td>NaN</td>\n",
       "      <td>0.0</td>\n",
       "      <td>actualité</td>\n",
       "      <td>0.891264</td>\n",
       "      <td>actualité</td>\n",
       "    </tr>\n",
       "    <tr>\n",
       "      <th>1</th>\n",
       "      <td>164</td>\n",
       "      <td>2b6ce23c0fbfd6e213b7cd196a4b12eda4323e322f5f35...</td>\n",
       "      <td>Libération</td>\n",
       "      <td>En Moselle, une jeune femme tuée par son mari</td>\n",
       "      <td>1995</td>\n",
       "      <td>1</td>\n",
       "      <td>16</td>\n",
       "      <td>Une femme de 23 ans, mère d'une fillette de 2 ...</td>\n",
       "      <td>mari, ans</td>\n",
       "      <td>NaN</td>\n",
       "      <td>0.0</td>\n",
       "      <td>actualité</td>\n",
       "      <td>0.924156</td>\n",
       "      <td>actualité</td>\n",
       "    </tr>\n",
       "    <tr>\n",
       "      <th>2</th>\n",
       "      <td>166</td>\n",
       "      <td>1ff60f3c67772523234516266aea695c0cac0751676577...</td>\n",
       "      <td>Libération</td>\n",
       "      <td>\"Péché originel\": P. D. James plagie</td>\n",
       "      <td>1995</td>\n",
       "      <td>1</td>\n",
       "      <td>19</td>\n",
       "      <td>La baronne James, reine du déjà vu? Cette rume...</td>\n",
       "      <td>baronne, déjà, édition, james, plagie, James_p...</td>\n",
       "      <td>NaN</td>\n",
       "      <td>2.0</td>\n",
       "      <td>culture</td>\n",
       "      <td>0.357727</td>\n",
       "      <td>culture</td>\n",
       "    </tr>\n",
       "    <tr>\n",
       "      <th>3</th>\n",
       "      <td>170</td>\n",
       "      <td>5b65c6d7e4f5ad08803aeb5e7921b6cb6321f1fef50b7f...</td>\n",
       "      <td>Libération</td>\n",
       "      <td>Sarajevo sous le feu des Serbes</td>\n",
       "      <td>1995</td>\n",
       "      <td>2</td>\n",
       "      <td>28</td>\n",
       "      <td>La reprise massive des tirs serbes sur Sarajev...</td>\n",
       "      <td>recrudescence, demirel, serbes, capitale, turc...</td>\n",
       "      <td>NaN</td>\n",
       "      <td>3.0</td>\n",
       "      <td>politique</td>\n",
       "      <td>0.717922</td>\n",
       "      <td>politique</td>\n",
       "    </tr>\n",
       "    <tr>\n",
       "      <th>4</th>\n",
       "      <td>171</td>\n",
       "      <td>d82fc0248b80e33ca1fc2a0da41f749d51f53f2db569b4...</td>\n",
       "      <td>Libération</td>\n",
       "      <td>Violence familiale : aujourd'hui la plainte pa...</td>\n",
       "      <td>1995</td>\n",
       "      <td>3</td>\n",
       "      <td>2</td>\n",
       "      <td>Jusqu'à la réforme du code pénal il y a un an,...</td>\n",
       "      <td>violence, victimes, pénal, loi, avis, médical,...</td>\n",
       "      <td>NaN</td>\n",
       "      <td>3.0</td>\n",
       "      <td>politique</td>\n",
       "      <td>0.717879</td>\n",
       "      <td>politique</td>\n",
       "    </tr>\n",
       "    <tr>\n",
       "      <th>...</th>\n",
       "      <td>...</td>\n",
       "      <td>...</td>\n",
       "      <td>...</td>\n",
       "      <td>...</td>\n",
       "      <td>...</td>\n",
       "      <td>...</td>\n",
       "      <td>...</td>\n",
       "      <td>...</td>\n",
       "      <td>...</td>\n",
       "      <td>...</td>\n",
       "      <td>...</td>\n",
       "      <td>...</td>\n",
       "      <td>...</td>\n",
       "      <td>...</td>\n",
       "    </tr>\n",
       "    <tr>\n",
       "      <th>12165</th>\n",
       "      <td>82156</td>\n",
       "      <td>e36f02ac7daaf39e2d3b66037ec45f1884593b1e6b73dd...</td>\n",
       "      <td>Libération</td>\n",
       "      <td>Devenir acteur</td>\n",
       "      <td>2024</td>\n",
       "      <td>12</td>\n",
       "      <td>4</td>\n",
       "      <td>Et si, en chemin, l'éducation populaire avait ...</td>\n",
       "      <td>acteur, populaire, éducation</td>\n",
       "      <td>NaN</td>\n",
       "      <td>1.0</td>\n",
       "      <td>analyse</td>\n",
       "      <td>0.584799</td>\n",
       "      <td>analyse</td>\n",
       "    </tr>\n",
       "    <tr>\n",
       "      <th>12166</th>\n",
       "      <td>82157</td>\n",
       "      <td>e021e6c61999c0fb494e2a49ed9614758d1e8318230a25...</td>\n",
       "      <td>Le Point</td>\n",
       "      <td>Quand l'air de Bohème souffle sur le Rocher</td>\n",
       "      <td>2024</td>\n",
       "      <td>12</td>\n",
       "      <td>4</td>\n",
       "      <td>À 88 ans, Charles Dutoit a ralenti son activit...</td>\n",
       "      <td>air, dutoit, charles</td>\n",
       "      <td>NaN</td>\n",
       "      <td>2.0</td>\n",
       "      <td>culture</td>\n",
       "      <td>0.916663</td>\n",
       "      <td>culture</td>\n",
       "    </tr>\n",
       "    <tr>\n",
       "      <th>12167</th>\n",
       "      <td>82172</td>\n",
       "      <td>ebd597bcedd9a52c354cd8337257ec2511ff3ae3b56296...</td>\n",
       "      <td>Libération</td>\n",
       "      <td>A Marseille, devenir acteur de l’éducation pop...</td>\n",
       "      <td>2024</td>\n",
       "      <td>12</td>\n",
       "      <td>4</td>\n",
       "      <td>Et si, en chemin, l’éducation populaire avait ...</td>\n",
       "      <td>acteur, populaire, l’éducation</td>\n",
       "      <td>NaN</td>\n",
       "      <td>1.0</td>\n",
       "      <td>analyse</td>\n",
       "      <td>0.679225</td>\n",
       "      <td>analyse</td>\n",
       "    </tr>\n",
       "    <tr>\n",
       "      <th>12168</th>\n",
       "      <td>82173</td>\n",
       "      <td>20d7c133c259fe5e149d1cddfa8be63aa616233362596f...</td>\n",
       "      <td>Le Figaro</td>\n",
       "      <td>«Adèle Haenel et ses 12 ans étaient d’une sens...</td>\n",
       "      <td>2024</td>\n",
       "      <td>12</td>\n",
       "      <td>4</td>\n",
       "      <td>Au dernier étage d’un immeuble de la rue Jean-...</td>\n",
       "      <td>violences, christophe, adèle, réalisateur, d’u...</td>\n",
       "      <td>NaN</td>\n",
       "      <td>0.0</td>\n",
       "      <td>actualité</td>\n",
       "      <td>0.874708</td>\n",
       "      <td>actualité</td>\n",
       "    </tr>\n",
       "    <tr>\n",
       "      <th>12169</th>\n",
       "      <td>82175</td>\n",
       "      <td>4551bb033bd0882777b6f20a6c74d7cea3db52bdf498c5...</td>\n",
       "      <td>Libération</td>\n",
       "      <td>«Se libérer de Barbe-Bleue» d’Edith Lombardi :...</td>\n",
       "      <td>2024</td>\n",
       "      <td>12</td>\n",
       "      <td>4</td>\n",
       "      <td>Il était une fois, en Ecosse, une pauvre veuve...</td>\n",
       "      <td>lombardi, barbe-bleue, fois, sœur, vient, s’en...</td>\n",
       "      <td>NaN</td>\n",
       "      <td>0.0</td>\n",
       "      <td>actualité</td>\n",
       "      <td>0.872810</td>\n",
       "      <td>actualité</td>\n",
       "    </tr>\n",
       "  </tbody>\n",
       "</table>\n",
       "<p>12170 rows × 14 columns</p>\n",
       "</div>"
      ],
      "text/plain": [
       "       Unnamed: 0                                        identifiant  \\\n",
       "0             162  3a4723d9d754ca30c68ba8e420cd6683548f2af7ff7af3...   \n",
       "1             164  2b6ce23c0fbfd6e213b7cd196a4b12eda4323e322f5f35...   \n",
       "2             166  1ff60f3c67772523234516266aea695c0cac0751676577...   \n",
       "3             170  5b65c6d7e4f5ad08803aeb5e7921b6cb6321f1fef50b7f...   \n",
       "4             171  d82fc0248b80e33ca1fc2a0da41f749d51f53f2db569b4...   \n",
       "...           ...                                                ...   \n",
       "12165       82156  e36f02ac7daaf39e2d3b66037ec45f1884593b1e6b73dd...   \n",
       "12166       82157  e021e6c61999c0fb494e2a49ed9614758d1e8318230a25...   \n",
       "12167       82172  ebd597bcedd9a52c354cd8337257ec2511ff3ae3b56296...   \n",
       "12168       82173  20d7c133c259fe5e149d1cddfa8be63aa616233362596f...   \n",
       "12169       82175  4551bb033bd0882777b6f20a6c74d7cea3db52bdf498c5...   \n",
       "\n",
       "      journal_clean                                              titre  annee  \\\n",
       "0        Libération  Viol collectif dans la nuit de la Saint-Sylves...   1995   \n",
       "1        Libération      En Moselle, une jeune femme tuée par son mari   1995   \n",
       "2        Libération               \"Péché originel\": P. D. James plagie   1995   \n",
       "3        Libération                    Sarajevo sous le feu des Serbes   1995   \n",
       "4        Libération  Violence familiale : aujourd'hui la plainte pa...   1995   \n",
       "...             ...                                                ...    ...   \n",
       "12165    Libération                                     Devenir acteur   2024   \n",
       "12166      Le Point        Quand l'air de Bohème souffle sur le Rocher   2024   \n",
       "12167    Libération  A Marseille, devenir acteur de l’éducation pop...   2024   \n",
       "12168     Le Figaro  «Adèle Haenel et ses 12 ans étaient d’une sens...   2024   \n",
       "12169    Libération  «Se libérer de Barbe-Bleue» d’Edith Lombardi :...   2024   \n",
       "\n",
       "       mois  jour                                              texte  \\\n",
       "0         1     6  Quatre jeunes de 19 à 23 ans ont été écroués m...   \n",
       "1         1    16  Une femme de 23 ans, mère d'une fillette de 2 ...   \n",
       "2         1    19  La baronne James, reine du déjà vu? Cette rume...   \n",
       "3         2    28  La reprise massive des tirs serbes sur Sarajev...   \n",
       "4         3     2  Jusqu'à la réforme du code pénal il y a un an,...   \n",
       "...     ...   ...                                                ...   \n",
       "12165    12     4  Et si, en chemin, l'éducation populaire avait ...   \n",
       "12166    12     4  À 88 ans, Charles Dutoit a ralenti son activit...   \n",
       "12167    12     4  Et si, en chemin, l’éducation populaire avait ...   \n",
       "12168    12     4  Au dernier étage d’un immeuble de la rue Jean-...   \n",
       "12169    12     4  Il était une fois, en Ecosse, une pauvre veuve...   \n",
       "\n",
       "                                                keywords theme  \\\n",
       "0                                nuit, jeunes, collectif   NaN   \n",
       "1                                              mari, ans   NaN   \n",
       "2      baronne, déjà, édition, james, plagie, James_p...   NaN   \n",
       "3      recrudescence, demirel, serbes, capitale, turc...   NaN   \n",
       "4      violence, victimes, pénal, loi, avis, médical,...   NaN   \n",
       "...                                                  ...   ...   \n",
       "12165                       acteur, populaire, éducation   NaN   \n",
       "12166                               air, dutoit, charles   NaN   \n",
       "12167                     acteur, populaire, l’éducation   NaN   \n",
       "12168  violences, christophe, adèle, réalisateur, d’u...   NaN   \n",
       "12169  lombardi, barbe-bleue, fois, sœur, vient, s’en...   NaN   \n",
       "\n",
       "       theme_pred_encoded theme_pred  confidence theme_final  \n",
       "0                     0.0  actualité    0.891264   actualité  \n",
       "1                     0.0  actualité    0.924156   actualité  \n",
       "2                     2.0    culture    0.357727     culture  \n",
       "3                     3.0  politique    0.717922   politique  \n",
       "4                     3.0  politique    0.717879   politique  \n",
       "...                   ...        ...         ...         ...  \n",
       "12165                 1.0    analyse    0.584799     analyse  \n",
       "12166                 2.0    culture    0.916663     culture  \n",
       "12167                 1.0    analyse    0.679225     analyse  \n",
       "12168                 0.0  actualité    0.874708   actualité  \n",
       "12169                 0.0  actualité    0.872810   actualité  \n",
       "\n",
       "[12170 rows x 14 columns]"
      ]
     },
     "execution_count": 47,
     "metadata": {},
     "output_type": "execute_result"
    }
   ],
   "source": [
    "df_all"
   ]
  },
  {
   "cell_type": "code",
   "execution_count": 48,
   "id": "7bd9036d-835f-44a9-bbdd-1006bceda068",
   "metadata": {},
   "outputs": [],
   "source": [
    "df_all = df_all.drop(columns=['Unnamed: 0', 'theme', 'theme_pred_encoded', 'theme_pred', 'confidence'])\n"
   ]
  },
  {
   "cell_type": "code",
   "execution_count": 49,
   "id": "84310de8-60b7-4a0b-b3f8-be279a9461c6",
   "metadata": {},
   "outputs": [
    {
     "data": {
      "text/html": [
       "<div>\n",
       "<style scoped>\n",
       "    .dataframe tbody tr th:only-of-type {\n",
       "        vertical-align: middle;\n",
       "    }\n",
       "\n",
       "    .dataframe tbody tr th {\n",
       "        vertical-align: top;\n",
       "    }\n",
       "\n",
       "    .dataframe thead th {\n",
       "        text-align: right;\n",
       "    }\n",
       "</style>\n",
       "<table border=\"1\" class=\"dataframe\">\n",
       "  <thead>\n",
       "    <tr style=\"text-align: right;\">\n",
       "      <th></th>\n",
       "      <th>identifiant</th>\n",
       "      <th>journal_clean</th>\n",
       "      <th>titre</th>\n",
       "      <th>annee</th>\n",
       "      <th>mois</th>\n",
       "      <th>jour</th>\n",
       "      <th>texte</th>\n",
       "      <th>keywords</th>\n",
       "      <th>theme_final</th>\n",
       "    </tr>\n",
       "  </thead>\n",
       "  <tbody>\n",
       "    <tr>\n",
       "      <th>0</th>\n",
       "      <td>3a4723d9d754ca30c68ba8e420cd6683548f2af7ff7af3...</td>\n",
       "      <td>Libération</td>\n",
       "      <td>Viol collectif dans la nuit de la Saint-Sylves...</td>\n",
       "      <td>1995</td>\n",
       "      <td>1</td>\n",
       "      <td>6</td>\n",
       "      <td>Quatre jeunes de 19 à 23 ans ont été écroués m...</td>\n",
       "      <td>nuit, jeunes, collectif</td>\n",
       "      <td>actualité</td>\n",
       "    </tr>\n",
       "    <tr>\n",
       "      <th>1</th>\n",
       "      <td>2b6ce23c0fbfd6e213b7cd196a4b12eda4323e322f5f35...</td>\n",
       "      <td>Libération</td>\n",
       "      <td>En Moselle, une jeune femme tuée par son mari</td>\n",
       "      <td>1995</td>\n",
       "      <td>1</td>\n",
       "      <td>16</td>\n",
       "      <td>Une femme de 23 ans, mère d'une fillette de 2 ...</td>\n",
       "      <td>mari, ans</td>\n",
       "      <td>actualité</td>\n",
       "    </tr>\n",
       "    <tr>\n",
       "      <th>2</th>\n",
       "      <td>1ff60f3c67772523234516266aea695c0cac0751676577...</td>\n",
       "      <td>Libération</td>\n",
       "      <td>\"Péché originel\": P. D. James plagie</td>\n",
       "      <td>1995</td>\n",
       "      <td>1</td>\n",
       "      <td>19</td>\n",
       "      <td>La baronne James, reine du déjà vu? Cette rume...</td>\n",
       "      <td>baronne, déjà, édition, james, plagie, James_p...</td>\n",
       "      <td>culture</td>\n",
       "    </tr>\n",
       "    <tr>\n",
       "      <th>3</th>\n",
       "      <td>5b65c6d7e4f5ad08803aeb5e7921b6cb6321f1fef50b7f...</td>\n",
       "      <td>Libération</td>\n",
       "      <td>Sarajevo sous le feu des Serbes</td>\n",
       "      <td>1995</td>\n",
       "      <td>2</td>\n",
       "      <td>28</td>\n",
       "      <td>La reprise massive des tirs serbes sur Sarajev...</td>\n",
       "      <td>recrudescence, demirel, serbes, capitale, turc...</td>\n",
       "      <td>politique</td>\n",
       "    </tr>\n",
       "    <tr>\n",
       "      <th>4</th>\n",
       "      <td>d82fc0248b80e33ca1fc2a0da41f749d51f53f2db569b4...</td>\n",
       "      <td>Libération</td>\n",
       "      <td>Violence familiale : aujourd'hui la plainte pa...</td>\n",
       "      <td>1995</td>\n",
       "      <td>3</td>\n",
       "      <td>2</td>\n",
       "      <td>Jusqu'à la réforme du code pénal il y a un an,...</td>\n",
       "      <td>violence, victimes, pénal, loi, avis, médical,...</td>\n",
       "      <td>politique</td>\n",
       "    </tr>\n",
       "    <tr>\n",
       "      <th>...</th>\n",
       "      <td>...</td>\n",
       "      <td>...</td>\n",
       "      <td>...</td>\n",
       "      <td>...</td>\n",
       "      <td>...</td>\n",
       "      <td>...</td>\n",
       "      <td>...</td>\n",
       "      <td>...</td>\n",
       "      <td>...</td>\n",
       "    </tr>\n",
       "    <tr>\n",
       "      <th>12165</th>\n",
       "      <td>e36f02ac7daaf39e2d3b66037ec45f1884593b1e6b73dd...</td>\n",
       "      <td>Libération</td>\n",
       "      <td>Devenir acteur</td>\n",
       "      <td>2024</td>\n",
       "      <td>12</td>\n",
       "      <td>4</td>\n",
       "      <td>Et si, en chemin, l'éducation populaire avait ...</td>\n",
       "      <td>acteur, populaire, éducation</td>\n",
       "      <td>analyse</td>\n",
       "    </tr>\n",
       "    <tr>\n",
       "      <th>12166</th>\n",
       "      <td>e021e6c61999c0fb494e2a49ed9614758d1e8318230a25...</td>\n",
       "      <td>Le Point</td>\n",
       "      <td>Quand l'air de Bohème souffle sur le Rocher</td>\n",
       "      <td>2024</td>\n",
       "      <td>12</td>\n",
       "      <td>4</td>\n",
       "      <td>À 88 ans, Charles Dutoit a ralenti son activit...</td>\n",
       "      <td>air, dutoit, charles</td>\n",
       "      <td>culture</td>\n",
       "    </tr>\n",
       "    <tr>\n",
       "      <th>12167</th>\n",
       "      <td>ebd597bcedd9a52c354cd8337257ec2511ff3ae3b56296...</td>\n",
       "      <td>Libération</td>\n",
       "      <td>A Marseille, devenir acteur de l’éducation pop...</td>\n",
       "      <td>2024</td>\n",
       "      <td>12</td>\n",
       "      <td>4</td>\n",
       "      <td>Et si, en chemin, l’éducation populaire avait ...</td>\n",
       "      <td>acteur, populaire, l’éducation</td>\n",
       "      <td>analyse</td>\n",
       "    </tr>\n",
       "    <tr>\n",
       "      <th>12168</th>\n",
       "      <td>20d7c133c259fe5e149d1cddfa8be63aa616233362596f...</td>\n",
       "      <td>Le Figaro</td>\n",
       "      <td>«Adèle Haenel et ses 12 ans étaient d’une sens...</td>\n",
       "      <td>2024</td>\n",
       "      <td>12</td>\n",
       "      <td>4</td>\n",
       "      <td>Au dernier étage d’un immeuble de la rue Jean-...</td>\n",
       "      <td>violences, christophe, adèle, réalisateur, d’u...</td>\n",
       "      <td>actualité</td>\n",
       "    </tr>\n",
       "    <tr>\n",
       "      <th>12169</th>\n",
       "      <td>4551bb033bd0882777b6f20a6c74d7cea3db52bdf498c5...</td>\n",
       "      <td>Libération</td>\n",
       "      <td>«Se libérer de Barbe-Bleue» d’Edith Lombardi :...</td>\n",
       "      <td>2024</td>\n",
       "      <td>12</td>\n",
       "      <td>4</td>\n",
       "      <td>Il était une fois, en Ecosse, une pauvre veuve...</td>\n",
       "      <td>lombardi, barbe-bleue, fois, sœur, vient, s’en...</td>\n",
       "      <td>actualité</td>\n",
       "    </tr>\n",
       "  </tbody>\n",
       "</table>\n",
       "<p>12170 rows × 9 columns</p>\n",
       "</div>"
      ],
      "text/plain": [
       "                                             identifiant journal_clean  \\\n",
       "0      3a4723d9d754ca30c68ba8e420cd6683548f2af7ff7af3...    Libération   \n",
       "1      2b6ce23c0fbfd6e213b7cd196a4b12eda4323e322f5f35...    Libération   \n",
       "2      1ff60f3c67772523234516266aea695c0cac0751676577...    Libération   \n",
       "3      5b65c6d7e4f5ad08803aeb5e7921b6cb6321f1fef50b7f...    Libération   \n",
       "4      d82fc0248b80e33ca1fc2a0da41f749d51f53f2db569b4...    Libération   \n",
       "...                                                  ...           ...   \n",
       "12165  e36f02ac7daaf39e2d3b66037ec45f1884593b1e6b73dd...    Libération   \n",
       "12166  e021e6c61999c0fb494e2a49ed9614758d1e8318230a25...      Le Point   \n",
       "12167  ebd597bcedd9a52c354cd8337257ec2511ff3ae3b56296...    Libération   \n",
       "12168  20d7c133c259fe5e149d1cddfa8be63aa616233362596f...     Le Figaro   \n",
       "12169  4551bb033bd0882777b6f20a6c74d7cea3db52bdf498c5...    Libération   \n",
       "\n",
       "                                                   titre  annee  mois  jour  \\\n",
       "0      Viol collectif dans la nuit de la Saint-Sylves...   1995     1     6   \n",
       "1          En Moselle, une jeune femme tuée par son mari   1995     1    16   \n",
       "2                   \"Péché originel\": P. D. James plagie   1995     1    19   \n",
       "3                        Sarajevo sous le feu des Serbes   1995     2    28   \n",
       "4      Violence familiale : aujourd'hui la plainte pa...   1995     3     2   \n",
       "...                                                  ...    ...   ...   ...   \n",
       "12165                                     Devenir acteur   2024    12     4   \n",
       "12166        Quand l'air de Bohème souffle sur le Rocher   2024    12     4   \n",
       "12167  A Marseille, devenir acteur de l’éducation pop...   2024    12     4   \n",
       "12168  «Adèle Haenel et ses 12 ans étaient d’une sens...   2024    12     4   \n",
       "12169  «Se libérer de Barbe-Bleue» d’Edith Lombardi :...   2024    12     4   \n",
       "\n",
       "                                                   texte  \\\n",
       "0      Quatre jeunes de 19 à 23 ans ont été écroués m...   \n",
       "1      Une femme de 23 ans, mère d'une fillette de 2 ...   \n",
       "2      La baronne James, reine du déjà vu? Cette rume...   \n",
       "3      La reprise massive des tirs serbes sur Sarajev...   \n",
       "4      Jusqu'à la réforme du code pénal il y a un an,...   \n",
       "...                                                  ...   \n",
       "12165  Et si, en chemin, l'éducation populaire avait ...   \n",
       "12166  À 88 ans, Charles Dutoit a ralenti son activit...   \n",
       "12167  Et si, en chemin, l’éducation populaire avait ...   \n",
       "12168  Au dernier étage d’un immeuble de la rue Jean-...   \n",
       "12169  Il était une fois, en Ecosse, une pauvre veuve...   \n",
       "\n",
       "                                                keywords theme_final  \n",
       "0                                nuit, jeunes, collectif   actualité  \n",
       "1                                              mari, ans   actualité  \n",
       "2      baronne, déjà, édition, james, plagie, James_p...     culture  \n",
       "3      recrudescence, demirel, serbes, capitale, turc...   politique  \n",
       "4      violence, victimes, pénal, loi, avis, médical,...   politique  \n",
       "...                                                  ...         ...  \n",
       "12165                       acteur, populaire, éducation     analyse  \n",
       "12166                               air, dutoit, charles     culture  \n",
       "12167                     acteur, populaire, l’éducation     analyse  \n",
       "12168  violences, christophe, adèle, réalisateur, d’u...   actualité  \n",
       "12169  lombardi, barbe-bleue, fois, sœur, vient, s’en...   actualité  \n",
       "\n",
       "[12170 rows x 9 columns]"
      ]
     },
     "execution_count": 49,
     "metadata": {},
     "output_type": "execute_result"
    }
   ],
   "source": [
    "df_all"
   ]
  },
  {
   "cell_type": "code",
   "execution_count": 50,
   "id": "4cfebdbd-5431-48d7-9a8b-13c7f9042591",
   "metadata": {},
   "outputs": [],
   "source": [
    "actualité = df_all[df_all['theme_final']=='actualité']"
   ]
  },
  {
   "cell_type": "code",
   "execution_count": 52,
   "id": "7071fc23-f153-44ce-bfcb-420f7d5e8628",
   "metadata": {},
   "outputs": [],
   "source": [
    "actualité.to_csv('Data/articles_actualite.csv')"
   ]
  }
 ],
 "metadata": {
  "kernelspec": {
   "display_name": "Python 3 (ipykernel)",
   "language": "python",
   "name": "python3"
  },
  "language_info": {
   "codemirror_mode": {
    "name": "ipython",
    "version": 3
   },
   "file_extension": ".py",
   "mimetype": "text/x-python",
   "name": "python",
   "nbconvert_exporter": "python",
   "pygments_lexer": "ipython3",
   "version": "3.12.9"
  }
 },
 "nbformat": 4,
 "nbformat_minor": 5
}
