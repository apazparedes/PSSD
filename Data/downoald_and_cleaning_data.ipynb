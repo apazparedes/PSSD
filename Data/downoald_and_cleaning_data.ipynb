{
 "cells": [
  {
   "cell_type": "code",
   "execution_count": 3,
   "metadata": {},
   "outputs": [],
   "source": [
    "import gdown\n",
    "import pandas as pd"
   ]
  },
  {
   "cell_type": "code",
   "execution_count": 4,
   "metadata": {},
   "outputs": [
    {
     "name": "stderr",
     "output_type": "stream",
     "text": [
      "Downloading...\n",
      "From (original): https://drive.google.com/uc?id=1UR_MC8Q5K4JSRnSUX5MQ-sIGPjLLnm9f\n",
      "From (redirected): https://drive.google.com/uc?id=1UR_MC8Q5K4JSRnSUX5MQ-sIGPjLLnm9f&confirm=t&uuid=1858d6dc-1893-4e20-98b7-a497551ca7cc\n",
      "To: c:\\Users\\Anais\\Visual studio\\PSSD\\Data\\data.csv\n",
      "100%|██████████| 363M/363M [04:23<00:00, 1.38MB/s] \n"
     ]
    }
   ],
   "source": [
    "# URL Google Drive\n",
    "url = \"https://drive.google.com/uc?export=download&id=1UR_MC8Q5K4JSRnSUX5MQ-sIGPjLLnm9f\"\n",
    "output = \"data.csv\"\n",
    "\n",
    "# Downoalding database\n",
    "gdown.download(url, output, quiet=False, fuzzy=True)\n",
    "\n",
    "# Reading csv \n",
    "df = pd.read_csv(output)"
   ]
  },
  {
   "cell_type": "code",
   "execution_count": 5,
   "metadata": {},
   "outputs": [],
   "source": [
    "# Removing variables unused\n",
    "\n",
    "column_names = df.columns.tolist()\n",
    "new_df=df.drop(columns=['identifiant','heure','minute','seconde','date','epoch','auteur','langue','url','journal','complement'])\n"
   ]
  },
  {
   "cell_type": "code",
   "execution_count": 7,
   "metadata": {},
   "outputs": [],
   "source": [
    "#Creating clean data csv\n",
    "\n",
    "new_df.to_csv('data_clean.csv')"
   ]
  }
 ],
 "metadata": {
  "kernelspec": {
   "display_name": "base",
   "language": "python",
   "name": "python3"
  },
  "language_info": {
   "codemirror_mode": {
    "name": "ipython",
    "version": 3
   },
   "file_extension": ".py",
   "mimetype": "text/x-python",
   "name": "python",
   "nbconvert_exporter": "python",
   "pygments_lexer": "ipython3",
   "version": "3.10.9"
  }
 },
 "nbformat": 4,
 "nbformat_minor": 2
}
