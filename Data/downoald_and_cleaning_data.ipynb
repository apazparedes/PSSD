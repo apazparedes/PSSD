{
 "cells": [
  {
   "cell_type": "code",
   "execution_count": null,
   "metadata": {},
   "outputs": [],
   "source": [
    "import gdown\n",
    "import pandas as pd"
   ]
  },
  {
   "cell_type": "code",
   "execution_count": null,
   "metadata": {},
   "outputs": [
    {
     "name": "stderr",
     "output_type": "stream",
     "text": [
      " 32%|███▏      | 117M/363M [00:19<00:04, 59.1MB/s]"
     ]
    }
   ],
   "source": [
    "# URL Google Drive\n",
    "url = \"https://drive.google.com/uc?export=download&id=1UR_MC8Q5K4JSRnSUX5MQ-sIGPjLLnm9f\"\n",
    "output = \"data.csv\"\n",
    "\n",
    "# Downoalding database\n",
    "gdown.download(url, output, quiet=False, fuzzy=True)\n",
    "\n",
    "# Reading csv \n",
    "df = pd.read_csv(output)"
   ]
  },
  {
   "cell_type": "code",
   "execution_count": null,
   "metadata": {},
   "outputs": [],
   "source": [
    "# Removing variables unused\n",
    "\n",
    "column_names = df.columns.tolist()\n",
    "new_df=df.drop(columns=['heure','minute','seconde','date','epoch','auteur','langue','url','journal','complement'])\n"
   ]
  },
  {
   "cell_type": "code",
   "execution_count": null,
   "metadata": {},
   "outputs": [],
   "source": [
    "new_df = new_df[new_df['journal_clean'].isin([\"Le Monde\", \"Le Figaro\", \"Libération\", \"L'Humanité\", \"Le Point\", \"Le Nouvel Obs\"])]"
   ]
  },
  {
   "cell_type": "code",
   "execution_count": null,
   "metadata": {},
   "outputs": [],
   "source": [
    "#Creating clean data csv\n",
    "\n",
    "new_df.to_csv('data_clean.csv')"
   ]
  }
 ],
 "metadata": {
  "kernelspec": {
   "display_name": "Python 3 (ipykernel)",
   "language": "python",
   "name": "python3"
  },
  "language_info": {
   "codemirror_mode": {
    "name": "ipython",
    "version": 3
   },
   "file_extension": ".py",
   "mimetype": "text/x-python",
   "name": "python",
   "nbconvert_exporter": "python",
   "pygments_lexer": "ipython3",
   "version": "3.12.9"
  }
 },
 "nbformat": 4,
 "nbformat_minor": 4
}
