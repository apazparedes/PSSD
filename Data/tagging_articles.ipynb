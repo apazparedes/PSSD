{
 "cells": [
  {
   "cell_type": "code",
   "execution_count": 1,
   "metadata": {},
   "outputs": [
    {
     "name": "stderr",
     "output_type": "stream",
     "text": [
      "Downloading...\n",
      "From (original): https://drive.google.com/uc?id=1UR_MC8Q5K4JSRnSUX5MQ-sIGPjLLnm9f\n",
      "From (redirected): https://drive.google.com/uc?id=1UR_MC8Q5K4JSRnSUX5MQ-sIGPjLLnm9f&confirm=t&uuid=030d23ac-8f2b-47c7-a08f-14f4ea083cd0\n",
      "To: /home/onyxia/work/PSSD/Data/data.csv\n",
      "100%|██████████| 363M/363M [00:04<00:00, 78.3MB/s] \n"
     ]
    }
   ],
   "source": [
    "%run downoald_and_cleaning_data.ipynb"
   ]
  },
  {
   "cell_type": "code",
   "execution_count": 2,
   "metadata": {},
   "outputs": [],
   "source": [
    "df = pd.read_csv(\"data_clean.csv\")"
   ]
  },
  {
   "cell_type": "code",
   "execution_count": 3,
   "metadata": {},
   "outputs": [],
   "source": [
    "df.dropna(subset=['texte'], inplace=True)"
   ]
  },
  {
   "cell_type": "code",
   "execution_count": 4,
   "metadata": {},
   "outputs": [],
   "source": [
    "df['texte'] = df['texte'].str.lower()"
   ]
  },
  {
   "cell_type": "code",
   "execution_count": 5,
   "metadata": {},
   "outputs": [
    {
     "name": "stderr",
     "output_type": "stream",
     "text": [
      "100%|██████████| 11970/11970 [00:02<00:00, 5035.27it/s]\n",
      "100%|██████████| 11970/11970 [00:00<00:00, 258280.31it/s]\n"
     ]
    }
   ],
   "source": [
    "import re\n",
    "from tqdm import tqdm\n",
    "\n",
    "tqdm.pandas()\n",
    "df['texte_clean'] = df['texte'].str.lower().progress_apply(lambda x: re.sub(r'[^\\w\\s]', '', x))\n",
    "df['titre_clean'] = df['titre'].str.lower().progress_apply(lambda x: re.sub(r'[^\\w\\s]', '', x))\n"
   ]
  },
  {
   "cell_type": "code",
   "execution_count": 6,
   "metadata": {},
   "outputs": [],
   "source": [
    "import os\n",
    "os.chdir('..')\n",
    "df_themes = pd.read_csv('Annotations/theme.csv')"
   ]
  },
  {
   "cell_type": "code",
   "execution_count": 7,
   "metadata": {},
   "outputs": [],
   "source": [
    "df_merged = df.merge(df_themes, on=\"identifiant\", how=\"left\", suffixes=(\"\", \"_manual\"))\n",
    "df_merged[\"texte_total\"] = df_merged[\"titre\"].fillna(\"\") + \" \" + df_merged[\"texte\"].fillna(\"\")"
   ]
  },
  {
   "cell_type": "code",
   "execution_count": 12,
   "metadata": {},
   "outputs": [
    {
     "name": "stderr",
     "output_type": "stream",
     "text": [
      "Device set to use cuda:0\n"
     ]
    }
   ],
   "source": [
    "from transformers import pipeline\n",
    "from datasets import Dataset\n",
    "\n",
    "classifier = pipeline(\n",
    "    \"zero-shot-classification\",\n",
    "    model=\"mtheo/camembert-base-xnli\",\n",
    "    device=0,\n",
    "    hypothesis_template=\"Cet article parle de {}.\"\n",
    ")\n",
    "candidate_labels = [\n",
    "    \"actualité\",\n",
    "    \"culture\",\n",
    "    \"politique\",\n",
    "    \"tribune\",\n",
    "    \"analyse\",\n",
    "    \"société\"\n",
    "]\n",
    "def batch_classify(df, text_column='texte_total', batch_size=96):\n",
    "    texts = df[text_column].fillna(\" \").tolist()\n",
    "    texts = [t if isinstance(t, str) and t.strip() != \"\" else \" \" for t in texts]\n",
    "    dataset = Dataset.from_dict({\"text\": texts})\n",
    "\n",
    "    def batching(batch):\n",
    "        results = classifier(\n",
    "            batch[\"text\"],\n",
    "            candidate_labels=candidate_labels,\n",
    "            batch_size=batch_size\n",
    "        )\n",
    "        batch_themes = [res[\"labels\"][0] for res in results]\n",
    "        batch_scores = [res[\"scores\"][0] for res in results]\n",
    "        return {\"theme_pred\": batch_themes, \"theme_score\": batch_scores}\n",
    "\n",
    "    dataset = dataset.map(\n",
    "        batching,\n",
    "        batched=True,\n",
    "        batch_size=batch_size\n",
    "    )\n",
    "    return dataset.to_pandas()\n"
   ]
  },
  {
   "cell_type": "code",
   "execution_count": 13,
   "metadata": {},
   "outputs": [
    {
     "name": "stdout",
     "output_type": "stream",
     "text": [
      "Lignes initiales : 11970\n",
      "Lignes après filtrage : 11970\n"
     ]
    }
   ],
   "source": [
    "def filter_empty_lines(df, text_column='texte_clean'):\n",
    "    filtered_df = df[~(df[text_column].isna() | (df[text_column].str.strip() == ''))].copy()\n",
    "    filtered_df = filtered_df.reset_index()  \n",
    "    print(f\"Lignes initiales : {len(df)}\")\n",
    "    print(f\"Lignes après filtrage : {len(filtered_df)}\")\n",
    "    return filtered_df\n",
    "\n",
    "df_filtered = filter_empty_lines(df, text_column='texte_clean')\n"
   ]
  },
  {
   "cell_type": "code",
   "execution_count": 14,
   "metadata": {},
   "outputs": [],
   "source": [
    "#results = batch_classify(df_filtered, text_column='texte_clean', batch_size=164)"
   ]
  },
  {
   "cell_type": "code",
   "execution_count": null,
   "metadata": {},
   "outputs": [
    {
     "name": "stderr",
     "output_type": "stream",
     "text": [
      "Map:  74%|███████▍  | 288/390 [01:27<00:31,  3.27 examples/s]"
     ]
    }
   ],
   "source": [
    "# Filtrer les articles avec un thème connu pour évaluation\n",
    "df_to_classify = df_merged[df_merged[\"theme\"].notna()].reset_index(drop=True)\n",
    "df_predictions = batch_classify(df_to_classify)\n",
    "\n",
    "# Fusionner les prédictions avec les données d'origine\n",
    "df_result = pd.concat([df_to_classify, df_predictions[[\"theme_pred\", \"theme_score\"]]], axis=1)"
   ]
  },
  {
   "cell_type": "code",
   "execution_count": null,
   "metadata": {},
   "outputs": [],
   "source": [
    "df_filtered['theme'] = results['theme'].values"
   ]
  },
  {
   "cell_type": "code",
   "execution_count": null,
   "metadata": {},
   "outputs": [],
   "source": [
    "df_filtered.tail(10)"
   ]
  },
  {
   "cell_type": "code",
   "execution_count": null,
   "metadata": {},
   "outputs": [],
   "source": [
    "df_faits = df_filtered[df_filtered['theme']=='faits divers']"
   ]
  },
  {
   "cell_type": "code",
   "execution_count": null,
   "metadata": {},
   "outputs": [],
   "source": [
    "df_faits.shape"
   ]
  },
  {
   "cell_type": "code",
   "execution_count": null,
   "metadata": {},
   "outputs": [],
   "source": [
    "import pandas as pd\n",
    "df_faits=pd.read_csv('data_faits_divers.csv')"
   ]
  },
  {
   "cell_type": "code",
   "execution_count": null,
   "metadata": {},
   "outputs": [],
   "source": [
    "import matplotlib.pyplot as plt\n",
    "articles_par_annee = df_faits['annee'].value_counts().sort_index()\n",
    "plt.figure(figsize=(10, 6))\n",
    "articles_par_annee.plot(kind='bar')\n",
    "plt.title(\"Répartition des articles par année\")\n",
    "plt.xlabel(\"Année\")\n",
    "plt.ylabel(\"Nombre d'articles\")\n",
    "plt.xticks(rotation=45)\n",
    "plt.grid(axis='y')\n",
    "plt.tight_layout()\n",
    "plt.show()"
   ]
  },
  {
   "cell_type": "code",
   "execution_count": null,
   "metadata": {},
   "outputs": [],
   "source": [
    "articles_par_annee = df_faits['annee'].value_counts(normalize=True).sort_index() * 100\n",
    "plt.figure(figsize=(10, 6))\n",
    "articles_par_annee.plot(kind='bar')\n",
    "plt.title(\"Répartition des articles par année (%)\")\n",
    "plt.xlabel(\"Année\")\n",
    "plt.ylabel(\"Pourcentage d'articles\")\n",
    "plt.xticks(rotation=45)\n",
    "plt.grid(axis='y')\n",
    "plt.tight_layout()\n",
    "plt.show()\n",
    "plt.savefig('plot.png')"
   ]
  },
  {
   "cell_type": "code",
   "execution_count": null,
   "metadata": {},
   "outputs": [],
   "source": [
    "df_faits.to_csv('data_faits_divers.csv')"
   ]
  },
  {
   "cell_type": "code",
   "execution_count": null,
   "metadata": {},
   "outputs": [],
   "source": [
    "df_filtered.to_csv('data_all.csv')"
   ]
  },
  {
   "cell_type": "code",
   "execution_count": null,
   "metadata": {},
   "outputs": [],
   "source": []
  }
 ],
 "metadata": {
  "kernelspec": {
   "display_name": "Python 3 (ipykernel)",
   "language": "python",
   "name": "python3"
  },
  "language_info": {
   "codemirror_mode": {
    "name": "ipython",
    "version": 3
   },
   "file_extension": ".py",
   "mimetype": "text/x-python",
   "name": "python",
   "nbconvert_exporter": "python",
   "pygments_lexer": "ipython3",
   "version": "3.12.9"
  }
 },
 "nbformat": 4,
 "nbformat_minor": 4
}
