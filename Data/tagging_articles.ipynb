{
 "cells": [
  {
   "cell_type": "code",
   "execution_count": 1,
   "metadata": {},
   "outputs": [
    {
     "name": "stderr",
     "output_type": "stream",
     "text": [
      "Downloading...\n",
      "From (original): https://drive.google.com/uc?id=1UR_MC8Q5K4JSRnSUX5MQ-sIGPjLLnm9f\n",
      "From (redirected): https://drive.google.com/uc?id=1UR_MC8Q5K4JSRnSUX5MQ-sIGPjLLnm9f&confirm=t&uuid=b680d6d6-68b4-4f8a-b4be-22a4b31fc76c\n",
      "To: /home/onyxia/work/PSSD/Data/data.csv\n",
      "100%|██████████| 363M/363M [00:06<00:00, 53.0MB/s] \n"
     ]
    }
   ],
   "source": [
    "%run downoald_and_cleaning_data.ipynb"
   ]
  },
  {
   "cell_type": "code",
   "execution_count": 2,
   "metadata": {},
   "outputs": [],
   "source": [
    "df = pd.read_csv(\"data_clean.csv\")\n"
   ]
  },
  {
   "cell_type": "code",
   "execution_count": 3,
   "metadata": {},
   "outputs": [],
   "source": [
    "df.dropna(subset=['texte'], inplace=True)"
   ]
  },
  {
   "cell_type": "code",
   "execution_count": 4,
   "metadata": {},
   "outputs": [],
   "source": [
    "df['texte'] = df['texte'].str.lower()"
   ]
  },
  {
   "cell_type": "code",
   "execution_count": 5,
   "metadata": {},
   "outputs": [
    {
     "name": "stderr",
     "output_type": "stream",
     "text": [
      "100%|██████████| 11970/11970 [00:02<00:00, 4264.51it/s]\n",
      "100%|██████████| 11970/11970 [00:00<00:00, 154817.18it/s]\n"
     ]
    }
   ],
   "source": [
    "import re\n",
    "from tqdm import tqdm\n",
    "\n",
    "tqdm.pandas()\n",
    "df['texte_clean'] = df['texte'].str.lower().progress_apply(lambda x: re.sub(r'[^\\w\\s]', '', x))\n",
    "df['titre_clean'] = df['titre'].str.lower().progress_apply(lambda x: re.sub(r'[^\\w\\s]', '', x))\n"
   ]
  },
  {
   "cell_type": "code",
   "execution_count": 9,
   "metadata": {},
   "outputs": [
    {
     "name": "stderr",
     "output_type": "stream",
     "text": [
      "Device set to use cuda:0\n"
     ]
    }
   ],
   "source": [
    "from transformers import pipeline\n",
    "from datasets import Dataset\n",
    "\n",
    "classifier = pipeline(\n",
    "    \"zero-shot-classification\",\n",
    "    model=\"mtheo/camembert-base-xnli\",\n",
    "    device=0,\n",
    "    hypothesis_template=\"Cet article parle de {}.\"\n",
    ")\n",
    "candidate_labels = [\n",
    "    \"faits divers\",\n",
    "    \"économie\",\n",
    "    \"politique\",\n",
    "    \"cinéma\",\n",
    "    \"mode\",\n",
    "    \"musique\",\n",
    "    \"sport\",\n",
    "    \"tribune\"\n",
    "]\n",
    "def batch_classify(df, text_column='texte', batch_size=96):\n",
    "    texts = df[text_column].fillna(\" \").tolist()\n",
    "    texts = [t if isinstance(t, str) and t.strip() != \"\" else \" \" for t in texts]\n",
    "    dataset = Dataset.from_dict({\"text\": texts})\n",
    "    \n",
    "   \n",
    "    def batching(batch):\n",
    "        results = classifier(\n",
    "            batch[\"text\"],\n",
    "            candidate_labels=candidate_labels,\n",
    "            batch_size=batch_size\n",
    "        )\n",
    "        batch_themes = [res[\"labels\"][0] for res in results]\n",
    "        return {\"theme\": batch_themes}\n",
    "    \n",
    "  \n",
    "    dataset = dataset.map(\n",
    "        batching,\n",
    "        batched=True,\n",
    "        batch_size=batch_size\n",
    "    )\n",
    "    \n",
    "    return dataset.to_pandas()"
   ]
  },
  {
   "cell_type": "code",
   "execution_count": 12,
   "metadata": {},
   "outputs": [
    {
     "name": "stdout",
     "output_type": "stream",
     "text": [
      "Lignes initiales : 11970\n",
      "Lignes après filtrage : 11970\n"
     ]
    }
   ],
   "source": [
    "def filter_empty_lines(df, text_column='texte_clean'):\n",
    "    filtered_df = df[~(df[text_column].isna() | (df[text_column].str.strip() == ''))].copy()\n",
    "    filtered_df = filtered_df.reset_index()  \n",
    "    print(f\"Lignes initiales : {len(df)}\")\n",
    "    print(f\"Lignes après filtrage : {len(filtered_df)}\")\n",
    "    return filtered_df\n",
    "\n",
    "df_filtered = filter_empty_lines(df, text_column='texte_clean')\n"
   ]
  },
  {
   "cell_type": "code",
   "execution_count": 14,
   "metadata": {},
   "outputs": [
    {
     "name": "stderr",
     "output_type": "stream",
     "text": [
      "Map: 100%|██████████| 11970/11970 [1:00:05<00:00,  3.32 examples/s]\n"
     ]
    }
   ],
   "source": [
    "results = batch_classify(df_filtered, text_column='texte_clean', batch_size=164)"
   ]
  },
  {
   "cell_type": "code",
   "execution_count": 15,
   "metadata": {},
   "outputs": [],
   "source": [
    "df_filtered['theme'] = results['theme'].values"
   ]
  },
  {
   "cell_type": "code",
   "execution_count": 16,
   "metadata": {},
   "outputs": [
    {
     "data": {
      "text/html": [
       "<div>\n",
       "<style scoped>\n",
       "    .dataframe tbody tr th:only-of-type {\n",
       "        vertical-align: middle;\n",
       "    }\n",
       "\n",
       "    .dataframe tbody tr th {\n",
       "        vertical-align: top;\n",
       "    }\n",
       "\n",
       "    .dataframe thead th {\n",
       "        text-align: right;\n",
       "    }\n",
       "</style>\n",
       "<table border=\"1\" class=\"dataframe\">\n",
       "  <thead>\n",
       "    <tr style=\"text-align: right;\">\n",
       "      <th></th>\n",
       "      <th>index</th>\n",
       "      <th>Unnamed: 0</th>\n",
       "      <th>identifiant</th>\n",
       "      <th>journal_clean</th>\n",
       "      <th>titre</th>\n",
       "      <th>annee</th>\n",
       "      <th>mois</th>\n",
       "      <th>jour</th>\n",
       "      <th>texte</th>\n",
       "      <th>keywords</th>\n",
       "      <th>texte_clean</th>\n",
       "      <th>titre_clean</th>\n",
       "      <th>theme</th>\n",
       "    </tr>\n",
       "  </thead>\n",
       "  <tbody>\n",
       "    <tr>\n",
       "      <th>11960</th>\n",
       "      <td>11969</td>\n",
       "      <td>82068</td>\n",
       "      <td>533587a067dfeb0b1b2b14e238ff6320f28845770f2ed0...</td>\n",
       "      <td>Le Figaro</td>\n",
       "      <td>Harvey Weinstein conduit en urgence à l’hôpita...</td>\n",
       "      <td>2024</td>\n",
       "      <td>12</td>\n",
       "      <td>2</td>\n",
       "      <td>le producteur roi déchu d’hollywood harvey wei...</td>\n",
       "      <td>weinstein, producteur, sanguins, new, tests, h...</td>\n",
       "      <td>le producteur roi déchu dhollywood harvey wein...</td>\n",
       "      <td>harvey weinstein conduit en urgence à lhôpital...</td>\n",
       "      <td>faits divers</td>\n",
       "    </tr>\n",
       "    <tr>\n",
       "      <th>11961</th>\n",
       "      <td>11970</td>\n",
       "      <td>82126</td>\n",
       "      <td>a3c235da28477a6045b1e97abd2b5491b1aa772c273ae4...</td>\n",
       "      <td>Libération</td>\n",
       "      <td>Me Too : Harvey Weinstein hospitalisé après de...</td>\n",
       "      <td>2024</td>\n",
       "      <td>12</td>\n",
       "      <td>3</td>\n",
       "      <td>le producteur roi déchu de hollywood harvey we...</td>\n",
       "      <td>weinstein, producteur, fin, prison, harvey, se...</td>\n",
       "      <td>le producteur roi déchu de hollywood harvey we...</td>\n",
       "      <td>me too  harvey weinstein hospitalisé après des...</td>\n",
       "      <td>faits divers</td>\n",
       "    </tr>\n",
       "    <tr>\n",
       "      <th>11962</th>\n",
       "      <td>11971</td>\n",
       "      <td>82129</td>\n",
       "      <td>20ae3e5ca278db0d33448092b67a7bb6e896e3e70436d8...</td>\n",
       "      <td>Le Monde</td>\n",
       "      <td>Face aux violences sexuelles, l’examen de cons...</td>\n",
       "      <td>2024</td>\n",
       "      <td>12</td>\n",
       "      <td>3</td>\n",
       "      <td>leur parole était attendue. le festival de can...</td>\n",
       "      <td>violences, cinéma, conscience, l’assemblée, in...</td>\n",
       "      <td>leur parole était attendue le festival de cann...</td>\n",
       "      <td>face aux violences sexuelles lexamen de consci...</td>\n",
       "      <td>cinéma</td>\n",
       "    </tr>\n",
       "    <tr>\n",
       "      <th>11963</th>\n",
       "      <td>11972</td>\n",
       "      <td>82137</td>\n",
       "      <td>377988b4b18f66bdf316259434127bc49e39ac016edacd...</td>\n",
       "      <td>Le Figaro</td>\n",
       "      <td>Italie: un homme condamné à la prison à vie po...</td>\n",
       "      <td>2024</td>\n",
       "      <td>12</td>\n",
       "      <td>3</td>\n",
       "      <td>la cour d'assises de venise a condamné mardi 3...</td>\n",
       "      <td>relancé, pays, venise, cour, débat, féminicide</td>\n",
       "      <td>la cour dassises de venise a condamné mardi 3 ...</td>\n",
       "      <td>italie un homme condamné à la prison à vie pou...</td>\n",
       "      <td>faits divers</td>\n",
       "    </tr>\n",
       "    <tr>\n",
       "      <th>11964</th>\n",
       "      <td>11973</td>\n",
       "      <td>82155</td>\n",
       "      <td>1a7689437dc0d5a11e37df86ddd7d9ea4c37195a7ecdbc...</td>\n",
       "      <td>Le Point</td>\n",
       "      <td>Harvey Weinstein est de nouveau hospitalisé</td>\n",
       "      <td>2024</td>\n",
       "      <td>12</td>\n",
       "      <td>4</td>\n",
       "      <td>harvey weinstein est de retour à l'hôpital. l'...</td>\n",
       "      <td>producteur, new, harvey, york, hospitalisé, hô...</td>\n",
       "      <td>harvey weinstein est de retour à lhôpital léqu...</td>\n",
       "      <td>harvey weinstein est de nouveau hospitalisé</td>\n",
       "      <td>cinéma</td>\n",
       "    </tr>\n",
       "    <tr>\n",
       "      <th>11965</th>\n",
       "      <td>11974</td>\n",
       "      <td>82156</td>\n",
       "      <td>e36f02ac7daaf39e2d3b66037ec45f1884593b1e6b73dd...</td>\n",
       "      <td>Libération</td>\n",
       "      <td>Devenir acteur</td>\n",
       "      <td>2024</td>\n",
       "      <td>12</td>\n",
       "      <td>4</td>\n",
       "      <td>et si, en chemin, l'éducation populaire avait ...</td>\n",
       "      <td>acteur, populaire, éducation</td>\n",
       "      <td>et si en chemin léducation populaire avait un ...</td>\n",
       "      <td>devenir acteur</td>\n",
       "      <td>politique</td>\n",
       "    </tr>\n",
       "    <tr>\n",
       "      <th>11966</th>\n",
       "      <td>11975</td>\n",
       "      <td>82157</td>\n",
       "      <td>e021e6c61999c0fb494e2a49ed9614758d1e8318230a25...</td>\n",
       "      <td>Le Point</td>\n",
       "      <td>Quand l'air de Bohème souffle sur le Rocher</td>\n",
       "      <td>2024</td>\n",
       "      <td>12</td>\n",
       "      <td>4</td>\n",
       "      <td>à 88 ans, charles dutoit a ralenti son activit...</td>\n",
       "      <td>air, dutoit, charles</td>\n",
       "      <td>à 88 ans charles dutoit a ralenti son activité...</td>\n",
       "      <td>quand lair de bohème souffle sur le rocher</td>\n",
       "      <td>musique</td>\n",
       "    </tr>\n",
       "    <tr>\n",
       "      <th>11967</th>\n",
       "      <td>11976</td>\n",
       "      <td>82172</td>\n",
       "      <td>ebd597bcedd9a52c354cd8337257ec2511ff3ae3b56296...</td>\n",
       "      <td>Libération</td>\n",
       "      <td>A Marseille, devenir acteur de l’éducation pop...</td>\n",
       "      <td>2024</td>\n",
       "      <td>12</td>\n",
       "      <td>4</td>\n",
       "      <td>et si, en chemin, l’éducation populaire avait ...</td>\n",
       "      <td>acteur, populaire, l’éducation</td>\n",
       "      <td>et si en chemin léducation populaire avait un ...</td>\n",
       "      <td>a marseille devenir acteur de léducation popul...</td>\n",
       "      <td>sport</td>\n",
       "    </tr>\n",
       "    <tr>\n",
       "      <th>11968</th>\n",
       "      <td>11977</td>\n",
       "      <td>82173</td>\n",
       "      <td>20d7c133c259fe5e149d1cddfa8be63aa616233362596f...</td>\n",
       "      <td>Le Figaro</td>\n",
       "      <td>«Adèle Haenel et ses 12 ans étaient d’une sens...</td>\n",
       "      <td>2024</td>\n",
       "      <td>12</td>\n",
       "      <td>4</td>\n",
       "      <td>au dernier étage d’un immeuble de la rue jean-...</td>\n",
       "      <td>violences, christophe, adèle, réalisateur, d’u...</td>\n",
       "      <td>au dernier étage dun immeuble de la rue jeanpi...</td>\n",
       "      <td>adèle haenel et ses 12 ans étaient dune sensua...</td>\n",
       "      <td>faits divers</td>\n",
       "    </tr>\n",
       "    <tr>\n",
       "      <th>11969</th>\n",
       "      <td>11978</td>\n",
       "      <td>82175</td>\n",
       "      <td>4551bb033bd0882777b6f20a6c74d7cea3db52bdf498c5...</td>\n",
       "      <td>Libération</td>\n",
       "      <td>«Se libérer de Barbe-Bleue» d’Edith Lombardi :...</td>\n",
       "      <td>2024</td>\n",
       "      <td>12</td>\n",
       "      <td>4</td>\n",
       "      <td>il était une fois, en ecosse, une pauvre veuve...</td>\n",
       "      <td>lombardi, barbe-bleue, fois, sœur, vient, s’en...</td>\n",
       "      <td>il était une fois en ecosse une pauvre veuve q...</td>\n",
       "      <td>se libérer de barbebleue dedith lombardi  sœur...</td>\n",
       "      <td>faits divers</td>\n",
       "    </tr>\n",
       "  </tbody>\n",
       "</table>\n",
       "</div>"
      ],
      "text/plain": [
       "       index  Unnamed: 0                                        identifiant  \\\n",
       "11960  11969       82068  533587a067dfeb0b1b2b14e238ff6320f28845770f2ed0...   \n",
       "11961  11970       82126  a3c235da28477a6045b1e97abd2b5491b1aa772c273ae4...   \n",
       "11962  11971       82129  20ae3e5ca278db0d33448092b67a7bb6e896e3e70436d8...   \n",
       "11963  11972       82137  377988b4b18f66bdf316259434127bc49e39ac016edacd...   \n",
       "11964  11973       82155  1a7689437dc0d5a11e37df86ddd7d9ea4c37195a7ecdbc...   \n",
       "11965  11974       82156  e36f02ac7daaf39e2d3b66037ec45f1884593b1e6b73dd...   \n",
       "11966  11975       82157  e021e6c61999c0fb494e2a49ed9614758d1e8318230a25...   \n",
       "11967  11976       82172  ebd597bcedd9a52c354cd8337257ec2511ff3ae3b56296...   \n",
       "11968  11977       82173  20d7c133c259fe5e149d1cddfa8be63aa616233362596f...   \n",
       "11969  11978       82175  4551bb033bd0882777b6f20a6c74d7cea3db52bdf498c5...   \n",
       "\n",
       "      journal_clean                                              titre  annee  \\\n",
       "11960     Le Figaro  Harvey Weinstein conduit en urgence à l’hôpita...   2024   \n",
       "11961    Libération  Me Too : Harvey Weinstein hospitalisé après de...   2024   \n",
       "11962      Le Monde  Face aux violences sexuelles, l’examen de cons...   2024   \n",
       "11963     Le Figaro  Italie: un homme condamné à la prison à vie po...   2024   \n",
       "11964      Le Point        Harvey Weinstein est de nouveau hospitalisé   2024   \n",
       "11965    Libération                                     Devenir acteur   2024   \n",
       "11966      Le Point        Quand l'air de Bohème souffle sur le Rocher   2024   \n",
       "11967    Libération  A Marseille, devenir acteur de l’éducation pop...   2024   \n",
       "11968     Le Figaro  «Adèle Haenel et ses 12 ans étaient d’une sens...   2024   \n",
       "11969    Libération  «Se libérer de Barbe-Bleue» d’Edith Lombardi :...   2024   \n",
       "\n",
       "       mois  jour                                              texte  \\\n",
       "11960    12     2  le producteur roi déchu d’hollywood harvey wei...   \n",
       "11961    12     3  le producteur roi déchu de hollywood harvey we...   \n",
       "11962    12     3  leur parole était attendue. le festival de can...   \n",
       "11963    12     3  la cour d'assises de venise a condamné mardi 3...   \n",
       "11964    12     4  harvey weinstein est de retour à l'hôpital. l'...   \n",
       "11965    12     4  et si, en chemin, l'éducation populaire avait ...   \n",
       "11966    12     4  à 88 ans, charles dutoit a ralenti son activit...   \n",
       "11967    12     4  et si, en chemin, l’éducation populaire avait ...   \n",
       "11968    12     4  au dernier étage d’un immeuble de la rue jean-...   \n",
       "11969    12     4  il était une fois, en ecosse, une pauvre veuve...   \n",
       "\n",
       "                                                keywords  \\\n",
       "11960  weinstein, producteur, sanguins, new, tests, h...   \n",
       "11961  weinstein, producteur, fin, prison, harvey, se...   \n",
       "11962  violences, cinéma, conscience, l’assemblée, in...   \n",
       "11963     relancé, pays, venise, cour, débat, féminicide   \n",
       "11964  producteur, new, harvey, york, hospitalisé, hô...   \n",
       "11965                       acteur, populaire, éducation   \n",
       "11966                               air, dutoit, charles   \n",
       "11967                     acteur, populaire, l’éducation   \n",
       "11968  violences, christophe, adèle, réalisateur, d’u...   \n",
       "11969  lombardi, barbe-bleue, fois, sœur, vient, s’en...   \n",
       "\n",
       "                                             texte_clean  \\\n",
       "11960  le producteur roi déchu dhollywood harvey wein...   \n",
       "11961  le producteur roi déchu de hollywood harvey we...   \n",
       "11962  leur parole était attendue le festival de cann...   \n",
       "11963  la cour dassises de venise a condamné mardi 3 ...   \n",
       "11964  harvey weinstein est de retour à lhôpital léqu...   \n",
       "11965  et si en chemin léducation populaire avait un ...   \n",
       "11966  à 88 ans charles dutoit a ralenti son activité...   \n",
       "11967  et si en chemin léducation populaire avait un ...   \n",
       "11968  au dernier étage dun immeuble de la rue jeanpi...   \n",
       "11969  il était une fois en ecosse une pauvre veuve q...   \n",
       "\n",
       "                                             titre_clean         theme  \n",
       "11960  harvey weinstein conduit en urgence à lhôpital...  faits divers  \n",
       "11961  me too  harvey weinstein hospitalisé après des...  faits divers  \n",
       "11962  face aux violences sexuelles lexamen de consci...        cinéma  \n",
       "11963  italie un homme condamné à la prison à vie pou...  faits divers  \n",
       "11964        harvey weinstein est de nouveau hospitalisé        cinéma  \n",
       "11965                                     devenir acteur     politique  \n",
       "11966         quand lair de bohème souffle sur le rocher       musique  \n",
       "11967  a marseille devenir acteur de léducation popul...         sport  \n",
       "11968  adèle haenel et ses 12 ans étaient dune sensua...  faits divers  \n",
       "11969  se libérer de barbebleue dedith lombardi  sœur...  faits divers  "
      ]
     },
     "execution_count": 16,
     "metadata": {},
     "output_type": "execute_result"
    }
   ],
   "source": [
    "df_filtered.tail(10)"
   ]
  },
  {
   "cell_type": "code",
   "execution_count": 17,
   "metadata": {},
   "outputs": [],
   "source": [
    "df_faits = df_filtered[df_filtered['theme']=='faits divers']"
   ]
  },
  {
   "cell_type": "code",
   "execution_count": 18,
   "metadata": {},
   "outputs": [
    {
     "data": {
      "text/plain": [
       "(5676, 13)"
      ]
     },
     "execution_count": 18,
     "metadata": {},
     "output_type": "execute_result"
    }
   ],
   "source": [
    "df_faits.shape"
   ]
  },
  {
   "cell_type": "code",
   "execution_count": null,
   "metadata": {},
   "outputs": [],
   "source": [
    "import pandas as pd\n",
    "df_faits=pd.read_csv('data_faits_divers.csv')"
   ]
  },
  {
   "cell_type": "code",
   "execution_count": null,
   "metadata": {},
   "outputs": [],
   "source": [
    "import matplotlib.pyplot as plt\n",
    "articles_par_annee = df_faits['annee'].value_counts().sort_index()\n",
    "plt.figure(figsize=(10, 6))\n",
    "articles_par_annee.plot(kind='bar')\n",
    "plt.title(\"Répartition des articles par année\")\n",
    "plt.xlabel(\"Année\")\n",
    "plt.ylabel(\"Nombre d'articles\")\n",
    "plt.xticks(rotation=45)\n",
    "plt.grid(axis='y')\n",
    "plt.tight_layout()\n",
    "plt.show()"
   ]
  },
  {
   "cell_type": "code",
   "execution_count": null,
   "metadata": {},
   "outputs": [],
   "source": [
    "articles_par_annee = df_faits['annee'].value_counts(normalize=True).sort_index() * 100\n",
    "plt.figure(figsize=(10, 6))\n",
    "articles_par_annee.plot(kind='bar')\n",
    "plt.title(\"Répartition des articles par année (%)\")\n",
    "plt.xlabel(\"Année\")\n",
    "plt.ylabel(\"Pourcentage d'articles\")\n",
    "plt.xticks(rotation=45)\n",
    "plt.grid(axis='y')\n",
    "plt.tight_layout()\n",
    "plt.show()\n",
    "plt.savefig('plot.png')"
   ]
  },
  {
   "cell_type": "code",
   "execution_count": 19,
   "metadata": {},
   "outputs": [],
   "source": [
    "df_faits.to_csv('data_faits_divers.csv')"
   ]
  },
  {
   "cell_type": "code",
   "execution_count": 20,
   "metadata": {},
   "outputs": [],
   "source": [
    "df_filtered.to_csv('data_all.csv')"
   ]
  }
 ],
 "metadata": {
  "kernelspec": {
   "display_name": "Python 3 (ipykernel)",
   "language": "python",
   "name": "python3"
  },
  "language_info": {
   "codemirror_mode": {
    "name": "ipython",
    "version": 3
   },
   "file_extension": ".py",
   "mimetype": "text/x-python",
   "name": "python",
   "nbconvert_exporter": "python",
   "pygments_lexer": "ipython3",
   "version": "3.12.9"
  }
 },
 "nbformat": 4,
 "nbformat_minor": 4
}
