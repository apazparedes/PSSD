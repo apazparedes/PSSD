{
 "cells": [
  {
   "cell_type": "code",
   "execution_count": 2,
   "id": "646db0d4-9b86-4522-bd5b-9cf07d871c3e",
   "metadata": {},
   "outputs": [],
   "source": [
    "import pandas as pd"
   ]
  },
  {
   "cell_type": "code",
   "execution_count": 6,
   "id": "c1405fa4-7af7-4cc2-8728-6caa1233a966",
   "metadata": {},
   "outputs": [],
   "source": [
    "df = pd.read_csv('data_faits_divers.csv')\n",
    "df_all = pd.read_csv('Data/data_all.csv')"
   ]
  },
  {
   "cell_type": "code",
   "execution_count": 7,
   "id": "5e0bcc2a-7f5a-4a13-ab0c-e6c05fe25abc",
   "metadata": {},
   "outputs": [],
   "source": [
    "first = df.head(50)\n",
    "last = df.tail(50)\n",
    "sample = pd.concat([first, last])"
   ]
  },
  {
   "cell_type": "code",
   "execution_count": 19,
   "id": "d90fcc00-d96f-42a8-982c-8af715d0d2a7",
   "metadata": {},
   "outputs": [],
   "source": [
    "def export_annotations_format(df, output_path):\n",
    "    variables = [\n",
    "        \"article_vss\", \"sujet_victime\", \"sujet_agresseur\", \"fait_agression\",\n",
    "        \"voc_violence\", \"voc_violence_just\", \"hierar\", \"hierar_just\",\n",
    "        \"portrait_victime\", \"portrait_victime_just\", \"portrait_auteur\", \"portrait_auteur_just\",\n",
    "        \"relation\", \"relation_just\", \"meanisme_violence\", \"mecanisme_violence_just\",\n",
    "        \"stat\", \"stat_just\", \"ressource\", \"ressource_just\"\n",
    "    ]\n",
    "\n",
    "    with open(output_path, 'w', encoding='utf-8') as f:\n",
    "        for _, row in df.iterrows():\n",
    "            f.write(f\"{row['identifiant']} : \\n\\n\\n\")\n",
    "            f.write(f\"{row['titre']} : \\n\\n\\n\")\n",
    "            f.write(f\"{row['texte']} : \\n\\n\\n\")\n",
    "            for var in variables:\n",
    "                f.write(f\"{var} : \\n\\n\\n\")\n",
    "            f.write(\"\\n\\n\\n\") \n",
    "\n",
    "\n",
    "export_annotations_format(sample, \"annotations.txt\")\n"
   ]
  },
  {
   "cell_type": "code",
   "execution_count": 20,
   "id": "3ad7ac52-485f-452d-a922-6f8c14de29ec",
   "metadata": {},
   "outputs": [],
   "source": [
    "df_clean = df.drop(sample.index)"
   ]
  },
  {
   "cell_type": "code",
   "execution_count": 21,
   "id": "4de0d8fb-e97a-4f8a-86d0-58ded6b73a90",
   "metadata": {},
   "outputs": [],
   "source": [
    "yo = df_clean.sample(100)"
   ]
  },
  {
   "cell_type": "code",
   "execution_count": 22,
   "id": "a7e51b74-6897-4afb-a116-f0814086cef5",
   "metadata": {},
   "outputs": [],
   "source": [
    "def export_annotations_format(df, output_path):\n",
    "    variables = [\n",
    "        \"article_vss\", \"sujet_victime\", \"sujet_agresseur\", \"fait_agression\",\n",
    "        \"voc_violence\", \"voc_violence_just\", \"hierar\", \"hierar_just\",\n",
    "        \"portrait_victime\", \"portrait_victime_just\", \"portrait_auteur\", \"portrait_auteur_just\",\n",
    "        \"relation\", \"relation_just\", \"meanisme_violence\", \"mecanisme_violence_just\",\n",
    "        \"stat\", \"stat_just\", \"ressource\", \"ressource_just\"\n",
    "    ]\n",
    "\n",
    "    with open(output_path, 'w', encoding='utf-8') as f:\n",
    "        for _, row in df.iterrows():\n",
    "            f.write(f\"{row['identifiant']} : \\n\\n\\n\")\n",
    "            f.write(f\"{row['titre']} : \\n\\n\\n\")\n",
    "            f.write(f\"{row['texte']} : \\n\\n\\n\")\n",
    "            for var in variables:\n",
    "                f.write(f\"{var} : \\n\\n\\n\")\n",
    "            f.write(\"\\n\\n\\n\") \n",
    "\n",
    "\n",
    "export_annotations_format(yo, \"test.txt\")\n"
   ]
  },
  {
   "cell_type": "code",
   "execution_count": 15,
   "id": "70c1ee72-2808-4745-b03f-6abec00baf0a",
   "metadata": {},
   "outputs": [],
   "source": [
    "df_ter = df_clean.drop(yo.index)"
   ]
  },
  {
   "cell_type": "code",
   "execution_count": 16,
   "id": "e13c9cc3-439a-4d1d-8e55-33450e222359",
   "metadata": {},
   "outputs": [],
   "source": [
    "yoyo = df_ter.sample(50)"
   ]
  },
  {
   "cell_type": "code",
   "execution_count": 17,
   "id": "7577d3c3-96fb-4231-b2a3-00796575755b",
   "metadata": {},
   "outputs": [],
   "source": [
    "def export_annotations_format(df, output_path):\n",
    "    variables = [\n",
    "        \"article_vss\", \"sujet_victime\", \"sujet_agresseur\", \"fait_agression\",\n",
    "        \"voc_violence\", \"voc_violence_just\", \"hierar\", \"hierar_just\",\n",
    "        \"portrait_victime\", \"portrait_victime_just\", \"portrait_auteur\", \"portrait_auteur_just\",\n",
    "        \"relation\", \"relation_just\", \"meanisme_violence\", \"mecanisme_violence_just\",\n",
    "        \"stat\", \"stat_just\", \"ressource\", \"ressource_just\"\n",
    "    ]\n",
    "\n",
    "    with open(output_path, 'w', encoding='utf-8') as f:\n",
    "        for _, row in df.iterrows():\n",
    "            f.write(f\"{row['identifiant']} : \\n\\n\\n\")\n",
    "            f.write(f\"{row['titre']} : \\n\\n\\n\")\n",
    "            f.write(f\"{row['texte']} : \\n\\n\\n\")\n",
    "            for var in variables:\n",
    "                f.write(f\"{var} : \\n\\n\\n\")\n",
    "            f.write(\"\\n\\n\\n\") \n",
    "\n",
    "\n",
    "export_annotations_format(yoyo, \"annotations2.txt\")\n"
   ]
  },
  {
   "cell_type": "code",
   "execution_count": 8,
   "id": "42891144-f2d7-4090-b29b-e3d4700d599f",
   "metadata": {},
   "outputs": [],
   "source": [
    "df_clean = df_all.drop(sample.index)"
   ]
  },
  {
   "cell_type": "code",
   "execution_count": 9,
   "id": "eadcbe60-5442-46c0-8c38-75efc244bed2",
   "metadata": {},
   "outputs": [],
   "source": [
    "annotations = df_clean.sample(200)"
   ]
  },
  {
   "cell_type": "code",
   "execution_count": 12,
   "id": "56ae820a-35f1-4e0f-86d3-b991f889677d",
   "metadata": {},
   "outputs": [],
   "source": [
    "def export_annotations_format(df, output_path):\n",
    "    variables = [\n",
    "        \"theme\", \"sujet_victime\", \"sujet_agresseur\", \"fait_agression\",\n",
    "        \"voc_violence\", \"hierar\",\n",
    "        \"portrait_victime\", \"portrait_auteur\",\n",
    "        \"relation\", \"meanisme_violence\",\n",
    "        \"stat\", \"ressource\"\n",
    "    ]\n",
    "\n",
    "    with open(output_path, 'w', encoding='utf-8') as f:\n",
    "        for _, row in df.iterrows():\n",
    "            f.write(f\"{row['identifiant']} : \\n\\n\\n\")\n",
    "            f.write(f\"{row['titre']} : \\n\\n\\n\")\n",
    "            f.write(f\"{row['texte']} : \\n\\n\\n\")\n",
    "            for var in variables:\n",
    "                f.write(f\"{var} : \\n\\n\\n\")\n",
    "            f.write(\"\\n\\n\\n\") \n",
    "\n",
    "\n",
    "export_annotations_format(annotations, \"test.txt\")\n"
   ]
  }
 ],
 "metadata": {
  "kernelspec": {
   "display_name": "Python 3 (ipykernel)",
   "language": "python",
   "name": "python3"
  },
  "language_info": {
   "codemirror_mode": {
    "name": "ipython",
    "version": 3
   },
   "file_extension": ".py",
   "mimetype": "text/x-python",
   "name": "python",
   "nbconvert_exporter": "python",
   "pygments_lexer": "ipython3",
   "version": "3.12.9"
  }
 },
 "nbformat": 4,
 "nbformat_minor": 5
}
