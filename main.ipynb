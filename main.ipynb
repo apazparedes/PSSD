{
 "cells": [
  {
   "cell_type": "markdown",
   "id": "07d6cee2-e8a0-4437-a36d-11b097ad37e3",
   "metadata": {},
   "source": [
    "### I. Data"
   ]
  },
  {
   "cell_type": "code",
   "execution_count": null,
   "id": "a64beb50-0ca4-4665-a224-0348f8674652",
   "metadata": {},
   "outputs": [],
   "source": [
    "%run Data/downoald_and_cleaning_data.ipynb  "
   ]
  },
  {
   "cell_type": "markdown",
   "id": "0bbbad2b-8166-4076-9156-5f8fa239cb32",
   "metadata": {},
   "source": [
    "### II. Models"
   ]
  },
  {
   "cell_type": "code",
   "execution_count": null,
   "id": "de2f2cf2-6fa5-4cd9-b978-f7445fd48695",
   "metadata": {},
   "outputs": [],
   "source": [
    "%run Models/training_theme_classification.ipynb"
   ]
  },
  {
   "cell_type": "code",
   "execution_count": null,
   "id": "f1a65e4b-6fdf-432d-8f30-c53d803f716a",
   "metadata": {},
   "outputs": [],
   "source": [
    "%run Models/training_score.ipynb"
   ]
  },
  {
   "cell_type": "markdown",
   "id": "261579e0-dcf5-48f6-ab42-777b853a66ad",
   "metadata": {},
   "source": [
    "### III. Analyses"
   ]
  },
  {
   "cell_type": "code",
   "execution_count": null,
   "id": "315b3f97-dd81-488b-b184-6050cfcc09ad",
   "metadata": {},
   "outputs": [],
   "source": [
    "%run Analyses/pre_post_analysis.ipynb"
   ]
  },
  {
   "cell_type": "code",
   "execution_count": null,
   "id": "f6874bec-32df-4ccd-8bab-a1c2a27e2185",
   "metadata": {},
   "outputs": [],
   "source": []
  }
 ],
 "metadata": {
  "kernelspec": {
   "display_name": "Python 3 (ipykernel)",
   "language": "python",
   "name": "python3"
  },
  "language_info": {
   "codemirror_mode": {
    "name": "ipython",
    "version": 3
   },
   "file_extension": ".py",
   "mimetype": "text/x-python",
   "name": "python",
   "nbconvert_exporter": "python",
   "pygments_lexer": "ipython3",
   "version": "3.12.9"
  }
 },
 "nbformat": 4,
 "nbformat_minor": 5
}
