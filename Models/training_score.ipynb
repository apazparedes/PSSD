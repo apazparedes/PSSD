{
 "cells": [
  {
   "cell_type": "code",
   "execution_count": null,
   "id": "320cb460-b467-47d1-b9a9-e35c9fc377b1",
   "metadata": {},
   "outputs": [],
   "source": [
    "%run training_theme_classification"
   ]
  },
  {
   "cell_type": "code",
   "execution_count": null,
   "id": "4aa28df4-58a5-48d4-a2e6-6d3890fe3869",
   "metadata": {},
   "outputs": [],
   "source": [
    "import pandas as pd\n",
    "df = pd.read_csv('Data/articles_actualite.csv')"
   ]
  },
  {
   "cell_type": "code",
   "execution_count": null,
   "id": "0d07f93b-9e22-4a9b-92a7-0606dc5add78",
   "metadata": {},
   "outputs": [],
   "source": [
    "score = pd.read_csv('Annotations/scores.csv')"
   ]
  },
  {
   "cell_type": "code",
   "execution_count": null,
   "id": "504e431b-267a-4024-9d95-ecc57d8f002f",
   "metadata": {},
   "outputs": [],
   "source": [
    "df_merged = df.merge(score, on=\"identifiant\", how=\"left\")"
   ]
  },
  {
   "cell_type": "code",
   "execution_count": null,
   "id": "a5eb7aef-09de-404d-94bd-ea62e0740b3e",
   "metadata": {},
   "outputs": [],
   "source": [
    "df_merged = df_merged[~df_merged[\"score\"].isna()]"
   ]
  },
  {
   "cell_type": "code",
   "execution_count": null,
   "id": "3f0142e5-5bcc-41dc-8b9c-1285233f0eee",
   "metadata": {},
   "outputs": [],
   "source": [
    "df_merged.drop(columns = ['Unnamed: 0', 'theme'])"
   ]
  },
  {
   "cell_type": "code",
   "execution_count": null,
   "id": "275d4a8f-fb63-4110-9801-096d34cf8c4b",
   "metadata": {},
   "outputs": [],
   "source": [
    "df_merged[\"texte_total\"] = df_merged[\"titre\"].fillna(\"\") + \" \" + df_merged[\"texte\"].fillna(\"\")\n",
    "\n",
    "label_cols = [\n",
    "    \"voc_violence\", \"hierar\", \"portrait_victime\", \"portrait_auteur\",\n",
    "    \"relation\", \"meanisme_violence\", \"stat\"\n",
    "]\n",
    "\n",
    "\n",
    "df_filtered = df_merged.dropna(subset=[\"texte_total\", \"score\"] + label_cols)\n",
    "\n",
    "\n",
    "from sklearn.model_selection import train_test_split\n",
    "\n",
    "train_df, test_df = train_test_split(\n",
    "    df_filtered,\n",
    "    test_size=0.2,\n",
    "    random_state=42\n",
    ")\n",
    "\n",
    "train_df = train_df.reset_index(drop=True)\n",
    "test_df = test_df.reset_index(drop=True)\n"
   ]
  },
  {
   "cell_type": "code",
   "execution_count": null,
   "id": "2b7c144b-1b31-4174-817b-c2e5e2525792",
   "metadata": {},
   "outputs": [],
   "source": [
    "import torch\n",
    "import torch.nn as nn\n",
    "from transformers import CamembertModel\n",
    "\n",
    "class CamembertMultiTaskModel(nn.Module):\n",
    "    def __init__(self):\n",
    "        super().__init__()\n",
    "        self.backbone = CamembertModel.from_pretrained(\"camembert-base\")\n",
    "        self.dropout = nn.Dropout(0.3)\n",
    "        self.hidden_size = self.backbone.config.hidden_size  # 768\n",
    "        self.regressor = nn.Linear(self.hidden_size, 1)\n",
    "        self.classifier = nn.Linear(self.hidden_size, 7)  # 7 variables à classer\n",
    "\n",
    "    def forward(self, input_ids, attention_mask):\n",
    "        outputs = self.backbone(input_ids=input_ids, attention_mask=attention_mask)\n",
    "        cls_embedding = self.dropout(outputs.last_hidden_state[:, 0, :])\n",
    "\n",
    "        score = self.regressor(cls_embedding).squeeze(1)\n",
    "        class_logits = self.classifier(cls_embedding)  # shape: [batch, 7]\n",
    "\n",
    "        return score, class_logits\n"
   ]
  },
  {
   "cell_type": "code",
   "execution_count": null,
   "id": "77a53aab-4491-4ceb-b43e-501a20256205",
   "metadata": {},
   "outputs": [],
   "source": [
    "from torch.utils.data import Dataset\n",
    "\n",
    "class MultiTaskDataset(Dataset):\n",
    "    def __init__(self, df, tokenizer, max_length=256):\n",
    "        self.df = df.reset_index(drop=True)\n",
    "        self.tokenizer = tokenizer\n",
    "        self.max_length = max_length\n",
    "\n",
    "    def __len__(self):\n",
    "        return len(self.df)\n",
    "\n",
    "    def __getitem__(self, idx):\n",
    "        text = str(self.df.iloc[idx][\"texte_total\"])\n",
    "        inputs = self.tokenizer(\n",
    "            text,\n",
    "            padding=\"max_length\",\n",
    "            truncation=True,\n",
    "            max_length=self.max_length,\n",
    "            return_tensors=\"pt\"\n",
    "        )\n",
    "\n",
    "        item = {\n",
    "            \"input_ids\": inputs[\"input_ids\"].squeeze(0),\n",
    "            \"attention_mask\": inputs[\"attention_mask\"].squeeze(0),\n",
    "            \"score\": torch.tensor(self.df.iloc[idx][\"score\"], dtype=torch.float),\n",
    "            \"class_labels\": torch.tensor(\n",
    "                self.df.iloc[idx][label_cols].values.astype(float),\n",
    "                dtype=torch.float  # ou torch.long si tu veux une classification avec CrossEntropy\n",
    "            )\n",
    "        }\n",
    "\n",
    "        return item\n"
   ]
  },
  {
   "cell_type": "code",
   "execution_count": null,
   "id": "466f390b-a118-4eb7-bf2e-b1929d23cc5f",
   "metadata": {},
   "outputs": [],
   "source": [
    "from transformers import CamembertTokenizer\n",
    "from torch.utils.data import DataLoader\n",
    "\n",
    "tokenizer = CamembertTokenizer.from_pretrained(\"camembert-base\")\n",
    "train_dataset = MultiTaskDataset(train_df, tokenizer)\n",
    "test_dataset = MultiTaskDataset(test_df, tokenizer)\n",
    "train_loader = DataLoader(train_dataset, batch_size=16, shuffle=True)\n",
    "test_loader = DataLoader(test_dataset, batch_size=16, shuffle=False)"
   ]
  },
  {
   "cell_type": "code",
   "execution_count": null,
   "id": "b0cb6707-5e6e-4074-b671-3a54ce511499",
   "metadata": {},
   "outputs": [],
   "source": [
    "from tqdm import tqdm\n",
    "model = CamembertMultiTaskModel().to(device)\n",
    "optimizer = torch.optim.Adam(model.parameters(), lr=1e-5)\n",
    "\n",
    "loss_reg = nn.MSELoss()\n",
    "loss_cls = nn.MSELoss() \n",
    "num_epochs = 30\n",
    "\n",
    "for epoch in tqdm(range(num_epochs)):\n",
    "    model.train()\n",
    "    total_loss = 0\n",
    "\n",
    "    for batch in train_loader:\n",
    "        input_ids = batch['input_ids'].to(device)\n",
    "        attention_mask = batch['attention_mask'].to(device)\n",
    "        labels_score = batch['score'].to(device)\n",
    "        labels_cls = batch['class_labels'].to(device)\n",
    "\n",
    "        pred_score, pred_cls = model(input_ids, attention_mask)\n",
    "\n",
    "        loss1 = loss_reg(pred_score, labels_score)\n",
    "        loss2 = loss_cls(pred_cls, labels_cls)\n",
    "\n",
    "        loss = loss1 + loss2\n",
    "\n",
    "        optimizer.zero_grad()\n",
    "        loss.backward()\n",
    "        optimizer.step()\n",
    "\n",
    "        total_loss += loss.item()\n"
   ]
  },
  {
   "cell_type": "code",
   "execution_count": null,
   "id": "a6acac4c-2c84-4c0e-bf40-ded8863212c1",
   "metadata": {},
   "outputs": [],
   "source": [
    "from sklearn.metrics import mean_squared_error, r2_score\n",
    "\n",
    "model.eval()\n",
    "all_scores = []\n",
    "all_preds = []\n",
    "all_true = []\n",
    "\n",
    "with torch.no_grad():\n",
    "    for batch in test_loader:\n",
    "        input_ids = batch['input_ids'].to(device)\n",
    "        attention_mask = batch['attention_mask'].to(device)\n",
    "        labels_score = batch['score'].to(device)\n",
    "        labels_class = batch['class_labels'].to(device)\n",
    "\n",
    "        pred_score, pred_class = model(input_ids, attention_mask)\n",
    "\n",
    "        all_scores.extend(pred_score.cpu().numpy())\n",
    "        all_preds.extend(pred_class.cpu().numpy())\n",
    "        all_true.extend(labels_class.cpu().numpy())\n",
    "        \n",
    "\n",
    "mse = mean_squared_error(test_df[\"score\"], all_scores)\n",
    "r2 = r2_score(test_df[\"score\"], all_scores)\n",
    "print(f\"Test — MSE: {mse:.4f} | R²: {r2:.4f}\")\n"
   ]
  },
  {
   "cell_type": "code",
   "execution_count": null,
   "id": "a505524b-16ef-41b5-93c1-96f61dfcc9a2",
   "metadata": {},
   "outputs": [],
   "source": [
    "from sklearn.metrics import classification_report\n",
    "import numpy as np\n",
    "\n",
    "y_pred = np.round(np.array(all_preds))  \n",
    "y_true = np.array(all_true)\n",
    "\n",
    "for i, col in enumerate(label_cols):\n",
    "    print(f\"\\n--- {col} ---\")\n",
    "    print(classification_report(y_true[:, i], y_pred[:, i], digits=3, zero_division=0))\n"
   ]
  },
  {
   "cell_type": "code",
   "execution_count": null,
   "id": "b3102c74-539d-47f4-b547-aa99c2ded385",
   "metadata": {},
   "outputs": [],
   "source": [
    "df_all = pd.read_csv(\"Data/articles_actualite.csv\")\n",
    "df_merged = df.merge(score, on=\"identifiant\", how=\"left\")\n",
    "df_merged[\"texte_total\"] = df_merged[\"titre\"].fillna(\"\") + \" \" + df_merged[\"texte\"].fillna(\"\")"
   ]
  },
  {
   "cell_type": "code",
   "execution_count": null,
   "id": "f7459f6d-d2d5-4a9f-bbab-a60e84a09289",
   "metadata": {},
   "outputs": [],
   "source": [
    "df_annotated = df_merged[df_merged[\"score\"].notna()].copy()\n",
    "df_to_predict = df_merged[df_merged[\"score\"].isna() & df_merged[\"texte_total\"].notna()].copy()\n",
    "df_to_predict = df_to_predict.reset_index()"
   ]
  },
  {
   "cell_type": "code",
   "execution_count": null,
   "id": "2c27fd77-fe76-41df-8417-28f0ee15e404",
   "metadata": {},
   "outputs": [],
   "source": [
    "predict_dataset = MultiTaskDataset(df_to_predict, tokenizer)\n",
    "predict_loader = DataLoader(predict_dataset, batch_size=16, shuffle=False)\n",
    "\n",
    "model.eval()\n",
    "pred_scores = []\n",
    "pred_labels = []\n",
    "\n",
    "with torch.no_grad():\n",
    "    for batch in tqdm(predict_loader):\n",
    "        input_ids = batch[\"input_ids\"].to(device)\n",
    "        attention_mask = batch[\"attention_mask\"].to(device)\n",
    "\n",
    "        score, labels = model(input_ids, attention_mask)\n",
    "        pred_scores.extend(score.cpu().numpy())\n",
    "        pred_labels.extend(np.round(labels.cpu().numpy()))\n"
   ]
  },
  {
   "cell_type": "code",
   "execution_count": null,
   "id": "7f760763-4d77-4814-895a-740a3ac1384f",
   "metadata": {},
   "outputs": [],
   "source": [
    "original_idx = df_to_predict[\"index\"]\n",
    "for i, idx in tqdm(enumerate(original_idx)):\n",
    "    if pd.isna(df_merged.loc[idx, \"score\"]):\n",
    "        df_merged.loc[idx, \"score_pred\"] = pred_scores[i]\n",
    "for i, col in tqdm(enumerate(label_cols)):\n",
    "    for j, idx in tqdm(enumerate(original_idx)):\n",
    "        if pd.isna(df_merged.loc[idx, col]):\n",
    "            df_merged.loc[idx, col + \"_pred\"] = pred_labels[j][i]\n"
   ]
  },
  {
   "cell_type": "code",
   "execution_count": null,
   "id": "2d9bad50-be9f-4440-bdbf-f36e3cd52fa1",
   "metadata": {},
   "outputs": [],
   "source": [
    "df_merged[\"score_final\"] = df_merged[\"score\"].fillna(df_merged[\"score_pred\"])\n",
    "for col in label_cols:\n",
    "    df_merged[col + \"_final\"] = df_merged[col].fillna(df_merged[col + \"_pred\"])"
   ]
  },
  {
   "cell_type": "code",
   "execution_count": null,
   "id": "f64a1ab2-4ff2-4005-b156-043da6f95e2e",
   "metadata": {},
   "outputs": [],
   "source": [
    "final_cols = [\n",
    "    \"identifiant\", \"journal_clean\", \"titre\", \"annee\", \"mois\", \"jour\", \"texte_total\",\n",
    "    \"score_final\"\n",
    "] + [col + \"_final\" for col in label_cols]\n",
    "df_final = df_merged[final_cols].copy()\n"
   ]
  },
  {
   "cell_type": "code",
   "execution_count": null,
   "id": "11060c52-3c69-4c9a-bdd0-08b7aa59b5d0",
   "metadata": {
    "scrolled": true
   },
   "outputs": [],
   "source": [
    "import matplotlib.pyplot as plt\n",
    "import seaborn as sns\n",
    "\n",
    "df_final[\"mean_variables\"] = df_final[[col + \"_final\" for col in label_cols]].mean(axis=1)\n",
    "\n",
    "plt.figure(figsize=(6, 6))\n",
    "sns.scatterplot(data=df_final, x=\"mean_variables\", y=\"score_final\", alpha=0.6)\n",
    "plt.plot([-1, 1], [-1, 1], 'r--')  \n",
    "plt.xlabel(\"Moyenne des 7 variables finales\")\n",
    "plt.ylabel(\"Score final\")\n",
    "plt.title(\"Score vs Moyenne des variables finales\")\n",
    "plt.grid(True)\n",
    "plt.savefig(\"score_vs_moyenne_variables.png\", dpi=300, bbox_inches=\"tight\")\n",
    "plt.show()"
   ]
  },
  {
   "cell_type": "code",
   "execution_count": 65,
   "id": "6b9a4941-24d9-41e1-8f53-7b9027debe2b",
   "metadata": {},
   "outputs": [],
   "source": [
    "df_final.to_csv('Data/articles_with_scores.csv')"
   ]
  }
 ],
 "metadata": {
  "kernelspec": {
   "display_name": "Python 3 (ipykernel)",
   "language": "python",
   "name": "python3"
  },
  "language_info": {
   "codemirror_mode": {
    "name": "ipython",
    "version": 3
   },
   "file_extension": ".py",
   "mimetype": "text/x-python",
   "name": "python",
   "nbconvert_exporter": "python",
   "pygments_lexer": "ipython3",
   "version": "3.12.9"
  }
 },
 "nbformat": 4,
 "nbformat_minor": 5
}
