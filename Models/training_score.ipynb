{
 "cells": [
  {
   "cell_type": "code",
   "execution_count": 1,
   "id": "320cb460-b467-47d1-b9a9-e35c9fc377b1",
   "metadata": {
    "scrolled": true
   },
   "outputs": [
    {
     "name": "stderr",
     "output_type": "stream",
     "text": [
      "Downloading...\n",
      "From (original): https://drive.google.com/uc?id=1UR_MC8Q5K4JSRnSUX5MQ-sIGPjLLnm9f\n",
      "From (redirected): https://drive.google.com/uc?id=1UR_MC8Q5K4JSRnSUX5MQ-sIGPjLLnm9f&confirm=t&uuid=d4632c07-0be8-45c7-bf63-4062b4fc0588\n",
      "To: /home/onyxia/work/media_sexism_violence_treatment/data.csv\n",
      "100%|██████████| 363M/363M [00:06<00:00, 60.0MB/s] \n"
     ]
    },
    {
     "name": "stdout",
     "output_type": "stream",
     "text": [
      "Using device: cuda\n"
     ]
    },
    {
     "name": "stderr",
     "output_type": "stream",
     "text": [
      "/usr/local/lib/python3.12/site-packages/tqdm/auto.py:21: TqdmWarning: IProgress not found. Please update jupyter and ipywidgets. See https://ipywidgets.readthedocs.io/en/stable/user_install.html\n",
      "  from .autonotebook import tqdm as notebook_tqdm\n",
      "433it [00:21, 19.71it/s]\n"
     ]
    },
    {
     "name": "stdout",
     "output_type": "stream",
     "text": [
      "Classes conservées : ['actualité', 'analyse', 'culture', 'politique']\n",
      "Nombre de classes : 4\n",
      "Valeurs des labels dans le jeu de test : {0, 1, 2, 3}\n"
     ]
    },
    {
     "name": "stderr",
     "output_type": "stream",
     "text": [
      "  4%|▍         | 1/25 [00:11<04:30, 11.27s/it]"
     ]
    },
    {
     "name": "stdout",
     "output_type": "stream",
     "text": [
      "Epoch 1/25 — Loss: 1.3868 | Accuracy: 0.2989 | F1-macro: 0.1150\n"
     ]
    },
    {
     "name": "stderr",
     "output_type": "stream",
     "text": [
      "  8%|▊         | 2/25 [00:22<04:17, 11.21s/it]"
     ]
    },
    {
     "name": "stdout",
     "output_type": "stream",
     "text": [
      "Epoch 2/25 — Loss: 1.3853 | Accuracy: 0.2989 | F1-macro: 0.1150\n"
     ]
    },
    {
     "name": "stderr",
     "output_type": "stream",
     "text": [
      " 12%|█▏        | 3/25 [00:33<04:07, 11.24s/it]"
     ]
    },
    {
     "name": "stdout",
     "output_type": "stream",
     "text": [
      "Epoch 3/25 — Loss: 1.3835 | Accuracy: 0.2989 | F1-macro: 0.1150\n"
     ]
    },
    {
     "name": "stderr",
     "output_type": "stream",
     "text": [
      " 16%|█▌        | 4/25 [00:44<03:55, 11.22s/it]"
     ]
    },
    {
     "name": "stdout",
     "output_type": "stream",
     "text": [
      "Epoch 4/25 — Loss: 1.3816 | Accuracy: 0.2989 | F1-macro: 0.1150\n"
     ]
    },
    {
     "name": "stderr",
     "output_type": "stream",
     "text": [
      " 20%|██        | 5/25 [00:56<03:44, 11.20s/it]"
     ]
    },
    {
     "name": "stdout",
     "output_type": "stream",
     "text": [
      "Epoch 5/25 — Loss: 1.3760 | Accuracy: 0.2989 | F1-macro: 0.1150\n"
     ]
    },
    {
     "name": "stderr",
     "output_type": "stream",
     "text": [
      " 24%|██▍       | 6/25 [01:07<03:33, 11.25s/it]"
     ]
    },
    {
     "name": "stdout",
     "output_type": "stream",
     "text": [
      "Epoch 6/25 — Loss: 1.3707 | Accuracy: 0.3908 | F1-macro: 0.2558\n"
     ]
    },
    {
     "name": "stderr",
     "output_type": "stream",
     "text": [
      " 28%|██▊       | 7/25 [01:18<03:22, 11.23s/it]"
     ]
    },
    {
     "name": "stdout",
     "output_type": "stream",
     "text": [
      "Epoch 7/25 — Loss: 1.3599 | Accuracy: 0.5517 | F1-macro: 0.5216\n"
     ]
    },
    {
     "name": "stderr",
     "output_type": "stream",
     "text": [
      " 32%|███▏      | 8/25 [01:30<03:12, 11.33s/it]"
     ]
    },
    {
     "name": "stdout",
     "output_type": "stream",
     "text": [
      "Epoch 8/25 — Loss: 1.3435 | Accuracy: 0.5172 | F1-macro: 0.4355\n"
     ]
    },
    {
     "name": "stderr",
     "output_type": "stream",
     "text": [
      " 36%|███▌      | 9/25 [01:41<03:02, 11.40s/it]"
     ]
    },
    {
     "name": "stdout",
     "output_type": "stream",
     "text": [
      "Epoch 9/25 — Loss: 1.3195 | Accuracy: 0.5747 | F1-macro: 0.5211\n"
     ]
    },
    {
     "name": "stderr",
     "output_type": "stream",
     "text": [
      " 40%|████      | 10/25 [01:52<02:49, 11.31s/it]"
     ]
    },
    {
     "name": "stdout",
     "output_type": "stream",
     "text": [
      "Epoch 10/25 — Loss: 1.2665 | Accuracy: 0.5172 | F1-macro: 0.4798\n"
     ]
    },
    {
     "name": "stderr",
     "output_type": "stream",
     "text": [
      " 44%|████▍     | 11/25 [02:03<02:37, 11.25s/it]"
     ]
    },
    {
     "name": "stdout",
     "output_type": "stream",
     "text": [
      "Epoch 11/25 — Loss: 1.1832 | Accuracy: 0.4598 | F1-macro: 0.4006\n"
     ]
    },
    {
     "name": "stderr",
     "output_type": "stream",
     "text": [
      " 48%|████▊     | 12/25 [02:15<02:26, 11.25s/it]"
     ]
    },
    {
     "name": "stdout",
     "output_type": "stream",
     "text": [
      "Epoch 12/25 — Loss: 1.1153 | Accuracy: 0.4483 | F1-macro: 0.4107\n"
     ]
    },
    {
     "name": "stderr",
     "output_type": "stream",
     "text": [
      " 52%|█████▏    | 13/25 [02:26<02:14, 11.24s/it]"
     ]
    },
    {
     "name": "stdout",
     "output_type": "stream",
     "text": [
      "Epoch 13/25 — Loss: 1.0416 | Accuracy: 0.5057 | F1-macro: 0.4564\n"
     ]
    },
    {
     "name": "stderr",
     "output_type": "stream",
     "text": [
      " 56%|█████▌    | 14/25 [02:38<02:05, 11.39s/it]"
     ]
    },
    {
     "name": "stdout",
     "output_type": "stream",
     "text": [
      "Epoch 14/25 — Loss: 0.9579 | Accuracy: 0.5862 | F1-macro: 0.5435\n"
     ]
    },
    {
     "name": "stderr",
     "output_type": "stream",
     "text": [
      " 60%|██████    | 15/25 [02:49<01:53, 11.35s/it]"
     ]
    },
    {
     "name": "stdout",
     "output_type": "stream",
     "text": [
      "Epoch 15/25 — Loss: 0.8834 | Accuracy: 0.6092 | F1-macro: 0.5708\n"
     ]
    },
    {
     "name": "stderr",
     "output_type": "stream",
     "text": [
      " 64%|██████▍   | 16/25 [03:01<01:42, 11.44s/it]"
     ]
    },
    {
     "name": "stdout",
     "output_type": "stream",
     "text": [
      "Epoch 16/25 — Loss: 0.8315 | Accuracy: 0.6437 | F1-macro: 0.6311\n"
     ]
    },
    {
     "name": "stderr",
     "output_type": "stream",
     "text": [
      " 68%|██████▊   | 17/25 [03:12<01:30, 11.37s/it]"
     ]
    },
    {
     "name": "stdout",
     "output_type": "stream",
     "text": [
      "Epoch 17/25 — Loss: 0.7702 | Accuracy: 0.6207 | F1-macro: 0.5801\n"
     ]
    },
    {
     "name": "stderr",
     "output_type": "stream",
     "text": [
      " 72%|███████▏  | 18/25 [03:23<01:19, 11.35s/it]"
     ]
    },
    {
     "name": "stdout",
     "output_type": "stream",
     "text": [
      "Epoch 18/25 — Loss: 0.7383 | Accuracy: 0.6897 | F1-macro: 0.6713\n"
     ]
    },
    {
     "name": "stderr",
     "output_type": "stream",
     "text": [
      " 76%|███████▌  | 19/25 [03:34<01:07, 11.32s/it]"
     ]
    },
    {
     "name": "stdout",
     "output_type": "stream",
     "text": [
      "Epoch 19/25 — Loss: 0.6962 | Accuracy: 0.6667 | F1-macro: 0.6351\n"
     ]
    },
    {
     "name": "stderr",
     "output_type": "stream",
     "text": [
      " 80%|████████  | 20/25 [03:45<00:56, 11.28s/it]"
     ]
    },
    {
     "name": "stdout",
     "output_type": "stream",
     "text": [
      "Epoch 20/25 — Loss: 0.6608 | Accuracy: 0.6897 | F1-macro: 0.6587\n"
     ]
    },
    {
     "name": "stderr",
     "output_type": "stream",
     "text": [
      " 84%|████████▍ | 21/25 [03:57<00:45, 11.29s/it]"
     ]
    },
    {
     "name": "stdout",
     "output_type": "stream",
     "text": [
      "Epoch 21/25 — Loss: 0.6195 | Accuracy: 0.7241 | F1-macro: 0.7006\n"
     ]
    },
    {
     "name": "stderr",
     "output_type": "stream",
     "text": [
      " 88%|████████▊ | 22/25 [04:08<00:34, 11.37s/it]"
     ]
    },
    {
     "name": "stdout",
     "output_type": "stream",
     "text": [
      "Epoch 22/25 — Loss: 0.6364 | Accuracy: 0.6897 | F1-macro: 0.6482\n"
     ]
    },
    {
     "name": "stderr",
     "output_type": "stream",
     "text": [
      " 92%|█████████▏| 23/25 [04:20<00:22, 11.34s/it]"
     ]
    },
    {
     "name": "stdout",
     "output_type": "stream",
     "text": [
      "Epoch 23/25 — Loss: 0.5688 | Accuracy: 0.7356 | F1-macro: 0.7112\n"
     ]
    },
    {
     "name": "stderr",
     "output_type": "stream",
     "text": [
      " 96%|█████████▌| 24/25 [04:31<00:11, 11.35s/it]"
     ]
    },
    {
     "name": "stdout",
     "output_type": "stream",
     "text": [
      "Epoch 24/25 — Loss: 0.5961 | Accuracy: 0.6782 | F1-macro: 0.6329\n"
     ]
    },
    {
     "name": "stderr",
     "output_type": "stream",
     "text": [
      "100%|██████████| 25/25 [04:42<00:00, 11.30s/it]"
     ]
    },
    {
     "name": "stdout",
     "output_type": "stream",
     "text": [
      "Epoch 25/25 — Loss: 0.5111 | Accuracy: 0.7586 | F1-macro: 0.7354\n"
     ]
    },
    {
     "name": "stderr",
     "output_type": "stream",
     "text": [
      "\n"
     ]
    },
    {
     "name": "stdout",
     "output_type": "stream",
     "text": [
      "              precision    recall  f1-score   support\n",
      "\n",
      "   actualité       0.69      0.87      0.77        23\n",
      "     analyse       0.58      0.64      0.61        11\n",
      "     culture       0.79      0.88      0.84        26\n",
      "   politique       0.94      0.59      0.73        27\n",
      "\n",
      "    accuracy                           0.76        87\n",
      "   macro avg       0.75      0.75      0.74        87\n",
      "weighted avg       0.79      0.76      0.76        87\n",
      "\n"
     ]
    },
    {
     "name": "stderr",
     "output_type": "stream",
     "text": [
      "100%|██████████| 367/367 [05:53<00:00,  1.04it/s]\n"
     ]
    }
   ],
   "source": [
    "%run training_theme_classification.ipynb"
   ]
  },
  {
   "cell_type": "code",
   "execution_count": 2,
   "id": "4aa28df4-58a5-48d4-a2e6-6d3890fe3869",
   "metadata": {},
   "outputs": [],
   "source": [
    "import pandas as pd\n",
    "df = pd.read_csv('Data/articles_actualite.csv')"
   ]
  },
  {
   "cell_type": "code",
   "execution_count": 3,
   "id": "0d07f93b-9e22-4a9b-92a7-0606dc5add78",
   "metadata": {},
   "outputs": [],
   "source": [
    "score = pd.read_csv('Annotations/scores.csv')"
   ]
  },
  {
   "cell_type": "code",
   "execution_count": 4,
   "id": "504e431b-267a-4024-9d95-ecc57d8f002f",
   "metadata": {},
   "outputs": [],
   "source": [
    "df_merged = df.merge(score, on=\"identifiant\", how=\"left\")"
   ]
  },
  {
   "cell_type": "code",
   "execution_count": 5,
   "id": "a5eb7aef-09de-404d-94bd-ea62e0740b3e",
   "metadata": {},
   "outputs": [],
   "source": [
    "df_merged = df_merged[~df_merged[\"score\"].isna()]"
   ]
  },
  {
   "cell_type": "code",
   "execution_count": 6,
   "id": "3f0142e5-5bcc-41dc-8b9c-1285233f0eee",
   "metadata": {},
   "outputs": [
    {
     "data": {
      "text/html": [
       "<div>\n",
       "<style scoped>\n",
       "    .dataframe tbody tr th:only-of-type {\n",
       "        vertical-align: middle;\n",
       "    }\n",
       "\n",
       "    .dataframe tbody tr th {\n",
       "        vertical-align: top;\n",
       "    }\n",
       "\n",
       "    .dataframe thead th {\n",
       "        text-align: right;\n",
       "    }\n",
       "</style>\n",
       "<table border=\"1\" class=\"dataframe\">\n",
       "  <thead>\n",
       "    <tr style=\"text-align: right;\">\n",
       "      <th></th>\n",
       "      <th>identifiant</th>\n",
       "      <th>journal_clean</th>\n",
       "      <th>titre</th>\n",
       "      <th>annee</th>\n",
       "      <th>mois</th>\n",
       "      <th>jour</th>\n",
       "      <th>texte</th>\n",
       "      <th>keywords</th>\n",
       "      <th>theme_final</th>\n",
       "      <th>score</th>\n",
       "      <th>voc_violence</th>\n",
       "      <th>hierar</th>\n",
       "      <th>portrait_victime</th>\n",
       "      <th>portrait_auteur</th>\n",
       "      <th>relation</th>\n",
       "      <th>meanisme_violence</th>\n",
       "      <th>stat</th>\n",
       "    </tr>\n",
       "  </thead>\n",
       "  <tbody>\n",
       "    <tr>\n",
       "      <th>31</th>\n",
       "      <td>efee09cde26fba5704002a3180ab0bf7f2f711dbff957d...</td>\n",
       "      <td>Le Figaro</td>\n",
       "      <td>Rennes : nouveau meurtre</td>\n",
       "      <td>1998</td>\n",
       "      <td>1</td>\n",
       "      <td>19</td>\n",
       "      <td>« ici, samedi 6 heures, une femme de 38 ans as...</td>\n",
       "      <td>violence, meurtre, rennes, femme, samedi</td>\n",
       "      <td>actualité</td>\n",
       "      <td>0.000000</td>\n",
       "      <td>0.0</td>\n",
       "      <td>0.0</td>\n",
       "      <td>0.0</td>\n",
       "      <td>0.0</td>\n",
       "      <td>0.0</td>\n",
       "      <td>0.0</td>\n",
       "      <td>0.0</td>\n",
       "    </tr>\n",
       "    <tr>\n",
       "      <th>32</th>\n",
       "      <td>efee09cde26fba5704002a3180ab0bf7f2f711dbff957d...</td>\n",
       "      <td>Le Figaro</td>\n",
       "      <td>Rennes : nouveau meurtre</td>\n",
       "      <td>1998</td>\n",
       "      <td>1</td>\n",
       "      <td>19</td>\n",
       "      <td>« ici, samedi 6 heures, une femme de 38 ans as...</td>\n",
       "      <td>violence, meurtre, rennes, femme, samedi</td>\n",
       "      <td>actualité</td>\n",
       "      <td>0.000000</td>\n",
       "      <td>0.0</td>\n",
       "      <td>0.0</td>\n",
       "      <td>0.0</td>\n",
       "      <td>0.0</td>\n",
       "      <td>0.0</td>\n",
       "      <td>0.0</td>\n",
       "      <td>0.0</td>\n",
       "    </tr>\n",
       "    <tr>\n",
       "      <th>33</th>\n",
       "      <td>d183794139b099c8c366eb2482b740f413f22d62bb7d6d...</td>\n",
       "      <td>Le Figaro</td>\n",
       "      <td>Une femme médecin assassinée</td>\n",
       "      <td>1998</td>\n",
       "      <td>1</td>\n",
       "      <td>21</td>\n",
       "      <td>- une femme de 60 ans, médecin allergologue, a...</td>\n",
       "      <td>NaN</td>\n",
       "      <td>actualité</td>\n",
       "      <td>-0.142857</td>\n",
       "      <td>0.0</td>\n",
       "      <td>1.0</td>\n",
       "      <td>1.0</td>\n",
       "      <td>0.0</td>\n",
       "      <td>-1.0</td>\n",
       "      <td>-1.0</td>\n",
       "      <td>-1.0</td>\n",
       "    </tr>\n",
       "    <tr>\n",
       "      <th>34</th>\n",
       "      <td>d183794139b099c8c366eb2482b740f413f22d62bb7d6d...</td>\n",
       "      <td>Le Figaro</td>\n",
       "      <td>Une femme médecin assassinée</td>\n",
       "      <td>1998</td>\n",
       "      <td>1</td>\n",
       "      <td>21</td>\n",
       "      <td>- une femme de 60 ans, médecin allergologue, a...</td>\n",
       "      <td>NaN</td>\n",
       "      <td>actualité</td>\n",
       "      <td>-0.142857</td>\n",
       "      <td>0.0</td>\n",
       "      <td>1.0</td>\n",
       "      <td>1.0</td>\n",
       "      <td>0.0</td>\n",
       "      <td>-1.0</td>\n",
       "      <td>-1.0</td>\n",
       "      <td>-1.0</td>\n",
       "    </tr>\n",
       "    <tr>\n",
       "      <th>35</th>\n",
       "      <td>00627f5991ec8312f034b90a05650e755e28a6a8109170...</td>\n",
       "      <td>Le Figaro</td>\n",
       "      <td>Le fils du médecin interpellé</td>\n",
       "      <td>1998</td>\n",
       "      <td>1</td>\n",
       "      <td>22</td>\n",
       "      <td>- le fils d'une femme médecin, assassinée chez...</td>\n",
       "      <td>fils</td>\n",
       "      <td>actualité</td>\n",
       "      <td>-0.285714</td>\n",
       "      <td>0.0</td>\n",
       "      <td>-1.0</td>\n",
       "      <td>0.0</td>\n",
       "      <td>0.0</td>\n",
       "      <td>1.0</td>\n",
       "      <td>-1.0</td>\n",
       "      <td>-1.0</td>\n",
       "    </tr>\n",
       "    <tr>\n",
       "      <th>...</th>\n",
       "      <td>...</td>\n",
       "      <td>...</td>\n",
       "      <td>...</td>\n",
       "      <td>...</td>\n",
       "      <td>...</td>\n",
       "      <td>...</td>\n",
       "      <td>...</td>\n",
       "      <td>...</td>\n",
       "      <td>...</td>\n",
       "      <td>...</td>\n",
       "      <td>...</td>\n",
       "      <td>...</td>\n",
       "      <td>...</td>\n",
       "      <td>...</td>\n",
       "      <td>...</td>\n",
       "      <td>...</td>\n",
       "      <td>...</td>\n",
       "    </tr>\n",
       "    <tr>\n",
       "      <th>2916</th>\n",
       "      <td>95e73c8deb87930f7c9352e69b3da1b8f06f86cbb239fd...</td>\n",
       "      <td>Libération</td>\n",
       "      <td>Haut-Rhin : une femme tuée par son ex-compagno...</td>\n",
       "      <td>2024</td>\n",
       "      <td>5</td>\n",
       "      <td>19</td>\n",
       "      <td>une femme de 33 ans est morte à l'hôpital aprè...</td>\n",
       "      <td>police, soir, volontairement, morte, services,...</td>\n",
       "      <td>actualité</td>\n",
       "      <td>1.000000</td>\n",
       "      <td>1.0</td>\n",
       "      <td>1.0</td>\n",
       "      <td>1.0</td>\n",
       "      <td>1.0</td>\n",
       "      <td>1.0</td>\n",
       "      <td>1.0</td>\n",
       "      <td>1.0</td>\n",
       "    </tr>\n",
       "    <tr>\n",
       "      <th>2947</th>\n",
       "      <td>c5c6f772f16b66b663a17995ed189c2ff7fb9902c0df8f...</td>\n",
       "      <td>Le Monde</td>\n",
       "      <td>#metoo des armées : un sergent-chef coupable d...</td>\n",
       "      <td>2024</td>\n",
       "      <td>6</td>\n",
       "      <td>20</td>\n",
       "      <td>c’est un jugement marquant, d’une sévérité rar...</td>\n",
       "      <td>prison_avec_sursis, sergent-chef, prison, sexu...</td>\n",
       "      <td>actualité</td>\n",
       "      <td>0.857143</td>\n",
       "      <td>1.0</td>\n",
       "      <td>1.0</td>\n",
       "      <td>1.0</td>\n",
       "      <td>1.0</td>\n",
       "      <td>1.0</td>\n",
       "      <td>1.0</td>\n",
       "      <td>0.0</td>\n",
       "    </tr>\n",
       "    <tr>\n",
       "      <th>2988</th>\n",
       "      <td>cb52acd1ce6b9dc7210c42d6a7ab59ce133741137a2547...</td>\n",
       "      <td>Libération</td>\n",
       "      <td>Inde : choc et colère aprèsun nouveau féminicide</td>\n",
       "      <td>2024</td>\n",
       "      <td>8</td>\n",
       "      <td>16</td>\n",
       "      <td>des bougies, des femmes par milliers, des marc...</td>\n",
       "      <td>justice, nuit, femmes</td>\n",
       "      <td>actualité</td>\n",
       "      <td>1.000000</td>\n",
       "      <td>1.0</td>\n",
       "      <td>1.0</td>\n",
       "      <td>1.0</td>\n",
       "      <td>1.0</td>\n",
       "      <td>1.0</td>\n",
       "      <td>1.0</td>\n",
       "      <td>1.0</td>\n",
       "    </tr>\n",
       "    <tr>\n",
       "      <th>3067</th>\n",
       "      <td>b2a4e0f965f89ec54af1a183a71581de3913f47faf9299...</td>\n",
       "      <td>Le Nouvel Obs</td>\n",
       "      <td>Depardieu accusé d'agressions sexuelles : son ...</td>\n",
       "      <td>2024</td>\n",
       "      <td>10</td>\n",
       "      <td>28</td>\n",
       "      <td>l'acteur gérard depardieu , visé par de nombre...</td>\n",
       "      <td>accusé, agressions, procès, renvoi, acteur, se...</td>\n",
       "      <td>actualité</td>\n",
       "      <td>0.857143</td>\n",
       "      <td>1.0</td>\n",
       "      <td>1.0</td>\n",
       "      <td>1.0</td>\n",
       "      <td>1.0</td>\n",
       "      <td>0.0</td>\n",
       "      <td>1.0</td>\n",
       "      <td>1.0</td>\n",
       "    </tr>\n",
       "    <tr>\n",
       "      <th>3087</th>\n",
       "      <td>01d9b67bc79701339320e4ea9d7ab8b8242d35cff49138...</td>\n",
       "      <td>Le Figaro</td>\n",
       "      <td>Nantes : frappée par son conjoint devant leur ...</td>\n",
       "      <td>2024</td>\n",
       "      <td>11</td>\n",
       "      <td>25</td>\n",
       "      <td>un homme de 30 ans a été placé en garde à vue ...</td>\n",
       "      <td>percé, tympan, tympan_percé, nantes, femme</td>\n",
       "      <td>actualité</td>\n",
       "      <td>0.857143</td>\n",
       "      <td>1.0</td>\n",
       "      <td>1.0</td>\n",
       "      <td>1.0</td>\n",
       "      <td>0.0</td>\n",
       "      <td>1.0</td>\n",
       "      <td>1.0</td>\n",
       "      <td>1.0</td>\n",
       "    </tr>\n",
       "  </tbody>\n",
       "</table>\n",
       "<p>147 rows × 17 columns</p>\n",
       "</div>"
      ],
      "text/plain": [
       "                                            identifiant  journal_clean  \\\n",
       "31    efee09cde26fba5704002a3180ab0bf7f2f711dbff957d...      Le Figaro   \n",
       "32    efee09cde26fba5704002a3180ab0bf7f2f711dbff957d...      Le Figaro   \n",
       "33    d183794139b099c8c366eb2482b740f413f22d62bb7d6d...      Le Figaro   \n",
       "34    d183794139b099c8c366eb2482b740f413f22d62bb7d6d...      Le Figaro   \n",
       "35    00627f5991ec8312f034b90a05650e755e28a6a8109170...      Le Figaro   \n",
       "...                                                 ...            ...   \n",
       "2916  95e73c8deb87930f7c9352e69b3da1b8f06f86cbb239fd...     Libération   \n",
       "2947  c5c6f772f16b66b663a17995ed189c2ff7fb9902c0df8f...       Le Monde   \n",
       "2988  cb52acd1ce6b9dc7210c42d6a7ab59ce133741137a2547...     Libération   \n",
       "3067  b2a4e0f965f89ec54af1a183a71581de3913f47faf9299...  Le Nouvel Obs   \n",
       "3087  01d9b67bc79701339320e4ea9d7ab8b8242d35cff49138...      Le Figaro   \n",
       "\n",
       "                                                  titre  annee  mois  jour  \\\n",
       "31                             Rennes : nouveau meurtre   1998     1    19   \n",
       "32                             Rennes : nouveau meurtre   1998     1    19   \n",
       "33                         Une femme médecin assassinée   1998     1    21   \n",
       "34                         Une femme médecin assassinée   1998     1    21   \n",
       "35                        Le fils du médecin interpellé   1998     1    22   \n",
       "...                                                 ...    ...   ...   ...   \n",
       "2916  Haut-Rhin : une femme tuée par son ex-compagno...   2024     5    19   \n",
       "2947  #metoo des armées : un sergent-chef coupable d...   2024     6    20   \n",
       "2988   Inde : choc et colère aprèsun nouveau féminicide   2024     8    16   \n",
       "3067  Depardieu accusé d'agressions sexuelles : son ...   2024    10    28   \n",
       "3087  Nantes : frappée par son conjoint devant leur ...   2024    11    25   \n",
       "\n",
       "                                                  texte  \\\n",
       "31    « ici, samedi 6 heures, une femme de 38 ans as...   \n",
       "32    « ici, samedi 6 heures, une femme de 38 ans as...   \n",
       "33    - une femme de 60 ans, médecin allergologue, a...   \n",
       "34    - une femme de 60 ans, médecin allergologue, a...   \n",
       "35    - le fils d'une femme médecin, assassinée chez...   \n",
       "...                                                 ...   \n",
       "2916  une femme de 33 ans est morte à l'hôpital aprè...   \n",
       "2947  c’est un jugement marquant, d’une sévérité rar...   \n",
       "2988  des bougies, des femmes par milliers, des marc...   \n",
       "3067  l'acteur gérard depardieu , visé par de nombre...   \n",
       "3087  un homme de 30 ans a été placé en garde à vue ...   \n",
       "\n",
       "                                               keywords theme_final     score  \\\n",
       "31             violence, meurtre, rennes, femme, samedi   actualité  0.000000   \n",
       "32             violence, meurtre, rennes, femme, samedi   actualité  0.000000   \n",
       "33                                                  NaN   actualité -0.142857   \n",
       "34                                                  NaN   actualité -0.142857   \n",
       "35                                                 fils   actualité -0.285714   \n",
       "...                                                 ...         ...       ...   \n",
       "2916  police, soir, volontairement, morte, services,...   actualité  1.000000   \n",
       "2947  prison_avec_sursis, sergent-chef, prison, sexu...   actualité  0.857143   \n",
       "2988                              justice, nuit, femmes   actualité  1.000000   \n",
       "3067  accusé, agressions, procès, renvoi, acteur, se...   actualité  0.857143   \n",
       "3087         percé, tympan, tympan_percé, nantes, femme   actualité  0.857143   \n",
       "\n",
       "      voc_violence  hierar  portrait_victime  portrait_auteur  relation  \\\n",
       "31             0.0     0.0               0.0              0.0       0.0   \n",
       "32             0.0     0.0               0.0              0.0       0.0   \n",
       "33             0.0     1.0               1.0              0.0      -1.0   \n",
       "34             0.0     1.0               1.0              0.0      -1.0   \n",
       "35             0.0    -1.0               0.0              0.0       1.0   \n",
       "...            ...     ...               ...              ...       ...   \n",
       "2916           1.0     1.0               1.0              1.0       1.0   \n",
       "2947           1.0     1.0               1.0              1.0       1.0   \n",
       "2988           1.0     1.0               1.0              1.0       1.0   \n",
       "3067           1.0     1.0               1.0              1.0       0.0   \n",
       "3087           1.0     1.0               1.0              0.0       1.0   \n",
       "\n",
       "      meanisme_violence  stat  \n",
       "31                  0.0   0.0  \n",
       "32                  0.0   0.0  \n",
       "33                 -1.0  -1.0  \n",
       "34                 -1.0  -1.0  \n",
       "35                 -1.0  -1.0  \n",
       "...                 ...   ...  \n",
       "2916                1.0   1.0  \n",
       "2947                1.0   0.0  \n",
       "2988                1.0   1.0  \n",
       "3067                1.0   1.0  \n",
       "3087                1.0   1.0  \n",
       "\n",
       "[147 rows x 17 columns]"
      ]
     },
     "execution_count": 6,
     "metadata": {},
     "output_type": "execute_result"
    }
   ],
   "source": [
    "df_merged.drop(columns = ['Unnamed: 0', 'theme'])"
   ]
  },
  {
   "cell_type": "code",
   "execution_count": 7,
   "id": "275d4a8f-fb63-4110-9801-096d34cf8c4b",
   "metadata": {},
   "outputs": [],
   "source": [
    "df_merged[\"texte_total\"] = df_merged[\"titre\"].fillna(\"\") + \" \" + df_merged[\"texte\"].fillna(\"\")\n",
    "\n",
    "label_cols = [\n",
    "    \"voc_violence\", \"hierar\", \"portrait_victime\", \"portrait_auteur\",\n",
    "    \"relation\", \"meanisme_violence\", \"stat\"\n",
    "]\n",
    "\n",
    "\n",
    "df_filtered = df_merged.dropna(subset=[\"texte_total\", \"score\"] + label_cols)\n",
    "\n",
    "\n",
    "from sklearn.model_selection import train_test_split\n",
    "\n",
    "train_df, test_df = train_test_split(\n",
    "    df_filtered,\n",
    "    test_size=0.2,\n",
    "    random_state=42\n",
    ")\n",
    "\n",
    "train_df = train_df.reset_index(drop=True)\n",
    "test_df = test_df.reset_index(drop=True)\n"
   ]
  },
  {
   "cell_type": "code",
   "execution_count": 26,
   "id": "2b7c144b-1b31-4174-817b-c2e5e2525792",
   "metadata": {},
   "outputs": [],
   "source": [
    "import torch\n",
    "import torch.nn as nn\n",
    "from transformers import CamembertModel\n",
    "\n",
    "class CamembertMultiTaskModel(nn.Module):\n",
    "    def __init__(self):\n",
    "        super().__init__()\n",
    "        self.backbone = CamembertModel.from_pretrained(\"camembert-base\")\n",
    "        self.dropout = nn.Dropout(0.3)\n",
    "        self.hidden_size = self.backbone.config.hidden_size  # 768\n",
    "        self.classifier = nn.Linear(self.hidden_size, 7 * 3)  # 7 tasks × 3 classes\n",
    "\n",
    "    def forward(self, input_ids, attention_mask):\n",
    "        outputs = self.backbone(input_ids=input_ids, attention_mask=attention_mask)\n",
    "        cls_embedding = self.dropout(outputs.last_hidden_state[:, 0, :])\n",
    "        logits = self.classifier(cls_embedding)          \n",
    "        logits = logits.view(-1, 7, 3)                    \n",
    "        return logits\n",
    "\n"
   ]
  },
  {
   "cell_type": "code",
   "execution_count": 58,
   "id": "77a53aab-4491-4ceb-b43e-501a20256205",
   "metadata": {},
   "outputs": [],
   "source": [
    "from torch.utils.data import Dataset\n",
    "\n",
    "from torch.utils.data import Dataset\n",
    "import torch\n",
    "\n",
    "from torch.utils.data import Dataset\n",
    "\n",
    "class MultiTaskDataset(Dataset):\n",
    "    def __init__(self, df, tokenizer, label_cols=None, max_length=256, inference=False):\n",
    "        self.df = df.reset_index(drop=True)\n",
    "        self.tokenizer = tokenizer\n",
    "        self.label_cols = label_cols\n",
    "        self.max_length = max_length\n",
    "        self.inference = inference  # ← nouveau\n",
    "\n",
    "    def __len__(self):\n",
    "        return len(self.df)\n",
    "\n",
    "    def __getitem__(self, idx):\n",
    "        text = str(self.df.iloc[idx][\"texte_total\"])\n",
    "        inputs = self.tokenizer(\n",
    "            text,\n",
    "            padding=\"max_length\",\n",
    "            truncation=True,\n",
    "            max_length=self.max_length,\n",
    "            return_tensors=\"pt\"\n",
    "        )\n",
    "\n",
    "        item = {\n",
    "            \"input_ids\": inputs[\"input_ids\"].squeeze(0),\n",
    "            \"attention_mask\": inputs[\"attention_mask\"].squeeze(0)\n",
    "        }\n",
    "\n",
    "        # Ajout uniquement des labels en mode entraînement / évaluation\n",
    "        if not self.inference:\n",
    "            raw_labels = self.df.iloc[idx][self.label_cols].values.astype(float)\n",
    "            class_labels = (raw_labels + 1).astype(int)\n",
    "            item[\"class_labels\"] = torch.tensor(class_labels, dtype=torch.long)\n",
    "\n",
    "        return item\n",
    "\n",
    "\n"
   ]
  },
  {
   "cell_type": "code",
   "execution_count": 28,
   "id": "466f390b-a118-4eb7-bf2e-b1929d23cc5f",
   "metadata": {},
   "outputs": [],
   "source": [
    "from transformers import CamembertTokenizer\n",
    "from torch.utils.data import DataLoader\n",
    "\n",
    "label_cols = [\n",
    "    \"voc_violence\",\n",
    "    \"hierar\",\n",
    "    \"portrait_victime\",\n",
    "    \"portrait_auteur\",\n",
    "    \"relation\",\n",
    "    \"meanisme_violence\",\n",
    "    \"stat\"\n",
    "]\n",
    "\n",
    "tokenizer = CamembertTokenizer.from_pretrained(\"camembert-base\")\n",
    "tokenizer = CamembertTokenizer.from_pretrained(\"camembert-base\")\n",
    "\n",
    "train_dataset = MultiTaskDataset(train_df, tokenizer, label_cols=label_cols)\n",
    "test_dataset = MultiTaskDataset(test_df, tokenizer, label_cols=label_cols)\n",
    "\n",
    "train_loader = DataLoader(train_dataset, batch_size=16, shuffle=True)\n",
    "test_loader = DataLoader(test_dataset, batch_size=16, shuffle=False)"
   ]
  },
  {
   "cell_type": "code",
   "execution_count": 31,
   "id": "b0cb6707-5e6e-4074-b671-3a54ce511499",
   "metadata": {},
   "outputs": [
    {
     "name": "stderr",
     "output_type": "stream",
     "text": [
      "  2%|▏         | 1/45 [00:08<05:56,  8.11s/it]"
     ]
    },
    {
     "name": "stdout",
     "output_type": "stream",
     "text": [
      "Epoch 1/45 — Loss: 1.0825\n"
     ]
    },
    {
     "name": "stderr",
     "output_type": "stream",
     "text": [
      "  4%|▍         | 2/45 [00:16<05:48,  8.09s/it]"
     ]
    },
    {
     "name": "stdout",
     "output_type": "stream",
     "text": [
      "Epoch 2/45 — Loss: 1.0609\n"
     ]
    },
    {
     "name": "stderr",
     "output_type": "stream",
     "text": [
      "  7%|▋         | 3/45 [00:24<05:39,  8.09s/it]"
     ]
    },
    {
     "name": "stdout",
     "output_type": "stream",
     "text": [
      "Epoch 3/45 — Loss: 1.0415\n"
     ]
    },
    {
     "name": "stderr",
     "output_type": "stream",
     "text": [
      "  9%|▉         | 4/45 [00:32<05:33,  8.14s/it]"
     ]
    },
    {
     "name": "stdout",
     "output_type": "stream",
     "text": [
      "Epoch 4/45 — Loss: 1.0354\n"
     ]
    },
    {
     "name": "stderr",
     "output_type": "stream",
     "text": [
      " 11%|█         | 5/45 [00:40<05:25,  8.14s/it]"
     ]
    },
    {
     "name": "stdout",
     "output_type": "stream",
     "text": [
      "Epoch 5/45 — Loss: 1.0279\n"
     ]
    },
    {
     "name": "stderr",
     "output_type": "stream",
     "text": [
      " 13%|█▎        | 6/45 [00:48<05:17,  8.14s/it]"
     ]
    },
    {
     "name": "stdout",
     "output_type": "stream",
     "text": [
      "Epoch 6/45 — Loss: 1.0138\n"
     ]
    },
    {
     "name": "stderr",
     "output_type": "stream",
     "text": [
      " 16%|█▌        | 7/45 [00:56<05:09,  8.15s/it]"
     ]
    },
    {
     "name": "stdout",
     "output_type": "stream",
     "text": [
      "Epoch 7/45 — Loss: 1.0000\n"
     ]
    },
    {
     "name": "stderr",
     "output_type": "stream",
     "text": [
      " 18%|█▊        | 8/45 [01:05<05:02,  8.17s/it]"
     ]
    },
    {
     "name": "stdout",
     "output_type": "stream",
     "text": [
      "Epoch 8/45 — Loss: 1.0126\n"
     ]
    },
    {
     "name": "stderr",
     "output_type": "stream",
     "text": [
      " 20%|██        | 9/45 [01:13<04:54,  8.18s/it]"
     ]
    },
    {
     "name": "stdout",
     "output_type": "stream",
     "text": [
      "Epoch 9/45 — Loss: 0.9929\n"
     ]
    },
    {
     "name": "stderr",
     "output_type": "stream",
     "text": [
      " 22%|██▏       | 10/45 [01:21<04:46,  8.19s/it]"
     ]
    },
    {
     "name": "stdout",
     "output_type": "stream",
     "text": [
      "Epoch 10/45 — Loss: 0.9860\n"
     ]
    },
    {
     "name": "stderr",
     "output_type": "stream",
     "text": [
      " 24%|██▍       | 11/45 [01:29<04:40,  8.24s/it]"
     ]
    },
    {
     "name": "stdout",
     "output_type": "stream",
     "text": [
      "Epoch 11/45 — Loss: 0.9757\n"
     ]
    },
    {
     "name": "stderr",
     "output_type": "stream",
     "text": [
      " 27%|██▋       | 12/45 [01:38<04:32,  8.24s/it]"
     ]
    },
    {
     "name": "stdout",
     "output_type": "stream",
     "text": [
      "Epoch 12/45 — Loss: 0.9801\n"
     ]
    },
    {
     "name": "stderr",
     "output_type": "stream",
     "text": [
      " 29%|██▉       | 13/45 [01:46<04:23,  8.24s/it]"
     ]
    },
    {
     "name": "stdout",
     "output_type": "stream",
     "text": [
      "Epoch 13/45 — Loss: 0.9780\n"
     ]
    },
    {
     "name": "stderr",
     "output_type": "stream",
     "text": [
      " 31%|███       | 14/45 [01:54<04:16,  8.26s/it]"
     ]
    },
    {
     "name": "stdout",
     "output_type": "stream",
     "text": [
      "Epoch 14/45 — Loss: 0.9625\n"
     ]
    },
    {
     "name": "stderr",
     "output_type": "stream",
     "text": [
      " 33%|███▎      | 15/45 [02:02<04:07,  8.26s/it]"
     ]
    },
    {
     "name": "stdout",
     "output_type": "stream",
     "text": [
      "Epoch 15/45 — Loss: 0.9475\n"
     ]
    },
    {
     "name": "stderr",
     "output_type": "stream",
     "text": [
      " 36%|███▌      | 16/45 [02:11<03:59,  8.28s/it]"
     ]
    },
    {
     "name": "stdout",
     "output_type": "stream",
     "text": [
      "Epoch 16/45 — Loss: 0.9394\n"
     ]
    },
    {
     "name": "stderr",
     "output_type": "stream",
     "text": [
      " 38%|███▊      | 17/45 [02:19<03:51,  8.25s/it]"
     ]
    },
    {
     "name": "stdout",
     "output_type": "stream",
     "text": [
      "Epoch 17/45 — Loss: 0.9443\n"
     ]
    },
    {
     "name": "stderr",
     "output_type": "stream",
     "text": [
      " 40%|████      | 18/45 [02:27<03:42,  8.23s/it]"
     ]
    },
    {
     "name": "stdout",
     "output_type": "stream",
     "text": [
      "Epoch 18/45 — Loss: 0.9279\n"
     ]
    },
    {
     "name": "stderr",
     "output_type": "stream",
     "text": [
      " 42%|████▏     | 19/45 [02:35<03:33,  8.23s/it]"
     ]
    },
    {
     "name": "stdout",
     "output_type": "stream",
     "text": [
      "Epoch 19/45 — Loss: 0.9267\n"
     ]
    },
    {
     "name": "stderr",
     "output_type": "stream",
     "text": [
      " 44%|████▍     | 20/45 [02:44<03:25,  8.24s/it]"
     ]
    },
    {
     "name": "stdout",
     "output_type": "stream",
     "text": [
      "Epoch 20/45 — Loss: 0.9104\n"
     ]
    },
    {
     "name": "stderr",
     "output_type": "stream",
     "text": [
      " 47%|████▋     | 21/45 [02:52<03:17,  8.23s/it]"
     ]
    },
    {
     "name": "stdout",
     "output_type": "stream",
     "text": [
      "Epoch 21/45 — Loss: 0.9056\n"
     ]
    },
    {
     "name": "stderr",
     "output_type": "stream",
     "text": [
      " 49%|████▉     | 22/45 [03:00<03:09,  8.22s/it]"
     ]
    },
    {
     "name": "stdout",
     "output_type": "stream",
     "text": [
      "Epoch 22/45 — Loss: 0.8805\n"
     ]
    },
    {
     "name": "stderr",
     "output_type": "stream",
     "text": [
      " 51%|█████     | 23/45 [03:08<03:00,  8.22s/it]"
     ]
    },
    {
     "name": "stdout",
     "output_type": "stream",
     "text": [
      "Epoch 23/45 — Loss: 0.8770\n"
     ]
    },
    {
     "name": "stderr",
     "output_type": "stream",
     "text": [
      " 53%|█████▎    | 24/45 [03:17<02:52,  8.22s/it]"
     ]
    },
    {
     "name": "stdout",
     "output_type": "stream",
     "text": [
      "Epoch 24/45 — Loss: 0.8664\n"
     ]
    },
    {
     "name": "stderr",
     "output_type": "stream",
     "text": [
      " 56%|█████▌    | 25/45 [03:25<02:44,  8.23s/it]"
     ]
    },
    {
     "name": "stdout",
     "output_type": "stream",
     "text": [
      "Epoch 25/45 — Loss: 0.8587\n"
     ]
    },
    {
     "name": "stderr",
     "output_type": "stream",
     "text": [
      " 58%|█████▊    | 26/45 [03:33<02:36,  8.21s/it]"
     ]
    },
    {
     "name": "stdout",
     "output_type": "stream",
     "text": [
      "Epoch 26/45 — Loss: 0.8423\n"
     ]
    },
    {
     "name": "stderr",
     "output_type": "stream",
     "text": [
      " 60%|██████    | 27/45 [03:41<02:27,  8.20s/it]"
     ]
    },
    {
     "name": "stdout",
     "output_type": "stream",
     "text": [
      "Epoch 27/45 — Loss: 0.8315\n"
     ]
    },
    {
     "name": "stderr",
     "output_type": "stream",
     "text": [
      " 62%|██████▏   | 28/45 [03:49<02:19,  8.21s/it]"
     ]
    },
    {
     "name": "stdout",
     "output_type": "stream",
     "text": [
      "Epoch 28/45 — Loss: 0.8231\n"
     ]
    },
    {
     "name": "stderr",
     "output_type": "stream",
     "text": [
      " 64%|██████▍   | 29/45 [03:58<02:11,  8.22s/it]"
     ]
    },
    {
     "name": "stdout",
     "output_type": "stream",
     "text": [
      "Epoch 29/45 — Loss: 0.8231\n"
     ]
    },
    {
     "name": "stderr",
     "output_type": "stream",
     "text": [
      " 67%|██████▋   | 30/45 [04:06<02:02,  8.20s/it]"
     ]
    },
    {
     "name": "stdout",
     "output_type": "stream",
     "text": [
      "Epoch 30/45 — Loss: 0.8067\n"
     ]
    },
    {
     "name": "stderr",
     "output_type": "stream",
     "text": [
      " 69%|██████▉   | 31/45 [04:14<01:54,  8.19s/it]"
     ]
    },
    {
     "name": "stdout",
     "output_type": "stream",
     "text": [
      "Epoch 31/45 — Loss: 0.7944\n"
     ]
    },
    {
     "name": "stderr",
     "output_type": "stream",
     "text": [
      " 71%|███████   | 32/45 [04:22<01:46,  8.22s/it]"
     ]
    },
    {
     "name": "stdout",
     "output_type": "stream",
     "text": [
      "Epoch 32/45 — Loss: 0.7880\n"
     ]
    },
    {
     "name": "stderr",
     "output_type": "stream",
     "text": [
      " 73%|███████▎  | 33/45 [04:30<01:38,  8.19s/it]"
     ]
    },
    {
     "name": "stdout",
     "output_type": "stream",
     "text": [
      "Epoch 33/45 — Loss: 0.7691\n"
     ]
    },
    {
     "name": "stderr",
     "output_type": "stream",
     "text": [
      " 76%|███████▌  | 34/45 [04:38<01:29,  8.18s/it]"
     ]
    },
    {
     "name": "stdout",
     "output_type": "stream",
     "text": [
      "Epoch 34/45 — Loss: 0.7673\n"
     ]
    },
    {
     "name": "stderr",
     "output_type": "stream",
     "text": [
      " 78%|███████▊  | 35/45 [04:47<01:21,  8.19s/it]"
     ]
    },
    {
     "name": "stdout",
     "output_type": "stream",
     "text": [
      "Epoch 35/45 — Loss: 0.7636\n"
     ]
    },
    {
     "name": "stderr",
     "output_type": "stream",
     "text": [
      " 80%|████████  | 36/45 [04:55<01:13,  8.20s/it]"
     ]
    },
    {
     "name": "stdout",
     "output_type": "stream",
     "text": [
      "Epoch 36/45 — Loss: 0.7389\n"
     ]
    },
    {
     "name": "stderr",
     "output_type": "stream",
     "text": [
      " 82%|████████▏ | 37/45 [05:03<01:05,  8.18s/it]"
     ]
    },
    {
     "name": "stdout",
     "output_type": "stream",
     "text": [
      "Epoch 37/45 — Loss: 0.7392\n"
     ]
    },
    {
     "name": "stderr",
     "output_type": "stream",
     "text": [
      " 84%|████████▍ | 38/45 [05:11<00:57,  8.17s/it]"
     ]
    },
    {
     "name": "stdout",
     "output_type": "stream",
     "text": [
      "Epoch 38/45 — Loss: 0.7307\n"
     ]
    },
    {
     "name": "stderr",
     "output_type": "stream",
     "text": [
      " 87%|████████▋ | 39/45 [05:19<00:48,  8.16s/it]"
     ]
    },
    {
     "name": "stdout",
     "output_type": "stream",
     "text": [
      "Epoch 39/45 — Loss: 0.7222\n"
     ]
    },
    {
     "name": "stderr",
     "output_type": "stream",
     "text": [
      " 89%|████████▉ | 40/45 [05:27<00:40,  8.16s/it]"
     ]
    },
    {
     "name": "stdout",
     "output_type": "stream",
     "text": [
      "Epoch 40/45 — Loss: 0.7168\n"
     ]
    },
    {
     "name": "stderr",
     "output_type": "stream",
     "text": [
      " 91%|█████████ | 41/45 [05:36<00:32,  8.15s/it]"
     ]
    },
    {
     "name": "stdout",
     "output_type": "stream",
     "text": [
      "Epoch 41/45 — Loss: 0.7144\n"
     ]
    },
    {
     "name": "stderr",
     "output_type": "stream",
     "text": [
      " 93%|█████████▎| 42/45 [05:44<00:24,  8.16s/it]"
     ]
    },
    {
     "name": "stdout",
     "output_type": "stream",
     "text": [
      "Epoch 42/45 — Loss: 0.7106\n"
     ]
    },
    {
     "name": "stderr",
     "output_type": "stream",
     "text": [
      " 96%|█████████▌| 43/45 [05:52<00:16,  8.19s/it]"
     ]
    },
    {
     "name": "stdout",
     "output_type": "stream",
     "text": [
      "Epoch 43/45 — Loss: 0.6976\n"
     ]
    },
    {
     "name": "stderr",
     "output_type": "stream",
     "text": [
      " 98%|█████████▊| 44/45 [06:00<00:08,  8.20s/it]"
     ]
    },
    {
     "name": "stdout",
     "output_type": "stream",
     "text": [
      "Epoch 44/45 — Loss: 0.6933\n"
     ]
    },
    {
     "name": "stderr",
     "output_type": "stream",
     "text": [
      "100%|██████████| 45/45 [06:08<00:00,  8.20s/it]"
     ]
    },
    {
     "name": "stdout",
     "output_type": "stream",
     "text": [
      "Epoch 45/45 — Loss: 0.6812\n"
     ]
    },
    {
     "name": "stderr",
     "output_type": "stream",
     "text": [
      "\n"
     ]
    }
   ],
   "source": [
    "from tqdm import tqdm\n",
    "import torch.nn as nn\n",
    "\n",
    "model = CamembertMultiTaskModel().to(device)\n",
    "optimizer = torch.optim.Adam(model.parameters(), lr=1e-5)\n",
    "\n",
    "loss_fn = nn.CrossEntropyLoss()\n",
    "num_epochs = 45\n",
    "\n",
    "for epoch in tqdm(range(num_epochs)):\n",
    "    model.train()\n",
    "    total_loss = 0\n",
    "\n",
    "    for batch in train_loader:\n",
    "        input_ids = batch['input_ids'].to(device)\n",
    "        attention_mask = batch['attention_mask'].to(device)\n",
    "        labels_cls = batch['class_labels'].to(device) \n",
    "        pred_cls = model(input_ids, attention_mask)  \n",
    "        loss_cls = 0\n",
    "        for i in range(7):\n",
    "            loss_cls += loss_fn(pred_cls[:, i, :], labels_cls[:, i])\n",
    "        loss_cls = loss_cls / 7 \n",
    "        optimizer.zero_grad()\n",
    "        loss_cls.backward()\n",
    "        optimizer.step()\n",
    "        total_loss += loss_cls.item()\n",
    "        avg_loss = total_loss / len(train_loader)\n",
    "    print(f\"Epoch {epoch+1}/{num_epochs} — Loss: {avg_loss:.4f}\")\n"
   ]
  },
  {
   "cell_type": "code",
   "execution_count": 42,
   "id": "a6acac4c-2c84-4c0e-bf40-ded8863212c1",
   "metadata": {},
   "outputs": [
    {
     "name": "stdout",
     "output_type": "stream",
     "text": [
      "[Moyenne des classes] MSE: 0.1524 | R²: 0.3267\n"
     ]
    }
   ],
   "source": [
    "from sklearn.metrics import mean_squared_error, r2_score\n",
    "import numpy as np\n",
    "\n",
    "model.eval()\n",
    "all_preds = []\n",
    "all_true = []\n",
    "\n",
    "with torch.no_grad():\n",
    "    for batch in test_loader:\n",
    "        input_ids = batch[\"input_ids\"].to(device)\n",
    "        attention_mask = batch[\"attention_mask\"].to(device)\n",
    "        labels = batch[\"class_labels\"].to(device)  # [batch, 7]\n",
    "\n",
    "        logits = model(input_ids, attention_mask)  # [batch, 7, 3]\n",
    "        preds = torch.argmax(logits, dim=2)        # [batch, 7]\n",
    "\n",
    "        all_preds.extend(preds.cpu().numpy())      \n",
    "        all_true.extend(labels.cpu().numpy())      # <-- corrigé ici\n",
    "\n",
    "# Convert to arrays\n",
    "all_preds = np.array(all_preds)\n",
    "all_true = np.array(all_true)\n",
    "\n",
    "# Vérification de forme (facultatif)\n",
    "assert all_preds.shape == all_true.shape == (len(test_loader.dataset), 7)\n",
    "\n",
    "# Recode en [-1, 0, 1]\n",
    "all_preds_recoded = all_preds - 1\n",
    "all_true_recoded = all_true - 1\n",
    "\n",
    "# Moyenne des 7 dimensions\n",
    "pred_scores = all_preds_recoded.mean(axis=1)\n",
    "true_scores = all_true_recoded.mean(axis=1)\n",
    "\n",
    "# Évaluation\n",
    "mse = mean_squared_error(true_scores, pred_scores)\n",
    "r2 = r2_score(true_scores, pred_scores)\n",
    "\n",
    "print(f\"[Moyenne des classes] MSE: {mse:.4f} | R²: {r2:.4f}\")\n"
   ]
  },
  {
   "cell_type": "code",
   "execution_count": 43,
   "id": "a505524b-16ef-41b5-93c1-96f61dfcc9a2",
   "metadata": {},
   "outputs": [
    {
     "name": "stdout",
     "output_type": "stream",
     "text": [
      "\n",
      "--- voc_violence ---\n",
      "              precision    recall  f1-score   support\n",
      "\n",
      "          -1      0.000     0.000     0.000         2\n",
      "           0      0.833     0.882     0.857        17\n",
      "           1      0.833     0.909     0.870        11\n",
      "\n",
      "    accuracy                          0.833        30\n",
      "   macro avg      0.556     0.597     0.576        30\n",
      "weighted avg      0.778     0.833     0.805        30\n",
      "\n",
      "\n",
      "--- hierar ---\n",
      "              precision    recall  f1-score   support\n",
      "\n",
      "          -1      1.000     0.400     0.571        10\n",
      "           0      1.000     0.600     0.750         5\n",
      "           1      0.652     1.000     0.789        15\n",
      "\n",
      "    accuracy                          0.733        30\n",
      "   macro avg      0.884     0.667     0.704        30\n",
      "weighted avg      0.826     0.733     0.710        30\n",
      "\n",
      "\n",
      "--- portrait_victime ---\n",
      "              precision    recall  f1-score   support\n",
      "\n",
      "          -1      0.000     0.000     0.000         3\n",
      "           0      0.625     0.769     0.690        13\n",
      "           1      0.786     0.786     0.786        14\n",
      "\n",
      "    accuracy                          0.700        30\n",
      "   macro avg      0.470     0.518     0.492        30\n",
      "weighted avg      0.637     0.700     0.666        30\n",
      "\n",
      "\n",
      "--- portrait_auteur ---\n",
      "              precision    recall  f1-score   support\n",
      "\n",
      "          -1      1.000     0.333     0.500         3\n",
      "           0      0.667     0.545     0.600        11\n",
      "           1      0.700     0.875     0.778        16\n",
      "\n",
      "    accuracy                          0.700        30\n",
      "   macro avg      0.789     0.585     0.626        30\n",
      "weighted avg      0.718     0.700     0.685        30\n",
      "\n",
      "\n",
      "--- relation ---\n",
      "              precision    recall  f1-score   support\n",
      "\n",
      "          -1      0.000     0.000     0.000         1\n",
      "           0      0.750     0.882     0.811        17\n",
      "           1      0.800     0.667     0.727        12\n",
      "\n",
      "    accuracy                          0.767        30\n",
      "   macro avg      0.517     0.516     0.513        30\n",
      "weighted avg      0.745     0.767     0.750        30\n",
      "\n",
      "\n",
      "--- meanisme_violence ---\n",
      "              precision    recall  f1-score   support\n",
      "\n",
      "          -1      0.917     0.917     0.917        12\n",
      "           0      0.625     0.500     0.556        10\n",
      "           1      0.500     0.625     0.556         8\n",
      "\n",
      "    accuracy                          0.700        30\n",
      "   macro avg      0.681     0.681     0.676        30\n",
      "weighted avg      0.708     0.700     0.700        30\n",
      "\n",
      "\n",
      "--- stat ---\n",
      "              precision    recall  f1-score   support\n",
      "\n",
      "          -1      0.818     0.947     0.878        19\n",
      "           0      0.667     0.500     0.571         4\n",
      "           1      0.800     0.571     0.667         7\n",
      "\n",
      "    accuracy                          0.800        30\n",
      "   macro avg      0.762     0.673     0.705        30\n",
      "weighted avg      0.794     0.800     0.788        30\n",
      "\n"
     ]
    }
   ],
   "source": [
    "from sklearn.metrics import classification_report\n",
    "import numpy as np\n",
    "\n",
    "\n",
    "y_pred = np.array(all_preds)     \n",
    "y_true = np.array(all_true)\n",
    "\n",
    "\n",
    "y_pred_recoded = y_pred - 1\n",
    "y_true_recoded = y_true - 1\n",
    "\n",
    "for i, col in enumerate(label_cols):\n",
    "    print(f\"\\n--- {col} ---\")\n",
    "    print(classification_report(y_true_recoded[:, i], y_pred_recoded[:, i], digits=3, zero_division=0))\n",
    "\n"
   ]
  },
  {
   "cell_type": "code",
   "execution_count": 68,
   "id": "2c27fd77-fe76-41df-8417-28f0ee15e404",
   "metadata": {},
   "outputs": [
    {
     "name": "stderr",
     "output_type": "stream",
     "text": [
      "100%|██████████| 185/185 [01:13<00:00,  2.51it/s]\n"
     ]
    }
   ],
   "source": [
    "df_all = pd.read_csv(\"Data/articles_actualite.csv\")\n",
    "df_annotated = pd.read_csv(\"Annotations/scores.csv\")  # ton fichier d’annotations\n",
    "df_all = df_all.merge(df_annotated, on=\"identifiant\", how=\"left\")\n",
    "df_all[\"texte_total\"] = df_all[\"titre\"].fillna(\"\") + \" \" + df_all[\"texte\"].fillna(\"\")\n",
    "df_to_predict = df_all[df_all[label_cols].isnull().any(axis=1)].copy()\n",
    "df_to_predict[\"index\"] = df_to_predict.index\n",
    "predict_dataset = MultiTaskDataset(df_to_predict, tokenizer, label_cols=label_cols, inference=True)\n",
    "predict_loader = DataLoader(predict_dataset, batch_size=16, shuffle=False)\n",
    "\n",
    "\n",
    "model.eval()\n",
    "pred_labels = []\n",
    "pred_scores = []\n",
    "original_idx = df_to_predict[\"index\"].values\n",
    "\n",
    "with torch.no_grad():\n",
    "    for batch in tqdm(predict_loader):\n",
    "        input_ids = batch[\"input_ids\"].to(device)\n",
    "        attention_mask = batch[\"attention_mask\"].to(device)\n",
    "\n",
    "        logits = model(input_ids, attention_mask)       \n",
    "        preds = torch.argmax(logits, dim=2)            \n",
    "        preds = preds.cpu().numpy() - 1                 \n",
    "\n",
    "        pred_labels.extend(preds)\n",
    "        pred_scores.extend(preds.mean(axis=1))\n"
   ]
  },
  {
   "cell_type": "code",
   "execution_count": 70,
   "id": "7f760763-4d77-4814-895a-740a3ac1384f",
   "metadata": {},
   "outputs": [],
   "source": [
    "df_all[\"index\"] = df_all.index\n",
    "pred_labels_np = np.array(pred_labels)  # Convertir en tableau NumPy\n",
    "pred_df = pd.DataFrame(pred_labels_np, columns=[col + \"_pred\" for col in label_cols])\n",
    "\n",
    "# Ajouter les scores prédits et l'index\n",
    "pred_df[\"score_pred\"] = pred_scores\n",
    "pred_df[\"index\"] = df_to_predict[\"index\"].values  # Utilise 'index' de df_to_predict\n",
    "\n",
    "# Fusionner les prédictions avec df_all\n",
    "df_merged = df_all.merge(pred_df, on=\"index\", how=\"left\")\n",
    "\n",
    "# Compléter les scores manquants\n",
    "df_merged[\"score_final\"] = df_merged[\"score\"].fillna(df_merged[\"score_pred\"])\n",
    "\n",
    "# Compléter les colonnes de labels (voc_violence, hierar, etc.)\n",
    "for col in label_cols:\n",
    "    df_merged[f\"{col}_final\"] = df_merged[col].fillna(df_merged[f\"{col}_pred\"])"
   ]
  },
  {
   "cell_type": "code",
   "execution_count": 76,
   "id": "bf60f8e2-e889-4df1-ba79-80725d0e3386",
   "metadata": {},
   "outputs": [],
   "source": [
    "df_merged.to_csv('Data/scored_articles.csv')"
   ]
  }
 ],
 "metadata": {
  "kernelspec": {
   "display_name": "Python 3 (ipykernel)",
   "language": "python",
   "name": "python3"
  },
  "language_info": {
   "codemirror_mode": {
    "name": "ipython",
    "version": 3
   },
   "file_extension": ".py",
   "mimetype": "text/x-python",
   "name": "python",
   "nbconvert_exporter": "python",
   "pygments_lexer": "ipython3",
   "version": "3.12.9"
  }
 },
 "nbformat": 4,
 "nbformat_minor": 5
}
